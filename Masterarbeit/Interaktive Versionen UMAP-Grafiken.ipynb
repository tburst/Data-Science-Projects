{
 "cells": [
  {
   "cell_type": "markdown",
   "metadata": {},
   "source": [
    "### Abbildung 2 - Wortvektoren der Ländernamen differenziert nach UN-Regionalgruppen (1996-1999)"
   ]
  },
  {
   "cell_type": "code",
   "execution_count": 1,
   "metadata": {},
   "outputs": [],
   "source": [
    "import pandas as pd\n",
    "import umap\n",
    "import seaborn as sns\n",
    "import matplotlib\n",
    "import matplotlib.pyplot as plt\n",
    "import plotly\n",
    "import plotly.graph_objs as go\n",
    "\n",
    "%matplotlib inline\n",
    "matplotlib.style.use('seaborn-white')"
   ]
  },
  {
   "cell_type": "code",
   "execution_count": 3,
   "metadata": {},
   "outputs": [],
   "source": [
    "country_groups_df = pd.read_csv(\"Country_Groups.csv\", sep=\";\", engine=\"python\", encoding=\"utf-8\", names= [\"Land\",\"UN_AfricanGroup\",\"UN_AsiaGroup\",\"UN_EastEUGroup\",\"UN_LatinAmerica\",\"UN_WestEuropeGroup\",\"ArabischeLiga\",\"ASEAN\",\"Benelux\",\"BRICS\",\"G4\",\"G8\",\"G8_5\",\"G20\",\"Next11\",\"OPAC\",\"Mercosur\",\"P5\",\"Visegrad\"])\n",
    "country_groups_df.set_index(\"Land\", inplace=True)\n",
    "country_groups_df.drop(\"Land\",axis=0,inplace=True)"
   ]
  },
  {
   "cell_type": "code",
   "execution_count": 5,
   "metadata": {},
   "outputs": [],
   "source": [
    "vector_df = pd.read_csv(r\"Country_Vectors\\year1996-1999_fixedModel_CountryVectors.csv\")\n",
    "vector_df.set_index(\"Country\", inplace=True)"
   ]
  },
  {
   "cell_type": "code",
   "execution_count": 6,
   "metadata": {},
   "outputs": [],
   "source": [
    "embedding = umap.UMAP(random_state=0,metric=\"cosine\").fit_transform(vector_df)\n",
    "vector_df[\"X_UMAP\"] = list(embedding[:,0])\n",
    "vector_df[\"Y_UMAP\"] = list(embedding[:,1])"
   ]
  },
  {
   "cell_type": "code",
   "execution_count": 7,
   "metadata": {},
   "outputs": [],
   "source": [
    "for column in country_groups_df.columns:\n",
    "    groups_list = []\n",
    "    for index, row in vector_df.iterrows():\n",
    "        country_name = index\n",
    "        country_name = country_name.replace(\"_\",\" \")\n",
    "        if country_name in country_groups_df.index:\n",
    "            group = country_groups_df[country_groups_df.index == country_name][column].values[0]\n",
    "        else:\n",
    "            print(country_name)\n",
    "            group = None\n",
    "        groups_list.append(group)\n",
    "    vector_df[column] = groups_list"
   ]
  },
  {
   "cell_type": "code",
   "execution_count": 8,
   "metadata": {},
   "outputs": [],
   "source": [
    "un_groups = {\"UN_AfricanGroup\":\"Afrika\",\"UN_AsiaGroup\":\"Asien\",\"UN_EastEUGroup\":\"Osteuropa\",\"UN_LatinAmerica\":\"Lateinamerika\",\"UN_WestEuropeGroup\":\"Westeuropa\"}\n",
    "groups_list = []\n",
    "\n",
    "for index, row in vector_df.iterrows():\n",
    "    for group in un_groups:\n",
    "        if row[group] == 1:\n",
    "            groups_list.append(un_groups[group])\n",
    "            \n",
    "vector_df[\"UN-Regionalgruppen\"] = groups_list"
   ]
  },
  {
   "cell_type": "code",
   "execution_count": 13,
   "metadata": {},
   "outputs": [
    {
     "data": {
      "application/vnd.plotly.v1+json": {
       "config": {
        "linkText": "Export to plot.ly",
        "plotlyServerURL": "https://plot.ly",
        "showLink": false
       },
       "data": [
        {
         "mode": "markers",
         "name": "Westeuropa",
         "text": [
          "australien",
          "belgien",
          "dänemark",
          "finnland",
          "frankreich",
          "griechenland",
          "irland",
          "island",
          "israel",
          "italien",
          "kanada",
          "luxemburg",
          "malta",
          "neuseeland",
          "niederlande",
          "norwegen",
          "österreich",
          "portugal",
          "schweden",
          "schweiz",
          "spanien",
          "türkei",
          "usa",
          "vereinigtes_königreich"
         ],
         "textposition": "middle right",
         "type": "scatter",
         "x": [
          2.2809996604919434,
          2.3444902896881104,
          1.751684546470642,
          1.348679542541504,
          2.2215147018432617,
          2.353433609008789,
          1.9095951318740845,
          1.1129690408706665,
          2.021660804748535,
          2.298129081726074,
          2.370467185974121,
          1.6831170320510864,
          -0.2516690790653229,
          2.0629847049713135,
          1.6665054559707642,
          1.5527368783950806,
          1.8247050046920776,
          2.1982505321502686,
          1.7220956087112427,
          1.9629312753677368,
          2.1210834980010986,
          1.622434377670288,
          2.7228782176971436,
          2.356996536254883
         ],
         "y": [
          -2.309187173843384,
          -3.573563575744629,
          -3.789957284927368,
          -3.3028926849365234,
          -3.521580219268799,
          -4.141488075256348,
          -4.113702774047852,
          -2.8614258766174316,
          0.2708273231983185,
          -3.9401767253875732,
          -2.3443400859832764,
          -3.760225772857666,
          -1.2198200225830078,
          -2.6484615802764893,
          -3.464902877807617,
          -3.144740104675293,
          -3.67680025100708,
          -4.148169040679932,
          -3.368415594100952,
          -3.429821252822876,
          -3.930522918701172,
          0.5895119309425354,
          -2.017786741256714,
          -3.3437983989715576
         ]
        },
        {
         "mode": "markers",
         "name": "Afrika",
         "text": [
          "ägypten",
          "algerien",
          "angola",
          "äthiopien",
          "ghana",
          "kenia",
          "kongo",
          "libyen",
          "mali",
          "mosambik",
          "namibia",
          "niger",
          "nigeria",
          "ruanda",
          "senegal",
          "somalia",
          "südafrika",
          "sudan",
          "südsudan",
          "tansania",
          "uganda"
         ],
         "textposition": "middle right",
         "type": "scatter",
         "x": [
          2.463658571243286,
          1.6107428073883057,
          1.992824673652649,
          2.5046885013580322,
          2.8328335285186768,
          2.5627784729003906,
          1.7824608087539673,
          2.1404573917388916,
          2.8055403232574463,
          2.2386438846588135,
          3.0787103176116943,
          2.8465964794158936,
          2.4116151332855225,
          1.8777258396148682,
          2.7610087394714355,
          2.0487751960754395,
          3.5482230186462402,
          1.777327299118042,
          1.5765024423599243,
          2.3065640926361084,
          2.6282012462615967
         ],
         "y": [
          1.5952383279800415,
          1.202194094657898,
          2.591765880584717,
          2.618549346923828,
          2.2162327766418457,
          2.01497745513916,
          2.522632122039795,
          0.8716381192207336,
          2.390232563018799,
          2.29909610748291,
          1.9712910652160645,
          2.7825284004211426,
          2.3302552700042725,
          2.7881107330322266,
          2.572397470474243,
          2.127446413040161,
          1.455203652381897,
          1.8925964832305908,
          2.397804021835327,
          2.891620635986328,
          2.7207412719726562
         ]
        },
        {
         "mode": "markers",
         "name": "Osteuropa",
         "text": [
          "albanien",
          "armenien",
          "aserbaidschan",
          "belarus",
          "bosnien_und_herzegowina",
          "bulgarien",
          "estland",
          "georgien",
          "kroatien",
          "lettland",
          "litauen",
          "mazedonien",
          "montenegro",
          "polen",
          "rumänien",
          "serbien",
          "slowakei",
          "slowenien",
          "tschechien",
          "ukraine",
          "ungarn"
         ],
         "textposition": "middle right",
         "type": "scatter",
         "x": [
          0.08225124329328537,
          1.187025547027588,
          0.8480997681617737,
          -0.1534159928560257,
          -0.09342288225889206,
          -0.5829918384552002,
          -0.5865380764007568,
          0.5912929773330688,
          -0.21159331500530243,
          -0.5082512497901917,
          -0.7004213333129883,
          0.2470300793647766,
          0.3900149166584015,
          -0.776563286781311,
          -1.0456641912460327,
          0.5044544339179993,
          -0.8626800775527954,
          -0.9926439523696899,
          -0.810815155506134,
          -0.31868094205856323,
          -0.8443048596382141
         ],
         "y": [
          0.92524653673172,
          0.3843071162700653,
          0.5137034058570862,
          -0.23594629764556885,
          0.7700414657592773,
          -0.6781478524208069,
          -1.3876107931137085,
          0.3875720798969269,
          0.5294243693351746,
          -1.5295968055725098,
          -1.5021557807922363,
          1.0937597751617432,
          1.0154844522476196,
          -1.0291606187820435,
          -1.380580186843872,
          0.9749716520309448,
          -0.8454843759536743,
          -1.307861566543579,
          -1.129302978515625,
          -0.5120413899421692,
          -1.1762051582336426
         ]
        },
        {
         "mode": "markers",
         "name": "Asien",
         "text": [
          "afghanistan",
          "bangladesch",
          "china",
          "hongkong",
          "indien",
          "indonesien",
          "irak",
          "iran",
          "japan",
          "kambodscha",
          "kasachstan",
          "malaysia",
          "nepal",
          "nordkorea",
          "pakistan",
          "philippinen",
          "saudi_arabien",
          "singapur",
          "südkorea",
          "syrien",
          "thailand",
          "vietnam",
          "zypern"
         ],
         "textposition": "middle right",
         "type": "scatter",
         "x": [
          2.017608165740967,
          3.2112574577331543,
          2.8399832248687744,
          3.352198362350464,
          3.185781955718994,
          2.935222625732422,
          1.876366376876831,
          1.8305437564849854,
          2.6410303115844727,
          1.8244686126708984,
          0.7634223103523254,
          3.671339273452759,
          3.1107969284057617,
          2.3659515380859375,
          3.0397281646728516,
          3.6685330867767334,
          2.443345785140991,
          3.191511392593384,
          3.6390981674194336,
          1.78518545627594,
          3.542940378189087,
          3.487597942352295,
          -0.05618422105908394
         ],
         "y": [
          1.6094363927841187,
          2.570939779281616,
          0.06001409888267517,
          -0.39662280678749084,
          0.43678030371665955,
          0.5998731255531311,
          0.8887776136398315,
          0.5215225219726562,
          -2.1471879482269287,
          2.120497703552246,
          0.12253891676664352,
          0.3301577866077423,
          1.3555638790130615,
          0.6651042699813843,
          0.34320852160453796,
          -0.3552797734737396,
          0.877842903137207,
          -0.34286847710609436,
          -0.03727661818265915,
          1.0859893560409546,
          -0.07671105116605759,
          0.793218731880188,
          -1.0273059606552124
         ]
        },
        {
         "mode": "markers",
         "name": "Lateinamerika",
         "text": [
          "argentinien",
          "brasilien",
          "chile",
          "kolumbien",
          "kuba",
          "mexiko"
         ],
         "textposition": "middle right",
         "type": "scatter",
         "x": [
          3.9777400493621826,
          3.9723761081695557,
          3.760366439819336,
          1.6748780012130737,
          2.6250081062316895,
          3.761842727661133
         ],
         "y": [
          0.3179563879966736,
          0.5439692139625549,
          1.156480073928833,
          2.031801462173462,
          0.42808225750923157,
          0.7454932928085327
         ]
        }
       ],
       "layout": {
        "autosize": true,
        "plot_bgcolor": "rgb(255, 255, 255)",
        "template": {
         "data": {
          "bar": [
           {
            "error_x": {
             "color": "#2a3f5f"
            },
            "error_y": {
             "color": "#2a3f5f"
            },
            "marker": {
             "line": {
              "color": "#E5ECF6",
              "width": 0.5
             }
            },
            "type": "bar"
           }
          ],
          "barpolar": [
           {
            "marker": {
             "line": {
              "color": "#E5ECF6",
              "width": 0.5
             }
            },
            "type": "barpolar"
           }
          ],
          "carpet": [
           {
            "aaxis": {
             "endlinecolor": "#2a3f5f",
             "gridcolor": "white",
             "linecolor": "white",
             "minorgridcolor": "white",
             "startlinecolor": "#2a3f5f"
            },
            "baxis": {
             "endlinecolor": "#2a3f5f",
             "gridcolor": "white",
             "linecolor": "white",
             "minorgridcolor": "white",
             "startlinecolor": "#2a3f5f"
            },
            "type": "carpet"
           }
          ],
          "choropleth": [
           {
            "colorbar": {
             "outlinewidth": 0,
             "ticks": ""
            },
            "type": "choropleth"
           }
          ],
          "contour": [
           {
            "colorbar": {
             "outlinewidth": 0,
             "ticks": ""
            },
            "colorscale": [
             [
              0,
              "#0d0887"
             ],
             [
              0.1111111111111111,
              "#46039f"
             ],
             [
              0.2222222222222222,
              "#7201a8"
             ],
             [
              0.3333333333333333,
              "#9c179e"
             ],
             [
              0.4444444444444444,
              "#bd3786"
             ],
             [
              0.5555555555555556,
              "#d8576b"
             ],
             [
              0.6666666666666666,
              "#ed7953"
             ],
             [
              0.7777777777777778,
              "#fb9f3a"
             ],
             [
              0.8888888888888888,
              "#fdca26"
             ],
             [
              1,
              "#f0f921"
             ]
            ],
            "type": "contour"
           }
          ],
          "contourcarpet": [
           {
            "colorbar": {
             "outlinewidth": 0,
             "ticks": ""
            },
            "type": "contourcarpet"
           }
          ],
          "heatmap": [
           {
            "colorbar": {
             "outlinewidth": 0,
             "ticks": ""
            },
            "colorscale": [
             [
              0,
              "#0d0887"
             ],
             [
              0.1111111111111111,
              "#46039f"
             ],
             [
              0.2222222222222222,
              "#7201a8"
             ],
             [
              0.3333333333333333,
              "#9c179e"
             ],
             [
              0.4444444444444444,
              "#bd3786"
             ],
             [
              0.5555555555555556,
              "#d8576b"
             ],
             [
              0.6666666666666666,
              "#ed7953"
             ],
             [
              0.7777777777777778,
              "#fb9f3a"
             ],
             [
              0.8888888888888888,
              "#fdca26"
             ],
             [
              1,
              "#f0f921"
             ]
            ],
            "type": "heatmap"
           }
          ],
          "heatmapgl": [
           {
            "colorbar": {
             "outlinewidth": 0,
             "ticks": ""
            },
            "colorscale": [
             [
              0,
              "#0d0887"
             ],
             [
              0.1111111111111111,
              "#46039f"
             ],
             [
              0.2222222222222222,
              "#7201a8"
             ],
             [
              0.3333333333333333,
              "#9c179e"
             ],
             [
              0.4444444444444444,
              "#bd3786"
             ],
             [
              0.5555555555555556,
              "#d8576b"
             ],
             [
              0.6666666666666666,
              "#ed7953"
             ],
             [
              0.7777777777777778,
              "#fb9f3a"
             ],
             [
              0.8888888888888888,
              "#fdca26"
             ],
             [
              1,
              "#f0f921"
             ]
            ],
            "type": "heatmapgl"
           }
          ],
          "histogram": [
           {
            "marker": {
             "colorbar": {
              "outlinewidth": 0,
              "ticks": ""
             }
            },
            "type": "histogram"
           }
          ],
          "histogram2d": [
           {
            "colorbar": {
             "outlinewidth": 0,
             "ticks": ""
            },
            "colorscale": [
             [
              0,
              "#0d0887"
             ],
             [
              0.1111111111111111,
              "#46039f"
             ],
             [
              0.2222222222222222,
              "#7201a8"
             ],
             [
              0.3333333333333333,
              "#9c179e"
             ],
             [
              0.4444444444444444,
              "#bd3786"
             ],
             [
              0.5555555555555556,
              "#d8576b"
             ],
             [
              0.6666666666666666,
              "#ed7953"
             ],
             [
              0.7777777777777778,
              "#fb9f3a"
             ],
             [
              0.8888888888888888,
              "#fdca26"
             ],
             [
              1,
              "#f0f921"
             ]
            ],
            "type": "histogram2d"
           }
          ],
          "histogram2dcontour": [
           {
            "colorbar": {
             "outlinewidth": 0,
             "ticks": ""
            },
            "colorscale": [
             [
              0,
              "#0d0887"
             ],
             [
              0.1111111111111111,
              "#46039f"
             ],
             [
              0.2222222222222222,
              "#7201a8"
             ],
             [
              0.3333333333333333,
              "#9c179e"
             ],
             [
              0.4444444444444444,
              "#bd3786"
             ],
             [
              0.5555555555555556,
              "#d8576b"
             ],
             [
              0.6666666666666666,
              "#ed7953"
             ],
             [
              0.7777777777777778,
              "#fb9f3a"
             ],
             [
              0.8888888888888888,
              "#fdca26"
             ],
             [
              1,
              "#f0f921"
             ]
            ],
            "type": "histogram2dcontour"
           }
          ],
          "mesh3d": [
           {
            "colorbar": {
             "outlinewidth": 0,
             "ticks": ""
            },
            "type": "mesh3d"
           }
          ],
          "parcoords": [
           {
            "line": {
             "colorbar": {
              "outlinewidth": 0,
              "ticks": ""
             }
            },
            "type": "parcoords"
           }
          ],
          "scatter": [
           {
            "marker": {
             "colorbar": {
              "outlinewidth": 0,
              "ticks": ""
             }
            },
            "type": "scatter"
           }
          ],
          "scatter3d": [
           {
            "line": {
             "colorbar": {
              "outlinewidth": 0,
              "ticks": ""
             }
            },
            "marker": {
             "colorbar": {
              "outlinewidth": 0,
              "ticks": ""
             }
            },
            "type": "scatter3d"
           }
          ],
          "scattercarpet": [
           {
            "marker": {
             "colorbar": {
              "outlinewidth": 0,
              "ticks": ""
             }
            },
            "type": "scattercarpet"
           }
          ],
          "scattergeo": [
           {
            "marker": {
             "colorbar": {
              "outlinewidth": 0,
              "ticks": ""
             }
            },
            "type": "scattergeo"
           }
          ],
          "scattergl": [
           {
            "marker": {
             "colorbar": {
              "outlinewidth": 0,
              "ticks": ""
             }
            },
            "type": "scattergl"
           }
          ],
          "scattermapbox": [
           {
            "marker": {
             "colorbar": {
              "outlinewidth": 0,
              "ticks": ""
             }
            },
            "type": "scattermapbox"
           }
          ],
          "scatterpolar": [
           {
            "marker": {
             "colorbar": {
              "outlinewidth": 0,
              "ticks": ""
             }
            },
            "type": "scatterpolar"
           }
          ],
          "scatterpolargl": [
           {
            "marker": {
             "colorbar": {
              "outlinewidth": 0,
              "ticks": ""
             }
            },
            "type": "scatterpolargl"
           }
          ],
          "scatterternary": [
           {
            "marker": {
             "colorbar": {
              "outlinewidth": 0,
              "ticks": ""
             }
            },
            "type": "scatterternary"
           }
          ],
          "surface": [
           {
            "colorbar": {
             "outlinewidth": 0,
             "ticks": ""
            },
            "colorscale": [
             [
              0,
              "#0d0887"
             ],
             [
              0.1111111111111111,
              "#46039f"
             ],
             [
              0.2222222222222222,
              "#7201a8"
             ],
             [
              0.3333333333333333,
              "#9c179e"
             ],
             [
              0.4444444444444444,
              "#bd3786"
             ],
             [
              0.5555555555555556,
              "#d8576b"
             ],
             [
              0.6666666666666666,
              "#ed7953"
             ],
             [
              0.7777777777777778,
              "#fb9f3a"
             ],
             [
              0.8888888888888888,
              "#fdca26"
             ],
             [
              1,
              "#f0f921"
             ]
            ],
            "type": "surface"
           }
          ],
          "table": [
           {
            "cells": {
             "fill": {
              "color": "#EBF0F8"
             },
             "line": {
              "color": "white"
             }
            },
            "header": {
             "fill": {
              "color": "#C8D4E3"
             },
             "line": {
              "color": "white"
             }
            },
            "type": "table"
           }
          ]
         },
         "layout": {
          "annotationdefaults": {
           "arrowcolor": "#2a3f5f",
           "arrowhead": 0,
           "arrowwidth": 1
          },
          "colorscale": {
           "diverging": [
            [
             0,
             "#8e0152"
            ],
            [
             0.1,
             "#c51b7d"
            ],
            [
             0.2,
             "#de77ae"
            ],
            [
             0.3,
             "#f1b6da"
            ],
            [
             0.4,
             "#fde0ef"
            ],
            [
             0.5,
             "#f7f7f7"
            ],
            [
             0.6,
             "#e6f5d0"
            ],
            [
             0.7,
             "#b8e186"
            ],
            [
             0.8,
             "#7fbc41"
            ],
            [
             0.9,
             "#4d9221"
            ],
            [
             1,
             "#276419"
            ]
           ],
           "sequential": [
            [
             0,
             "#0d0887"
            ],
            [
             0.1111111111111111,
             "#46039f"
            ],
            [
             0.2222222222222222,
             "#7201a8"
            ],
            [
             0.3333333333333333,
             "#9c179e"
            ],
            [
             0.4444444444444444,
             "#bd3786"
            ],
            [
             0.5555555555555556,
             "#d8576b"
            ],
            [
             0.6666666666666666,
             "#ed7953"
            ],
            [
             0.7777777777777778,
             "#fb9f3a"
            ],
            [
             0.8888888888888888,
             "#fdca26"
            ],
            [
             1,
             "#f0f921"
            ]
           ],
           "sequentialminus": [
            [
             0,
             "#0d0887"
            ],
            [
             0.1111111111111111,
             "#46039f"
            ],
            [
             0.2222222222222222,
             "#7201a8"
            ],
            [
             0.3333333333333333,
             "#9c179e"
            ],
            [
             0.4444444444444444,
             "#bd3786"
            ],
            [
             0.5555555555555556,
             "#d8576b"
            ],
            [
             0.6666666666666666,
             "#ed7953"
            ],
            [
             0.7777777777777778,
             "#fb9f3a"
            ],
            [
             0.8888888888888888,
             "#fdca26"
            ],
            [
             1,
             "#f0f921"
            ]
           ]
          },
          "colorway": [
           "#636efa",
           "#EF553B",
           "#00cc96",
           "#ab63fa",
           "#FFA15A",
           "#19d3f3",
           "#FF6692",
           "#B6E880",
           "#FF97FF",
           "#FECB52"
          ],
          "font": {
           "color": "#2a3f5f"
          },
          "geo": {
           "bgcolor": "white",
           "lakecolor": "white",
           "landcolor": "#E5ECF6",
           "showlakes": true,
           "showland": true,
           "subunitcolor": "white"
          },
          "hoverlabel": {
           "align": "left"
          },
          "hovermode": "closest",
          "mapbox": {
           "style": "light"
          },
          "paper_bgcolor": "white",
          "plot_bgcolor": "#E5ECF6",
          "polar": {
           "angularaxis": {
            "gridcolor": "white",
            "linecolor": "white",
            "ticks": ""
           },
           "bgcolor": "#E5ECF6",
           "radialaxis": {
            "gridcolor": "white",
            "linecolor": "white",
            "ticks": ""
           }
          },
          "scene": {
           "xaxis": {
            "backgroundcolor": "#E5ECF6",
            "gridcolor": "white",
            "gridwidth": 2,
            "linecolor": "white",
            "showbackground": true,
            "ticks": "",
            "zerolinecolor": "white"
           },
           "yaxis": {
            "backgroundcolor": "#E5ECF6",
            "gridcolor": "white",
            "gridwidth": 2,
            "linecolor": "white",
            "showbackground": true,
            "ticks": "",
            "zerolinecolor": "white"
           },
           "zaxis": {
            "backgroundcolor": "#E5ECF6",
            "gridcolor": "white",
            "gridwidth": 2,
            "linecolor": "white",
            "showbackground": true,
            "ticks": "",
            "zerolinecolor": "white"
           }
          },
          "shapedefaults": {
           "line": {
            "color": "#2a3f5f"
           }
          },
          "ternary": {
           "aaxis": {
            "gridcolor": "white",
            "linecolor": "white",
            "ticks": ""
           },
           "baxis": {
            "gridcolor": "white",
            "linecolor": "white",
            "ticks": ""
           },
           "bgcolor": "#E5ECF6",
           "caxis": {
            "gridcolor": "white",
            "linecolor": "white",
            "ticks": ""
           }
          },
          "title": {
           "x": 0.05
          },
          "xaxis": {
           "automargin": true,
           "gridcolor": "white",
           "linecolor": "white",
           "ticks": "",
           "zerolinecolor": "white",
           "zerolinewidth": 2
          },
          "yaxis": {
           "automargin": true,
           "gridcolor": "white",
           "linecolor": "white",
           "ticks": "",
           "zerolinecolor": "white",
           "zerolinewidth": 2
          }
         }
        },
        "xaxis": {
         "title": {
          "text": "X_UMAP"
         }
        },
        "yaxis": {
         "title": {
          "text": "Y_UMAP"
         }
        }
       }
      },
      "text/html": [
       "<div>\n",
       "        \n",
       "        \n",
       "            <div id=\"ecd12666-3885-4eaa-80a3-1dce9aa92db2\" class=\"plotly-graph-div\" style=\"height:525px; width:100%;\"></div>\n",
       "            <script type=\"text/javascript\">\n",
       "                require([\"plotly\"], function(Plotly) {\n",
       "                    window.PLOTLYENV=window.PLOTLYENV || {};\n",
       "                    \n",
       "                if (document.getElementById(\"ecd12666-3885-4eaa-80a3-1dce9aa92db2\")) {\n",
       "                    Plotly.newPlot(\n",
       "                        'ecd12666-3885-4eaa-80a3-1dce9aa92db2',\n",
       "                        [{\"mode\": \"markers\", \"name\": \"Westeuropa\", \"text\": [\"australien\", \"belgien\", \"d\\u00e4nemark\", \"finnland\", \"frankreich\", \"griechenland\", \"irland\", \"island\", \"israel\", \"italien\", \"kanada\", \"luxemburg\", \"malta\", \"neuseeland\", \"niederlande\", \"norwegen\", \"\\u00f6sterreich\", \"portugal\", \"schweden\", \"schweiz\", \"spanien\", \"t\\u00fcrkei\", \"usa\", \"vereinigtes_k\\u00f6nigreich\"], \"textposition\": \"middle right\", \"type\": \"scatter\", \"x\": [2.2809996604919434, 2.3444902896881104, 1.751684546470642, 1.348679542541504, 2.2215147018432617, 2.353433609008789, 1.9095951318740845, 1.1129690408706665, 2.021660804748535, 2.298129081726074, 2.370467185974121, 1.6831170320510864, -0.2516690790653229, 2.0629847049713135, 1.6665054559707642, 1.5527368783950806, 1.8247050046920776, 2.1982505321502686, 1.7220956087112427, 1.9629312753677368, 2.1210834980010986, 1.622434377670288, 2.7228782176971436, 2.356996536254883], \"y\": [-2.309187173843384, -3.573563575744629, -3.789957284927368, -3.3028926849365234, -3.521580219268799, -4.141488075256348, -4.113702774047852, -2.8614258766174316, 0.2708273231983185, -3.9401767253875732, -2.3443400859832764, -3.760225772857666, -1.2198200225830078, -2.6484615802764893, -3.464902877807617, -3.144740104675293, -3.67680025100708, -4.148169040679932, -3.368415594100952, -3.429821252822876, -3.930522918701172, 0.5895119309425354, -2.017786741256714, -3.3437983989715576]}, {\"mode\": \"markers\", \"name\": \"Afrika\", \"text\": [\"\\u00e4gypten\", \"algerien\", \"angola\", \"\\u00e4thiopien\", \"ghana\", \"kenia\", \"kongo\", \"libyen\", \"mali\", \"mosambik\", \"namibia\", \"niger\", \"nigeria\", \"ruanda\", \"senegal\", \"somalia\", \"s\\u00fcdafrika\", \"sudan\", \"s\\u00fcdsudan\", \"tansania\", \"uganda\"], \"textposition\": \"middle right\", \"type\": \"scatter\", \"x\": [2.463658571243286, 1.6107428073883057, 1.992824673652649, 2.5046885013580322, 2.8328335285186768, 2.5627784729003906, 1.7824608087539673, 2.1404573917388916, 2.8055403232574463, 2.2386438846588135, 3.0787103176116943, 2.8465964794158936, 2.4116151332855225, 1.8777258396148682, 2.7610087394714355, 2.0487751960754395, 3.5482230186462402, 1.777327299118042, 1.5765024423599243, 2.3065640926361084, 2.6282012462615967], \"y\": [1.5952383279800415, 1.202194094657898, 2.591765880584717, 2.618549346923828, 2.2162327766418457, 2.01497745513916, 2.522632122039795, 0.8716381192207336, 2.390232563018799, 2.29909610748291, 1.9712910652160645, 2.7825284004211426, 2.3302552700042725, 2.7881107330322266, 2.572397470474243, 2.127446413040161, 1.455203652381897, 1.8925964832305908, 2.397804021835327, 2.891620635986328, 2.7207412719726562]}, {\"mode\": \"markers\", \"name\": \"Osteuropa\", \"text\": [\"albanien\", \"armenien\", \"aserbaidschan\", \"belarus\", \"bosnien_und_herzegowina\", \"bulgarien\", \"estland\", \"georgien\", \"kroatien\", \"lettland\", \"litauen\", \"mazedonien\", \"montenegro\", \"polen\", \"rum\\u00e4nien\", \"serbien\", \"slowakei\", \"slowenien\", \"tschechien\", \"ukraine\", \"ungarn\"], \"textposition\": \"middle right\", \"type\": \"scatter\", \"x\": [0.08225124329328537, 1.187025547027588, 0.8480997681617737, -0.1534159928560257, -0.09342288225889206, -0.5829918384552002, -0.5865380764007568, 0.5912929773330688, -0.21159331500530243, -0.5082512497901917, -0.7004213333129883, 0.2470300793647766, 0.3900149166584015, -0.776563286781311, -1.0456641912460327, 0.5044544339179993, -0.8626800775527954, -0.9926439523696899, -0.810815155506134, -0.31868094205856323, -0.8443048596382141], \"y\": [0.92524653673172, 0.3843071162700653, 0.5137034058570862, -0.23594629764556885, 0.7700414657592773, -0.6781478524208069, -1.3876107931137085, 0.3875720798969269, 0.5294243693351746, -1.5295968055725098, -1.5021557807922363, 1.0937597751617432, 1.0154844522476196, -1.0291606187820435, -1.380580186843872, 0.9749716520309448, -0.8454843759536743, -1.307861566543579, -1.129302978515625, -0.5120413899421692, -1.1762051582336426]}, {\"mode\": \"markers\", \"name\": \"Asien\", \"text\": [\"afghanistan\", \"bangladesch\", \"china\", \"hongkong\", \"indien\", \"indonesien\", \"irak\", \"iran\", \"japan\", \"kambodscha\", \"kasachstan\", \"malaysia\", \"nepal\", \"nordkorea\", \"pakistan\", \"philippinen\", \"saudi_arabien\", \"singapur\", \"s\\u00fcdkorea\", \"syrien\", \"thailand\", \"vietnam\", \"zypern\"], \"textposition\": \"middle right\", \"type\": \"scatter\", \"x\": [2.017608165740967, 3.2112574577331543, 2.8399832248687744, 3.352198362350464, 3.185781955718994, 2.935222625732422, 1.876366376876831, 1.8305437564849854, 2.6410303115844727, 1.8244686126708984, 0.7634223103523254, 3.671339273452759, 3.1107969284057617, 2.3659515380859375, 3.0397281646728516, 3.6685330867767334, 2.443345785140991, 3.191511392593384, 3.6390981674194336, 1.78518545627594, 3.542940378189087, 3.487597942352295, -0.05618422105908394], \"y\": [1.6094363927841187, 2.570939779281616, 0.06001409888267517, -0.39662280678749084, 0.43678030371665955, 0.5998731255531311, 0.8887776136398315, 0.5215225219726562, -2.1471879482269287, 2.120497703552246, 0.12253891676664352, 0.3301577866077423, 1.3555638790130615, 0.6651042699813843, 0.34320852160453796, -0.3552797734737396, 0.877842903137207, -0.34286847710609436, -0.03727661818265915, 1.0859893560409546, -0.07671105116605759, 0.793218731880188, -1.0273059606552124]}, {\"mode\": \"markers\", \"name\": \"Lateinamerika\", \"text\": [\"argentinien\", \"brasilien\", \"chile\", \"kolumbien\", \"kuba\", \"mexiko\"], \"textposition\": \"middle right\", \"type\": \"scatter\", \"x\": [3.9777400493621826, 3.9723761081695557, 3.760366439819336, 1.6748780012130737, 2.6250081062316895, 3.761842727661133], \"y\": [0.3179563879966736, 0.5439692139625549, 1.156480073928833, 2.031801462173462, 0.42808225750923157, 0.7454932928085327]}],\n",
       "                        {\"autosize\": true, \"plot_bgcolor\": \"rgb(255, 255, 255)\", \"template\": {\"data\": {\"bar\": [{\"error_x\": {\"color\": \"#2a3f5f\"}, \"error_y\": {\"color\": \"#2a3f5f\"}, \"marker\": {\"line\": {\"color\": \"#E5ECF6\", \"width\": 0.5}}, \"type\": \"bar\"}], \"barpolar\": [{\"marker\": {\"line\": {\"color\": \"#E5ECF6\", \"width\": 0.5}}, \"type\": \"barpolar\"}], \"carpet\": [{\"aaxis\": {\"endlinecolor\": \"#2a3f5f\", \"gridcolor\": \"white\", \"linecolor\": \"white\", \"minorgridcolor\": \"white\", \"startlinecolor\": \"#2a3f5f\"}, \"baxis\": {\"endlinecolor\": \"#2a3f5f\", \"gridcolor\": \"white\", \"linecolor\": \"white\", \"minorgridcolor\": \"white\", \"startlinecolor\": \"#2a3f5f\"}, \"type\": \"carpet\"}], \"choropleth\": [{\"colorbar\": {\"outlinewidth\": 0, \"ticks\": \"\"}, \"type\": \"choropleth\"}], \"contour\": [{\"colorbar\": {\"outlinewidth\": 0, \"ticks\": \"\"}, \"colorscale\": [[0.0, \"#0d0887\"], [0.1111111111111111, \"#46039f\"], [0.2222222222222222, \"#7201a8\"], [0.3333333333333333, \"#9c179e\"], [0.4444444444444444, \"#bd3786\"], [0.5555555555555556, \"#d8576b\"], [0.6666666666666666, \"#ed7953\"], [0.7777777777777778, \"#fb9f3a\"], [0.8888888888888888, \"#fdca26\"], [1.0, \"#f0f921\"]], \"type\": \"contour\"}], \"contourcarpet\": [{\"colorbar\": {\"outlinewidth\": 0, \"ticks\": \"\"}, \"type\": \"contourcarpet\"}], \"heatmap\": [{\"colorbar\": {\"outlinewidth\": 0, \"ticks\": \"\"}, \"colorscale\": [[0.0, \"#0d0887\"], [0.1111111111111111, \"#46039f\"], [0.2222222222222222, \"#7201a8\"], [0.3333333333333333, \"#9c179e\"], [0.4444444444444444, \"#bd3786\"], [0.5555555555555556, \"#d8576b\"], [0.6666666666666666, \"#ed7953\"], [0.7777777777777778, \"#fb9f3a\"], [0.8888888888888888, \"#fdca26\"], [1.0, \"#f0f921\"]], \"type\": \"heatmap\"}], \"heatmapgl\": [{\"colorbar\": {\"outlinewidth\": 0, \"ticks\": \"\"}, \"colorscale\": [[0.0, \"#0d0887\"], [0.1111111111111111, \"#46039f\"], [0.2222222222222222, \"#7201a8\"], [0.3333333333333333, \"#9c179e\"], [0.4444444444444444, \"#bd3786\"], [0.5555555555555556, \"#d8576b\"], [0.6666666666666666, \"#ed7953\"], [0.7777777777777778, \"#fb9f3a\"], [0.8888888888888888, \"#fdca26\"], [1.0, \"#f0f921\"]], \"type\": \"heatmapgl\"}], \"histogram\": [{\"marker\": {\"colorbar\": {\"outlinewidth\": 0, \"ticks\": \"\"}}, \"type\": \"histogram\"}], \"histogram2d\": [{\"colorbar\": {\"outlinewidth\": 0, \"ticks\": \"\"}, \"colorscale\": [[0.0, \"#0d0887\"], [0.1111111111111111, \"#46039f\"], [0.2222222222222222, \"#7201a8\"], [0.3333333333333333, \"#9c179e\"], [0.4444444444444444, \"#bd3786\"], [0.5555555555555556, \"#d8576b\"], [0.6666666666666666, \"#ed7953\"], [0.7777777777777778, \"#fb9f3a\"], [0.8888888888888888, \"#fdca26\"], [1.0, \"#f0f921\"]], \"type\": \"histogram2d\"}], \"histogram2dcontour\": [{\"colorbar\": {\"outlinewidth\": 0, \"ticks\": \"\"}, \"colorscale\": [[0.0, \"#0d0887\"], [0.1111111111111111, \"#46039f\"], [0.2222222222222222, \"#7201a8\"], [0.3333333333333333, \"#9c179e\"], [0.4444444444444444, \"#bd3786\"], [0.5555555555555556, \"#d8576b\"], [0.6666666666666666, \"#ed7953\"], [0.7777777777777778, \"#fb9f3a\"], [0.8888888888888888, \"#fdca26\"], [1.0, \"#f0f921\"]], \"type\": \"histogram2dcontour\"}], \"mesh3d\": [{\"colorbar\": {\"outlinewidth\": 0, \"ticks\": \"\"}, \"type\": \"mesh3d\"}], \"parcoords\": [{\"line\": {\"colorbar\": {\"outlinewidth\": 0, \"ticks\": \"\"}}, \"type\": \"parcoords\"}], \"scatter\": [{\"marker\": {\"colorbar\": {\"outlinewidth\": 0, \"ticks\": \"\"}}, \"type\": \"scatter\"}], \"scatter3d\": [{\"line\": {\"colorbar\": {\"outlinewidth\": 0, \"ticks\": \"\"}}, \"marker\": {\"colorbar\": {\"outlinewidth\": 0, \"ticks\": \"\"}}, \"type\": \"scatter3d\"}], \"scattercarpet\": [{\"marker\": {\"colorbar\": {\"outlinewidth\": 0, \"ticks\": \"\"}}, \"type\": \"scattercarpet\"}], \"scattergeo\": [{\"marker\": {\"colorbar\": {\"outlinewidth\": 0, \"ticks\": \"\"}}, \"type\": \"scattergeo\"}], \"scattergl\": [{\"marker\": {\"colorbar\": {\"outlinewidth\": 0, \"ticks\": \"\"}}, \"type\": \"scattergl\"}], \"scattermapbox\": [{\"marker\": {\"colorbar\": {\"outlinewidth\": 0, \"ticks\": \"\"}}, \"type\": \"scattermapbox\"}], \"scatterpolar\": [{\"marker\": {\"colorbar\": {\"outlinewidth\": 0, \"ticks\": \"\"}}, \"type\": \"scatterpolar\"}], \"scatterpolargl\": [{\"marker\": {\"colorbar\": {\"outlinewidth\": 0, \"ticks\": \"\"}}, \"type\": \"scatterpolargl\"}], \"scatterternary\": [{\"marker\": {\"colorbar\": {\"outlinewidth\": 0, \"ticks\": \"\"}}, \"type\": \"scatterternary\"}], \"surface\": [{\"colorbar\": {\"outlinewidth\": 0, \"ticks\": \"\"}, \"colorscale\": [[0.0, \"#0d0887\"], [0.1111111111111111, \"#46039f\"], [0.2222222222222222, \"#7201a8\"], [0.3333333333333333, \"#9c179e\"], [0.4444444444444444, \"#bd3786\"], [0.5555555555555556, \"#d8576b\"], [0.6666666666666666, \"#ed7953\"], [0.7777777777777778, \"#fb9f3a\"], [0.8888888888888888, \"#fdca26\"], [1.0, \"#f0f921\"]], \"type\": \"surface\"}], \"table\": [{\"cells\": {\"fill\": {\"color\": \"#EBF0F8\"}, \"line\": {\"color\": \"white\"}}, \"header\": {\"fill\": {\"color\": \"#C8D4E3\"}, \"line\": {\"color\": \"white\"}}, \"type\": \"table\"}]}, \"layout\": {\"annotationdefaults\": {\"arrowcolor\": \"#2a3f5f\", \"arrowhead\": 0, \"arrowwidth\": 1}, \"colorscale\": {\"diverging\": [[0, \"#8e0152\"], [0.1, \"#c51b7d\"], [0.2, \"#de77ae\"], [0.3, \"#f1b6da\"], [0.4, \"#fde0ef\"], [0.5, \"#f7f7f7\"], [0.6, \"#e6f5d0\"], [0.7, \"#b8e186\"], [0.8, \"#7fbc41\"], [0.9, \"#4d9221\"], [1, \"#276419\"]], \"sequential\": [[0.0, \"#0d0887\"], [0.1111111111111111, \"#46039f\"], [0.2222222222222222, \"#7201a8\"], [0.3333333333333333, \"#9c179e\"], [0.4444444444444444, \"#bd3786\"], [0.5555555555555556, \"#d8576b\"], [0.6666666666666666, \"#ed7953\"], [0.7777777777777778, \"#fb9f3a\"], [0.8888888888888888, \"#fdca26\"], [1.0, \"#f0f921\"]], \"sequentialminus\": [[0.0, \"#0d0887\"], [0.1111111111111111, \"#46039f\"], [0.2222222222222222, \"#7201a8\"], [0.3333333333333333, \"#9c179e\"], [0.4444444444444444, \"#bd3786\"], [0.5555555555555556, \"#d8576b\"], [0.6666666666666666, \"#ed7953\"], [0.7777777777777778, \"#fb9f3a\"], [0.8888888888888888, \"#fdca26\"], [1.0, \"#f0f921\"]]}, \"colorway\": [\"#636efa\", \"#EF553B\", \"#00cc96\", \"#ab63fa\", \"#FFA15A\", \"#19d3f3\", \"#FF6692\", \"#B6E880\", \"#FF97FF\", \"#FECB52\"], \"font\": {\"color\": \"#2a3f5f\"}, \"geo\": {\"bgcolor\": \"white\", \"lakecolor\": \"white\", \"landcolor\": \"#E5ECF6\", \"showlakes\": true, \"showland\": true, \"subunitcolor\": \"white\"}, \"hoverlabel\": {\"align\": \"left\"}, \"hovermode\": \"closest\", \"mapbox\": {\"style\": \"light\"}, \"paper_bgcolor\": \"white\", \"plot_bgcolor\": \"#E5ECF6\", \"polar\": {\"angularaxis\": {\"gridcolor\": \"white\", \"linecolor\": \"white\", \"ticks\": \"\"}, \"bgcolor\": \"#E5ECF6\", \"radialaxis\": {\"gridcolor\": \"white\", \"linecolor\": \"white\", \"ticks\": \"\"}}, \"scene\": {\"xaxis\": {\"backgroundcolor\": \"#E5ECF6\", \"gridcolor\": \"white\", \"gridwidth\": 2, \"linecolor\": \"white\", \"showbackground\": true, \"ticks\": \"\", \"zerolinecolor\": \"white\"}, \"yaxis\": {\"backgroundcolor\": \"#E5ECF6\", \"gridcolor\": \"white\", \"gridwidth\": 2, \"linecolor\": \"white\", \"showbackground\": true, \"ticks\": \"\", \"zerolinecolor\": \"white\"}, \"zaxis\": {\"backgroundcolor\": \"#E5ECF6\", \"gridcolor\": \"white\", \"gridwidth\": 2, \"linecolor\": \"white\", \"showbackground\": true, \"ticks\": \"\", \"zerolinecolor\": \"white\"}}, \"shapedefaults\": {\"line\": {\"color\": \"#2a3f5f\"}}, \"ternary\": {\"aaxis\": {\"gridcolor\": \"white\", \"linecolor\": \"white\", \"ticks\": \"\"}, \"baxis\": {\"gridcolor\": \"white\", \"linecolor\": \"white\", \"ticks\": \"\"}, \"bgcolor\": \"#E5ECF6\", \"caxis\": {\"gridcolor\": \"white\", \"linecolor\": \"white\", \"ticks\": \"\"}}, \"title\": {\"x\": 0.05}, \"xaxis\": {\"automargin\": true, \"gridcolor\": \"white\", \"linecolor\": \"white\", \"ticks\": \"\", \"zerolinecolor\": \"white\", \"zerolinewidth\": 2}, \"yaxis\": {\"automargin\": true, \"gridcolor\": \"white\", \"linecolor\": \"white\", \"ticks\": \"\", \"zerolinecolor\": \"white\", \"zerolinewidth\": 2}}}, \"xaxis\": {\"title\": {\"text\": \"X_UMAP\"}}, \"yaxis\": {\"title\": {\"text\": \"Y_UMAP\"}}},\n",
       "                        {\"responsive\": true}\n",
       "                    ).then(function(){\n",
       "                            \n",
       "var gd = document.getElementById('ecd12666-3885-4eaa-80a3-1dce9aa92db2');\n",
       "var x = new MutationObserver(function (mutations, observer) {{\n",
       "        var display = window.getComputedStyle(gd).display;\n",
       "        if (!display || display === 'none') {{\n",
       "            console.log([gd, 'removed!']);\n",
       "            Plotly.purge(gd);\n",
       "            observer.disconnect();\n",
       "        }}\n",
       "}});\n",
       "\n",
       "// Listen for the removal of the full notebook cells\n",
       "var notebookContainer = gd.closest('#notebook-container');\n",
       "if (notebookContainer) {{\n",
       "    x.observe(notebookContainer, {childList: true});\n",
       "}}\n",
       "\n",
       "// Listen for the clearing of the current output cell\n",
       "var outputEl = gd.closest('.output');\n",
       "if (outputEl) {{\n",
       "    x.observe(outputEl, {childList: true});\n",
       "}}\n",
       "\n",
       "                        })\n",
       "                };\n",
       "                });\n",
       "            </script>\n",
       "        </div>"
      ]
     },
     "metadata": {},
     "output_type": "display_data"
    }
   ],
   "source": [
    "un_groups = [\"UN_AfricanGroup\",\"UN_AsiaGroup\",\"UN_EastEUGroup\",\"UN_LatinAmerica\",\"UN_WestEuropeGroup\"]\n",
    "\n",
    "vector_df_africa = vector_df[vector_df.UN_AfricanGroup==1]\n",
    "vector_df_asia = vector_df[vector_df.UN_AsiaGroup==1]\n",
    "vector_df_easteu = vector_df[vector_df.UN_EastEUGroup==1]\n",
    "vector_df_latinamerica = vector_df[vector_df.UN_LatinAmerica==1]\n",
    "vector_df_westeu = vector_df[vector_df.UN_WestEuropeGroup==1]\n",
    "\n",
    "\n",
    "fig = {\n",
    "    'data': [\n",
    "        {\n",
    "  \t\t\t'x': vector_df_westeu.X_UMAP, \n",
    "        \t'y': vector_df_westeu.Y_UMAP, \n",
    "        \t'text': vector_df_westeu.index, \n",
    "        \t'mode': 'markers', \n",
    "        \t'name': 'Westeuropa',\n",
    "            \"textposition\":\"middle right\"},\n",
    "  \t\t{\n",
    "  \t\t\t'x': vector_df_africa.X_UMAP, \n",
    "        \t'y': vector_df_africa.Y_UMAP, \n",
    "        \t'text': vector_df_africa.index, \n",
    "        \t'mode': 'markers', \n",
    "        \t'name': 'Afrika',\n",
    "            \"textposition\":\"middle right\"},\n",
    "        {\n",
    "  \t\t\t'x': vector_df_easteu.X_UMAP, \n",
    "        \t'y': vector_df_easteu.Y_UMAP, \n",
    "        \t'text': vector_df_easteu.index, \n",
    "        \t'mode': 'markers', \n",
    "        \t'name': 'Osteuropa',\n",
    "            \"textposition\":\"middle right\"},\n",
    "      \t{\n",
    "  \t\t\t'x': vector_df_asia.X_UMAP, \n",
    "        \t'y': vector_df_asia.Y_UMAP, \n",
    "        \t'text': vector_df_asia.index, \n",
    "        \t'mode': 'markers', \n",
    "        \t'name': 'Asien',\n",
    "            \"textposition\":\"middle right\"},\n",
    "\n",
    "\n",
    "      \t{\n",
    "  \t\t\t'x': vector_df_latinamerica.X_UMAP, \n",
    "        \t'y': vector_df_latinamerica.Y_UMAP, \n",
    "        \t'text': vector_df_latinamerica.index, \n",
    "        \t'mode': 'markers', \n",
    "        \t'name': 'Lateinamerika',\n",
    "            \"textposition\":\"middle right\"},\n",
    "\n",
    "    ],\n",
    "    'layout': {\n",
    "        'xaxis': {'title': 'X_UMAP'},\n",
    "        'yaxis': {'title': \"Y_UMAP\"},\n",
    "        \"plot_bgcolor\": \"rgb(255, 255, 255)\",\n",
    "        #\"width\": 2000,\n",
    "        #\"height\": 1300, #or more\n",
    "        \"autosize\": True\n",
    "    }\n",
    "}\n",
    "\n",
    "plotly.offline.iplot(fig, filename='basic-scatter')"
   ]
  },
  {
   "cell_type": "markdown",
   "metadata": {},
   "source": [
    "### Abbildung 9 - Wortvektoren der Ländernamen differenziert nach UN-Regionalgruppen (2013-2016)"
   ]
  },
  {
   "cell_type": "code",
   "execution_count": 14,
   "metadata": {},
   "outputs": [],
   "source": [
    "import pandas as pd\n",
    "import umap\n",
    "import seaborn as sns\n",
    "import matplotlib\n",
    "import matplotlib.pyplot as plt\n",
    "import plotly\n",
    "import plotly.graph_objs as go\n",
    "\n",
    "%matplotlib inline\n",
    "matplotlib.style.use('seaborn-white')"
   ]
  },
  {
   "cell_type": "code",
   "execution_count": 15,
   "metadata": {},
   "outputs": [],
   "source": [
    "country_groups_df = pd.read_csv(\"Country_Groups.csv\", sep=\";\", engine=\"python\", encoding=\"utf-8\", names= [\"Land\",\"UN_AfricanGroup\",\"UN_AsiaGroup\",\"UN_EastEUGroup\",\"UN_LatinAmerica\",\"UN_WestEuropeGroup\",\"ArabischeLiga\",\"ASEAN\",\"Benelux\",\"BRICS\",\"G4\",\"G8\",\"G8_5\",\"G20\",\"Next11\",\"OPAC\",\"Mercosur\",\"P5\",\"Visegrad\"])\n",
    "country_groups_df.set_index(\"Land\", inplace=True)\n",
    "country_groups_df.drop(\"Land\",axis=0,inplace=True)"
   ]
  },
  {
   "cell_type": "code",
   "execution_count": 16,
   "metadata": {},
   "outputs": [],
   "source": [
    "vector_df = pd.read_csv(r\"Country_Vectors\\year2013-2016_fixedModel_CountryVectors.csv\")\n",
    "vector_df.set_index(\"Country\", inplace=True)"
   ]
  },
  {
   "cell_type": "code",
   "execution_count": 17,
   "metadata": {},
   "outputs": [],
   "source": [
    "embedding = umap.UMAP(random_state=0,metric=\"cosine\").fit_transform(vector_df)\n",
    "vector_df[\"X_UMAP\"] = list(embedding[:,0])\n",
    "vector_df[\"Y_UMAP\"] = list(embedding[:,1])"
   ]
  },
  {
   "cell_type": "code",
   "execution_count": 18,
   "metadata": {},
   "outputs": [],
   "source": [
    "for column in country_groups_df.columns:\n",
    "    groups_list = []\n",
    "    for index, row in vector_df.iterrows():\n",
    "        country_name = index\n",
    "        country_name = country_name.replace(\"_\",\" \")\n",
    "        if country_name in country_groups_df.index:\n",
    "            group = country_groups_df[country_groups_df.index == country_name][column].values[0]\n",
    "        else:\n",
    "            print(country_name)\n",
    "            group = None\n",
    "        groups_list.append(group)\n",
    "    vector_df[column] = groups_list"
   ]
  },
  {
   "cell_type": "code",
   "execution_count": 19,
   "metadata": {},
   "outputs": [],
   "source": [
    "un_groups = {\"UN_AfricanGroup\":\"Afrika\",\"UN_AsiaGroup\":\"Asien\",\"UN_EastEUGroup\":\"Osteuropa\",\"UN_LatinAmerica\":\"Lateinamerika\",\"UN_WestEuropeGroup\":\"Westeuropa\"}\n",
    "groups_list = []\n",
    "\n",
    "for index, row in vector_df.iterrows():\n",
    "    for group in un_groups:\n",
    "        if row[group] == 1:\n",
    "            groups_list.append(un_groups[group])\n",
    "            \n",
    "vector_df[\"UN-Regionalgruppen\"] = groups_list"
   ]
  },
  {
   "cell_type": "code",
   "execution_count": 20,
   "metadata": {},
   "outputs": [
    {
     "data": {
      "application/vnd.plotly.v1+json": {
       "config": {
        "linkText": "Export to plot.ly",
        "plotlyServerURL": "https://plot.ly",
        "showLink": false
       },
       "data": [
        {
         "mode": "markers",
         "name": "Westeuropa",
         "text": [
          "australien",
          "belgien",
          "dänemark",
          "finnland",
          "frankreich",
          "griechenland",
          "irland",
          "island",
          "israel",
          "italien",
          "kanada",
          "luxemburg",
          "malta",
          "neuseeland",
          "niederlande",
          "norwegen",
          "österreich",
          "portugal",
          "schweden",
          "schweiz",
          "spanien",
          "türkei",
          "usa",
          "vereinigtes_königreich"
         ],
         "textposition": "middle right",
         "type": "scatter",
         "x": [
          -0.4073103964328766,
          1.352310299873352,
          1.4805914163589478,
          1.1783156394958496,
          1.1251634359359741,
          2.447206735610962,
          2.264158248901367,
          1.7765735387802124,
          -2.5988011360168457,
          1.6490784883499146,
          -0.13189275562763214,
          0.900339663028717,
          1.73231041431427,
          -0.7339416146278381,
          0.9692280292510986,
          1.1233919858932495,
          1.2255064249038696,
          2.148392677307129,
          1.1822519302368164,
          0.7750181555747986,
          2.007542848587036,
          -2.416994571685791,
          -0.5311906337738037,
          1.0424094200134277
         ],
         "y": [
          -6.1584553718566895,
          -5.216146945953369,
          -5.641578674316406,
          -5.6106390953063965,
          -4.7724480628967285,
          -4.888317584991455,
          -4.747415065765381,
          -5.418841361999512,
          -2.9549615383148193,
          -4.761409759521484,
          -5.790521144866943,
          -5.222090244293213,
          -4.888188362121582,
          -5.980395317077637,
          -5.256411552429199,
          -5.652634620666504,
          -4.869049549102783,
          -4.810972690582275,
          -5.489223480224609,
          -5.545735836029053,
          -4.768270492553711,
          -2.462688684463501,
          -5.791637897491455,
          -4.9813947677612305
         ]
        },
        {
         "mode": "markers",
         "name": "Afrika",
         "text": [
          "ägypten",
          "algerien",
          "angola",
          "äthiopien",
          "ghana",
          "kenia",
          "kongo",
          "libyen",
          "mali",
          "mosambik",
          "namibia",
          "niger",
          "nigeria",
          "ruanda",
          "senegal",
          "somalia",
          "südafrika",
          "sudan",
          "südsudan",
          "tansania",
          "uganda"
         ],
         "textposition": "middle right",
         "type": "scatter",
         "x": [
          -2.8073484897613525,
          -3.111828565597534,
          -3.6180179119110107,
          -4.026113033294678,
          -3.4285731315612793,
          -3.8329811096191406,
          -3.5312702655792236,
          -3.518427848815918,
          -4.025359630584717,
          -3.2375903129577637,
          -2.4369170665740967,
          -4.08727502822876,
          -3.840261936187744,
          -3.512155532836914,
          -3.6893467903137207,
          -3.769864797592163,
          -1.0214946269989014,
          -3.686246156692505,
          -3.676255226135254,
          -3.3009836673736572,
          -3.8113300800323486
         ],
         "y": [
          -2.64054274559021,
          -2.3703553676605225,
          -4.520030498504639,
          -4.085563659667969,
          -5.028895378112793,
          -4.052803039550781,
          -3.5679521560668945,
          -2.873969793319702,
          -3.1502792835235596,
          -5.009637355804443,
          -3.9366071224212646,
          -3.438847064971924,
          -4.067317485809326,
          -3.655627965927124,
          -4.797785758972168,
          -2.9760971069335938,
          -5.402812957763672,
          -3.2588436603546143,
          -3.406419038772583,
          -4.874540328979492,
          -3.7872796058654785
         ]
        },
        {
         "mode": "markers",
         "name": "Osteuropa",
         "text": [
          "albanien",
          "armenien",
          "aserbaidschan",
          "belarus",
          "bosnien_und_herzegowina",
          "bulgarien",
          "estland",
          "georgien",
          "kroatien",
          "lettland",
          "litauen",
          "mazedonien",
          "montenegro",
          "polen",
          "rumänien",
          "serbien",
          "slowakei",
          "slowenien",
          "tschechien",
          "ukraine",
          "ungarn"
         ],
         "textposition": "middle right",
         "type": "scatter",
         "x": [
          -0.2840408980846405,
          -1.598370909690857,
          -1.6233320236206055,
          -1.6950584650039673,
          -0.4196791350841522,
          1.7780667543411255,
          1.702921748161316,
          -1.427708387374878,
          0.8326261639595032,
          1.7401297092437744,
          1.849494457244873,
          -0.7024248242378235,
          -0.5883622169494629,
          1.1546202898025513,
          1.6560053825378418,
          -0.3668056130409241,
          1.69166898727417,
          1.1950244903564453,
          1.5451843738555908,
          -1.9670257568359375,
          1.404239535331726
         ],
         "y": [
          -2.4763424396514893,
          -2.0724852085113525,
          -2.0429060459136963,
          -2.3364734649658203,
          -2.687192440032959,
          -3.7756776809692383,
          -3.418928861618042,
          -2.1793508529663086,
          -3.2644596099853516,
          -3.4385993480682373,
          -3.2854316234588623,
          -2.6562933921813965,
          -2.5779871940612793,
          -3.663419485092163,
          -3.8429834842681885,
          -2.5575478076934814,
          -3.984403371810913,
          -4.016196250915527,
          -3.951500177383423,
          -2.35459041595459,
          -3.874778985977173
         ]
        },
        {
         "mode": "markers",
         "name": "Asien",
         "text": [
          "afghanistan",
          "bangladesch",
          "china",
          "hongkong",
          "indien",
          "indonesien",
          "irak",
          "iran",
          "japan",
          "kambodscha",
          "kasachstan",
          "malaysia",
          "nepal",
          "nordkorea",
          "pakistan",
          "philippinen",
          "saudi_arabien",
          "singapur",
          "südkorea",
          "syrien",
          "thailand",
          "vietnam",
          "zypern"
         ],
         "textposition": "middle right",
         "type": "scatter",
         "x": [
          -3.5606963634490967,
          -2.4024415016174316,
          -1.175405502319336,
          -1.5452749729156494,
          -1.1004770994186401,
          -1.873438835144043,
          -3.0451104640960693,
          -2.9183907508850098,
          -0.7720344066619873,
          -2.616863965988159,
          -1.6991548538208008,
          -2.215871572494507,
          -3.220651865005493,
          -3.094050884246826,
          -2.919894218444824,
          -2.6324777603149414,
          -2.5711143016815186,
          -1.2802103757858276,
          -0.9622316360473633,
          -3.2393715381622314,
          -2.0277023315429688,
          -1.7186310291290283,
          2.3364439010620117
         ],
         "y": [
          -2.97517991065979,
          -4.736167907714844,
          -5.471627235412598,
          -5.914540767669678,
          -5.3113274574279785,
          -5.173293113708496,
          -3.047654390335083,
          -2.6748714447021484,
          -5.969208240509033,
          -5.338465213775635,
          -2.173595666885376,
          -5.345132350921631,
          -4.449782371520996,
          -2.8706769943237305,
          -3.4191205501556396,
          -4.801631927490234,
          -3.0004658699035645,
          -5.858540058135986,
          -5.856852054595947,
          -3.2061469554901123,
          -5.568549156188965,
          -5.396339416503906,
          -4.8671040534973145
         ]
        },
        {
         "mode": "markers",
         "name": "Lateinamerika",
         "text": [
          "argentinien",
          "brasilien",
          "chile",
          "kolumbien",
          "kuba",
          "mexiko"
         ],
         "textposition": "middle right",
         "type": "scatter",
         "x": [
          -0.5981160998344421,
          -1.0656723976135254,
          -1.5411043167114258,
          -1.8545080423355103,
          -1.9542540311813354,
          -1.9364097118377686
         ],
         "y": [
          -5.077872276306152,
          -5.06365966796875,
          -5.010914325714111,
          -4.750606060028076,
          -2.812727689743042,
          -4.403411865234375
         ]
        }
       ],
       "layout": {
        "autosize": true,
        "plot_bgcolor": "rgb(255, 255, 255)",
        "template": {
         "data": {
          "bar": [
           {
            "error_x": {
             "color": "#2a3f5f"
            },
            "error_y": {
             "color": "#2a3f5f"
            },
            "marker": {
             "line": {
              "color": "#E5ECF6",
              "width": 0.5
             }
            },
            "type": "bar"
           }
          ],
          "barpolar": [
           {
            "marker": {
             "line": {
              "color": "#E5ECF6",
              "width": 0.5
             }
            },
            "type": "barpolar"
           }
          ],
          "carpet": [
           {
            "aaxis": {
             "endlinecolor": "#2a3f5f",
             "gridcolor": "white",
             "linecolor": "white",
             "minorgridcolor": "white",
             "startlinecolor": "#2a3f5f"
            },
            "baxis": {
             "endlinecolor": "#2a3f5f",
             "gridcolor": "white",
             "linecolor": "white",
             "minorgridcolor": "white",
             "startlinecolor": "#2a3f5f"
            },
            "type": "carpet"
           }
          ],
          "choropleth": [
           {
            "colorbar": {
             "outlinewidth": 0,
             "ticks": ""
            },
            "type": "choropleth"
           }
          ],
          "contour": [
           {
            "colorbar": {
             "outlinewidth": 0,
             "ticks": ""
            },
            "colorscale": [
             [
              0,
              "#0d0887"
             ],
             [
              0.1111111111111111,
              "#46039f"
             ],
             [
              0.2222222222222222,
              "#7201a8"
             ],
             [
              0.3333333333333333,
              "#9c179e"
             ],
             [
              0.4444444444444444,
              "#bd3786"
             ],
             [
              0.5555555555555556,
              "#d8576b"
             ],
             [
              0.6666666666666666,
              "#ed7953"
             ],
             [
              0.7777777777777778,
              "#fb9f3a"
             ],
             [
              0.8888888888888888,
              "#fdca26"
             ],
             [
              1,
              "#f0f921"
             ]
            ],
            "type": "contour"
           }
          ],
          "contourcarpet": [
           {
            "colorbar": {
             "outlinewidth": 0,
             "ticks": ""
            },
            "type": "contourcarpet"
           }
          ],
          "heatmap": [
           {
            "colorbar": {
             "outlinewidth": 0,
             "ticks": ""
            },
            "colorscale": [
             [
              0,
              "#0d0887"
             ],
             [
              0.1111111111111111,
              "#46039f"
             ],
             [
              0.2222222222222222,
              "#7201a8"
             ],
             [
              0.3333333333333333,
              "#9c179e"
             ],
             [
              0.4444444444444444,
              "#bd3786"
             ],
             [
              0.5555555555555556,
              "#d8576b"
             ],
             [
              0.6666666666666666,
              "#ed7953"
             ],
             [
              0.7777777777777778,
              "#fb9f3a"
             ],
             [
              0.8888888888888888,
              "#fdca26"
             ],
             [
              1,
              "#f0f921"
             ]
            ],
            "type": "heatmap"
           }
          ],
          "heatmapgl": [
           {
            "colorbar": {
             "outlinewidth": 0,
             "ticks": ""
            },
            "colorscale": [
             [
              0,
              "#0d0887"
             ],
             [
              0.1111111111111111,
              "#46039f"
             ],
             [
              0.2222222222222222,
              "#7201a8"
             ],
             [
              0.3333333333333333,
              "#9c179e"
             ],
             [
              0.4444444444444444,
              "#bd3786"
             ],
             [
              0.5555555555555556,
              "#d8576b"
             ],
             [
              0.6666666666666666,
              "#ed7953"
             ],
             [
              0.7777777777777778,
              "#fb9f3a"
             ],
             [
              0.8888888888888888,
              "#fdca26"
             ],
             [
              1,
              "#f0f921"
             ]
            ],
            "type": "heatmapgl"
           }
          ],
          "histogram": [
           {
            "marker": {
             "colorbar": {
              "outlinewidth": 0,
              "ticks": ""
             }
            },
            "type": "histogram"
           }
          ],
          "histogram2d": [
           {
            "colorbar": {
             "outlinewidth": 0,
             "ticks": ""
            },
            "colorscale": [
             [
              0,
              "#0d0887"
             ],
             [
              0.1111111111111111,
              "#46039f"
             ],
             [
              0.2222222222222222,
              "#7201a8"
             ],
             [
              0.3333333333333333,
              "#9c179e"
             ],
             [
              0.4444444444444444,
              "#bd3786"
             ],
             [
              0.5555555555555556,
              "#d8576b"
             ],
             [
              0.6666666666666666,
              "#ed7953"
             ],
             [
              0.7777777777777778,
              "#fb9f3a"
             ],
             [
              0.8888888888888888,
              "#fdca26"
             ],
             [
              1,
              "#f0f921"
             ]
            ],
            "type": "histogram2d"
           }
          ],
          "histogram2dcontour": [
           {
            "colorbar": {
             "outlinewidth": 0,
             "ticks": ""
            },
            "colorscale": [
             [
              0,
              "#0d0887"
             ],
             [
              0.1111111111111111,
              "#46039f"
             ],
             [
              0.2222222222222222,
              "#7201a8"
             ],
             [
              0.3333333333333333,
              "#9c179e"
             ],
             [
              0.4444444444444444,
              "#bd3786"
             ],
             [
              0.5555555555555556,
              "#d8576b"
             ],
             [
              0.6666666666666666,
              "#ed7953"
             ],
             [
              0.7777777777777778,
              "#fb9f3a"
             ],
             [
              0.8888888888888888,
              "#fdca26"
             ],
             [
              1,
              "#f0f921"
             ]
            ],
            "type": "histogram2dcontour"
           }
          ],
          "mesh3d": [
           {
            "colorbar": {
             "outlinewidth": 0,
             "ticks": ""
            },
            "type": "mesh3d"
           }
          ],
          "parcoords": [
           {
            "line": {
             "colorbar": {
              "outlinewidth": 0,
              "ticks": ""
             }
            },
            "type": "parcoords"
           }
          ],
          "scatter": [
           {
            "marker": {
             "colorbar": {
              "outlinewidth": 0,
              "ticks": ""
             }
            },
            "type": "scatter"
           }
          ],
          "scatter3d": [
           {
            "line": {
             "colorbar": {
              "outlinewidth": 0,
              "ticks": ""
             }
            },
            "marker": {
             "colorbar": {
              "outlinewidth": 0,
              "ticks": ""
             }
            },
            "type": "scatter3d"
           }
          ],
          "scattercarpet": [
           {
            "marker": {
             "colorbar": {
              "outlinewidth": 0,
              "ticks": ""
             }
            },
            "type": "scattercarpet"
           }
          ],
          "scattergeo": [
           {
            "marker": {
             "colorbar": {
              "outlinewidth": 0,
              "ticks": ""
             }
            },
            "type": "scattergeo"
           }
          ],
          "scattergl": [
           {
            "marker": {
             "colorbar": {
              "outlinewidth": 0,
              "ticks": ""
             }
            },
            "type": "scattergl"
           }
          ],
          "scattermapbox": [
           {
            "marker": {
             "colorbar": {
              "outlinewidth": 0,
              "ticks": ""
             }
            },
            "type": "scattermapbox"
           }
          ],
          "scatterpolar": [
           {
            "marker": {
             "colorbar": {
              "outlinewidth": 0,
              "ticks": ""
             }
            },
            "type": "scatterpolar"
           }
          ],
          "scatterpolargl": [
           {
            "marker": {
             "colorbar": {
              "outlinewidth": 0,
              "ticks": ""
             }
            },
            "type": "scatterpolargl"
           }
          ],
          "scatterternary": [
           {
            "marker": {
             "colorbar": {
              "outlinewidth": 0,
              "ticks": ""
             }
            },
            "type": "scatterternary"
           }
          ],
          "surface": [
           {
            "colorbar": {
             "outlinewidth": 0,
             "ticks": ""
            },
            "colorscale": [
             [
              0,
              "#0d0887"
             ],
             [
              0.1111111111111111,
              "#46039f"
             ],
             [
              0.2222222222222222,
              "#7201a8"
             ],
             [
              0.3333333333333333,
              "#9c179e"
             ],
             [
              0.4444444444444444,
              "#bd3786"
             ],
             [
              0.5555555555555556,
              "#d8576b"
             ],
             [
              0.6666666666666666,
              "#ed7953"
             ],
             [
              0.7777777777777778,
              "#fb9f3a"
             ],
             [
              0.8888888888888888,
              "#fdca26"
             ],
             [
              1,
              "#f0f921"
             ]
            ],
            "type": "surface"
           }
          ],
          "table": [
           {
            "cells": {
             "fill": {
              "color": "#EBF0F8"
             },
             "line": {
              "color": "white"
             }
            },
            "header": {
             "fill": {
              "color": "#C8D4E3"
             },
             "line": {
              "color": "white"
             }
            },
            "type": "table"
           }
          ]
         },
         "layout": {
          "annotationdefaults": {
           "arrowcolor": "#2a3f5f",
           "arrowhead": 0,
           "arrowwidth": 1
          },
          "colorscale": {
           "diverging": [
            [
             0,
             "#8e0152"
            ],
            [
             0.1,
             "#c51b7d"
            ],
            [
             0.2,
             "#de77ae"
            ],
            [
             0.3,
             "#f1b6da"
            ],
            [
             0.4,
             "#fde0ef"
            ],
            [
             0.5,
             "#f7f7f7"
            ],
            [
             0.6,
             "#e6f5d0"
            ],
            [
             0.7,
             "#b8e186"
            ],
            [
             0.8,
             "#7fbc41"
            ],
            [
             0.9,
             "#4d9221"
            ],
            [
             1,
             "#276419"
            ]
           ],
           "sequential": [
            [
             0,
             "#0d0887"
            ],
            [
             0.1111111111111111,
             "#46039f"
            ],
            [
             0.2222222222222222,
             "#7201a8"
            ],
            [
             0.3333333333333333,
             "#9c179e"
            ],
            [
             0.4444444444444444,
             "#bd3786"
            ],
            [
             0.5555555555555556,
             "#d8576b"
            ],
            [
             0.6666666666666666,
             "#ed7953"
            ],
            [
             0.7777777777777778,
             "#fb9f3a"
            ],
            [
             0.8888888888888888,
             "#fdca26"
            ],
            [
             1,
             "#f0f921"
            ]
           ],
           "sequentialminus": [
            [
             0,
             "#0d0887"
            ],
            [
             0.1111111111111111,
             "#46039f"
            ],
            [
             0.2222222222222222,
             "#7201a8"
            ],
            [
             0.3333333333333333,
             "#9c179e"
            ],
            [
             0.4444444444444444,
             "#bd3786"
            ],
            [
             0.5555555555555556,
             "#d8576b"
            ],
            [
             0.6666666666666666,
             "#ed7953"
            ],
            [
             0.7777777777777778,
             "#fb9f3a"
            ],
            [
             0.8888888888888888,
             "#fdca26"
            ],
            [
             1,
             "#f0f921"
            ]
           ]
          },
          "colorway": [
           "#636efa",
           "#EF553B",
           "#00cc96",
           "#ab63fa",
           "#FFA15A",
           "#19d3f3",
           "#FF6692",
           "#B6E880",
           "#FF97FF",
           "#FECB52"
          ],
          "font": {
           "color": "#2a3f5f"
          },
          "geo": {
           "bgcolor": "white",
           "lakecolor": "white",
           "landcolor": "#E5ECF6",
           "showlakes": true,
           "showland": true,
           "subunitcolor": "white"
          },
          "hoverlabel": {
           "align": "left"
          },
          "hovermode": "closest",
          "mapbox": {
           "style": "light"
          },
          "paper_bgcolor": "white",
          "plot_bgcolor": "#E5ECF6",
          "polar": {
           "angularaxis": {
            "gridcolor": "white",
            "linecolor": "white",
            "ticks": ""
           },
           "bgcolor": "#E5ECF6",
           "radialaxis": {
            "gridcolor": "white",
            "linecolor": "white",
            "ticks": ""
           }
          },
          "scene": {
           "xaxis": {
            "backgroundcolor": "#E5ECF6",
            "gridcolor": "white",
            "gridwidth": 2,
            "linecolor": "white",
            "showbackground": true,
            "ticks": "",
            "zerolinecolor": "white"
           },
           "yaxis": {
            "backgroundcolor": "#E5ECF6",
            "gridcolor": "white",
            "gridwidth": 2,
            "linecolor": "white",
            "showbackground": true,
            "ticks": "",
            "zerolinecolor": "white"
           },
           "zaxis": {
            "backgroundcolor": "#E5ECF6",
            "gridcolor": "white",
            "gridwidth": 2,
            "linecolor": "white",
            "showbackground": true,
            "ticks": "",
            "zerolinecolor": "white"
           }
          },
          "shapedefaults": {
           "line": {
            "color": "#2a3f5f"
           }
          },
          "ternary": {
           "aaxis": {
            "gridcolor": "white",
            "linecolor": "white",
            "ticks": ""
           },
           "baxis": {
            "gridcolor": "white",
            "linecolor": "white",
            "ticks": ""
           },
           "bgcolor": "#E5ECF6",
           "caxis": {
            "gridcolor": "white",
            "linecolor": "white",
            "ticks": ""
           }
          },
          "title": {
           "x": 0.05
          },
          "xaxis": {
           "automargin": true,
           "gridcolor": "white",
           "linecolor": "white",
           "ticks": "",
           "zerolinecolor": "white",
           "zerolinewidth": 2
          },
          "yaxis": {
           "automargin": true,
           "gridcolor": "white",
           "linecolor": "white",
           "ticks": "",
           "zerolinecolor": "white",
           "zerolinewidth": 2
          }
         }
        },
        "xaxis": {
         "title": {
          "text": "X_UMAP"
         }
        },
        "yaxis": {
         "title": {
          "text": "Y_UMAP"
         }
        }
       }
      },
      "text/html": [
       "<div>\n",
       "        \n",
       "        \n",
       "            <div id=\"0d88137b-4ee9-4fa9-9fe0-dc784ec2e1a7\" class=\"plotly-graph-div\" style=\"height:525px; width:100%;\"></div>\n",
       "            <script type=\"text/javascript\">\n",
       "                require([\"plotly\"], function(Plotly) {\n",
       "                    window.PLOTLYENV=window.PLOTLYENV || {};\n",
       "                    \n",
       "                if (document.getElementById(\"0d88137b-4ee9-4fa9-9fe0-dc784ec2e1a7\")) {\n",
       "                    Plotly.newPlot(\n",
       "                        '0d88137b-4ee9-4fa9-9fe0-dc784ec2e1a7',\n",
       "                        [{\"mode\": \"markers\", \"name\": \"Westeuropa\", \"text\": [\"australien\", \"belgien\", \"d\\u00e4nemark\", \"finnland\", \"frankreich\", \"griechenland\", \"irland\", \"island\", \"israel\", \"italien\", \"kanada\", \"luxemburg\", \"malta\", \"neuseeland\", \"niederlande\", \"norwegen\", \"\\u00f6sterreich\", \"portugal\", \"schweden\", \"schweiz\", \"spanien\", \"t\\u00fcrkei\", \"usa\", \"vereinigtes_k\\u00f6nigreich\"], \"textposition\": \"middle right\", \"type\": \"scatter\", \"x\": [-0.4073103964328766, 1.352310299873352, 1.4805914163589478, 1.1783156394958496, 1.1251634359359741, 2.447206735610962, 2.264158248901367, 1.7765735387802124, -2.5988011360168457, 1.6490784883499146, -0.13189275562763214, 0.900339663028717, 1.73231041431427, -0.7339416146278381, 0.9692280292510986, 1.1233919858932495, 1.2255064249038696, 2.148392677307129, 1.1822519302368164, 0.7750181555747986, 2.007542848587036, -2.416994571685791, -0.5311906337738037, 1.0424094200134277], \"y\": [-6.1584553718566895, -5.216146945953369, -5.641578674316406, -5.6106390953063965, -4.7724480628967285, -4.888317584991455, -4.747415065765381, -5.418841361999512, -2.9549615383148193, -4.761409759521484, -5.790521144866943, -5.222090244293213, -4.888188362121582, -5.980395317077637, -5.256411552429199, -5.652634620666504, -4.869049549102783, -4.810972690582275, -5.489223480224609, -5.545735836029053, -4.768270492553711, -2.462688684463501, -5.791637897491455, -4.9813947677612305]}, {\"mode\": \"markers\", \"name\": \"Afrika\", \"text\": [\"\\u00e4gypten\", \"algerien\", \"angola\", \"\\u00e4thiopien\", \"ghana\", \"kenia\", \"kongo\", \"libyen\", \"mali\", \"mosambik\", \"namibia\", \"niger\", \"nigeria\", \"ruanda\", \"senegal\", \"somalia\", \"s\\u00fcdafrika\", \"sudan\", \"s\\u00fcdsudan\", \"tansania\", \"uganda\"], \"textposition\": \"middle right\", \"type\": \"scatter\", \"x\": [-2.8073484897613525, -3.111828565597534, -3.6180179119110107, -4.026113033294678, -3.4285731315612793, -3.8329811096191406, -3.5312702655792236, -3.518427848815918, -4.025359630584717, -3.2375903129577637, -2.4369170665740967, -4.08727502822876, -3.840261936187744, -3.512155532836914, -3.6893467903137207, -3.769864797592163, -1.0214946269989014, -3.686246156692505, -3.676255226135254, -3.3009836673736572, -3.8113300800323486], \"y\": [-2.64054274559021, -2.3703553676605225, -4.520030498504639, -4.085563659667969, -5.028895378112793, -4.052803039550781, -3.5679521560668945, -2.873969793319702, -3.1502792835235596, -5.009637355804443, -3.9366071224212646, -3.438847064971924, -4.067317485809326, -3.655627965927124, -4.797785758972168, -2.9760971069335938, -5.402812957763672, -3.2588436603546143, -3.406419038772583, -4.874540328979492, -3.7872796058654785]}, {\"mode\": \"markers\", \"name\": \"Osteuropa\", \"text\": [\"albanien\", \"armenien\", \"aserbaidschan\", \"belarus\", \"bosnien_und_herzegowina\", \"bulgarien\", \"estland\", \"georgien\", \"kroatien\", \"lettland\", \"litauen\", \"mazedonien\", \"montenegro\", \"polen\", \"rum\\u00e4nien\", \"serbien\", \"slowakei\", \"slowenien\", \"tschechien\", \"ukraine\", \"ungarn\"], \"textposition\": \"middle right\", \"type\": \"scatter\", \"x\": [-0.2840408980846405, -1.598370909690857, -1.6233320236206055, -1.6950584650039673, -0.4196791350841522, 1.7780667543411255, 1.702921748161316, -1.427708387374878, 0.8326261639595032, 1.7401297092437744, 1.849494457244873, -0.7024248242378235, -0.5883622169494629, 1.1546202898025513, 1.6560053825378418, -0.3668056130409241, 1.69166898727417, 1.1950244903564453, 1.5451843738555908, -1.9670257568359375, 1.404239535331726], \"y\": [-2.4763424396514893, -2.0724852085113525, -2.0429060459136963, -2.3364734649658203, -2.687192440032959, -3.7756776809692383, -3.418928861618042, -2.1793508529663086, -3.2644596099853516, -3.4385993480682373, -3.2854316234588623, -2.6562933921813965, -2.5779871940612793, -3.663419485092163, -3.8429834842681885, -2.5575478076934814, -3.984403371810913, -4.016196250915527, -3.951500177383423, -2.35459041595459, -3.874778985977173]}, {\"mode\": \"markers\", \"name\": \"Asien\", \"text\": [\"afghanistan\", \"bangladesch\", \"china\", \"hongkong\", \"indien\", \"indonesien\", \"irak\", \"iran\", \"japan\", \"kambodscha\", \"kasachstan\", \"malaysia\", \"nepal\", \"nordkorea\", \"pakistan\", \"philippinen\", \"saudi_arabien\", \"singapur\", \"s\\u00fcdkorea\", \"syrien\", \"thailand\", \"vietnam\", \"zypern\"], \"textposition\": \"middle right\", \"type\": \"scatter\", \"x\": [-3.5606963634490967, -2.4024415016174316, -1.175405502319336, -1.5452749729156494, -1.1004770994186401, -1.873438835144043, -3.0451104640960693, -2.9183907508850098, -0.7720344066619873, -2.616863965988159, -1.6991548538208008, -2.215871572494507, -3.220651865005493, -3.094050884246826, -2.919894218444824, -2.6324777603149414, -2.5711143016815186, -1.2802103757858276, -0.9622316360473633, -3.2393715381622314, -2.0277023315429688, -1.7186310291290283, 2.3364439010620117], \"y\": [-2.97517991065979, -4.736167907714844, -5.471627235412598, -5.914540767669678, -5.3113274574279785, -5.173293113708496, -3.047654390335083, -2.6748714447021484, -5.969208240509033, -5.338465213775635, -2.173595666885376, -5.345132350921631, -4.449782371520996, -2.8706769943237305, -3.4191205501556396, -4.801631927490234, -3.0004658699035645, -5.858540058135986, -5.856852054595947, -3.2061469554901123, -5.568549156188965, -5.396339416503906, -4.8671040534973145]}, {\"mode\": \"markers\", \"name\": \"Lateinamerika\", \"text\": [\"argentinien\", \"brasilien\", \"chile\", \"kolumbien\", \"kuba\", \"mexiko\"], \"textposition\": \"middle right\", \"type\": \"scatter\", \"x\": [-0.5981160998344421, -1.0656723976135254, -1.5411043167114258, -1.8545080423355103, -1.9542540311813354, -1.9364097118377686], \"y\": [-5.077872276306152, -5.06365966796875, -5.010914325714111, -4.750606060028076, -2.812727689743042, -4.403411865234375]}],\n",
       "                        {\"autosize\": true, \"plot_bgcolor\": \"rgb(255, 255, 255)\", \"template\": {\"data\": {\"bar\": [{\"error_x\": {\"color\": \"#2a3f5f\"}, \"error_y\": {\"color\": \"#2a3f5f\"}, \"marker\": {\"line\": {\"color\": \"#E5ECF6\", \"width\": 0.5}}, \"type\": \"bar\"}], \"barpolar\": [{\"marker\": {\"line\": {\"color\": \"#E5ECF6\", \"width\": 0.5}}, \"type\": \"barpolar\"}], \"carpet\": [{\"aaxis\": {\"endlinecolor\": \"#2a3f5f\", \"gridcolor\": \"white\", \"linecolor\": \"white\", \"minorgridcolor\": \"white\", \"startlinecolor\": \"#2a3f5f\"}, \"baxis\": {\"endlinecolor\": \"#2a3f5f\", \"gridcolor\": \"white\", \"linecolor\": \"white\", \"minorgridcolor\": \"white\", \"startlinecolor\": \"#2a3f5f\"}, \"type\": \"carpet\"}], \"choropleth\": [{\"colorbar\": {\"outlinewidth\": 0, \"ticks\": \"\"}, \"type\": \"choropleth\"}], \"contour\": [{\"colorbar\": {\"outlinewidth\": 0, \"ticks\": \"\"}, \"colorscale\": [[0.0, \"#0d0887\"], [0.1111111111111111, \"#46039f\"], [0.2222222222222222, \"#7201a8\"], [0.3333333333333333, \"#9c179e\"], [0.4444444444444444, \"#bd3786\"], [0.5555555555555556, \"#d8576b\"], [0.6666666666666666, \"#ed7953\"], [0.7777777777777778, \"#fb9f3a\"], [0.8888888888888888, \"#fdca26\"], [1.0, \"#f0f921\"]], \"type\": \"contour\"}], \"contourcarpet\": [{\"colorbar\": {\"outlinewidth\": 0, \"ticks\": \"\"}, \"type\": \"contourcarpet\"}], \"heatmap\": [{\"colorbar\": {\"outlinewidth\": 0, \"ticks\": \"\"}, \"colorscale\": [[0.0, \"#0d0887\"], [0.1111111111111111, \"#46039f\"], [0.2222222222222222, \"#7201a8\"], [0.3333333333333333, \"#9c179e\"], [0.4444444444444444, \"#bd3786\"], [0.5555555555555556, \"#d8576b\"], [0.6666666666666666, \"#ed7953\"], [0.7777777777777778, \"#fb9f3a\"], [0.8888888888888888, \"#fdca26\"], [1.0, \"#f0f921\"]], \"type\": \"heatmap\"}], \"heatmapgl\": [{\"colorbar\": {\"outlinewidth\": 0, \"ticks\": \"\"}, \"colorscale\": [[0.0, \"#0d0887\"], [0.1111111111111111, \"#46039f\"], [0.2222222222222222, \"#7201a8\"], [0.3333333333333333, \"#9c179e\"], [0.4444444444444444, \"#bd3786\"], [0.5555555555555556, \"#d8576b\"], [0.6666666666666666, \"#ed7953\"], [0.7777777777777778, \"#fb9f3a\"], [0.8888888888888888, \"#fdca26\"], [1.0, \"#f0f921\"]], \"type\": \"heatmapgl\"}], \"histogram\": [{\"marker\": {\"colorbar\": {\"outlinewidth\": 0, \"ticks\": \"\"}}, \"type\": \"histogram\"}], \"histogram2d\": [{\"colorbar\": {\"outlinewidth\": 0, \"ticks\": \"\"}, \"colorscale\": [[0.0, \"#0d0887\"], [0.1111111111111111, \"#46039f\"], [0.2222222222222222, \"#7201a8\"], [0.3333333333333333, \"#9c179e\"], [0.4444444444444444, \"#bd3786\"], [0.5555555555555556, \"#d8576b\"], [0.6666666666666666, \"#ed7953\"], [0.7777777777777778, \"#fb9f3a\"], [0.8888888888888888, \"#fdca26\"], [1.0, \"#f0f921\"]], \"type\": \"histogram2d\"}], \"histogram2dcontour\": [{\"colorbar\": {\"outlinewidth\": 0, \"ticks\": \"\"}, \"colorscale\": [[0.0, \"#0d0887\"], [0.1111111111111111, \"#46039f\"], [0.2222222222222222, \"#7201a8\"], [0.3333333333333333, \"#9c179e\"], [0.4444444444444444, \"#bd3786\"], [0.5555555555555556, \"#d8576b\"], [0.6666666666666666, \"#ed7953\"], [0.7777777777777778, \"#fb9f3a\"], [0.8888888888888888, \"#fdca26\"], [1.0, \"#f0f921\"]], \"type\": \"histogram2dcontour\"}], \"mesh3d\": [{\"colorbar\": {\"outlinewidth\": 0, \"ticks\": \"\"}, \"type\": \"mesh3d\"}], \"parcoords\": [{\"line\": {\"colorbar\": {\"outlinewidth\": 0, \"ticks\": \"\"}}, \"type\": \"parcoords\"}], \"scatter\": [{\"marker\": {\"colorbar\": {\"outlinewidth\": 0, \"ticks\": \"\"}}, \"type\": \"scatter\"}], \"scatter3d\": [{\"line\": {\"colorbar\": {\"outlinewidth\": 0, \"ticks\": \"\"}}, \"marker\": {\"colorbar\": {\"outlinewidth\": 0, \"ticks\": \"\"}}, \"type\": \"scatter3d\"}], \"scattercarpet\": [{\"marker\": {\"colorbar\": {\"outlinewidth\": 0, \"ticks\": \"\"}}, \"type\": \"scattercarpet\"}], \"scattergeo\": [{\"marker\": {\"colorbar\": {\"outlinewidth\": 0, \"ticks\": \"\"}}, \"type\": \"scattergeo\"}], \"scattergl\": [{\"marker\": {\"colorbar\": {\"outlinewidth\": 0, \"ticks\": \"\"}}, \"type\": \"scattergl\"}], \"scattermapbox\": [{\"marker\": {\"colorbar\": {\"outlinewidth\": 0, \"ticks\": \"\"}}, \"type\": \"scattermapbox\"}], \"scatterpolar\": [{\"marker\": {\"colorbar\": {\"outlinewidth\": 0, \"ticks\": \"\"}}, \"type\": \"scatterpolar\"}], \"scatterpolargl\": [{\"marker\": {\"colorbar\": {\"outlinewidth\": 0, \"ticks\": \"\"}}, \"type\": \"scatterpolargl\"}], \"scatterternary\": [{\"marker\": {\"colorbar\": {\"outlinewidth\": 0, \"ticks\": \"\"}}, \"type\": \"scatterternary\"}], \"surface\": [{\"colorbar\": {\"outlinewidth\": 0, \"ticks\": \"\"}, \"colorscale\": [[0.0, \"#0d0887\"], [0.1111111111111111, \"#46039f\"], [0.2222222222222222, \"#7201a8\"], [0.3333333333333333, \"#9c179e\"], [0.4444444444444444, \"#bd3786\"], [0.5555555555555556, \"#d8576b\"], [0.6666666666666666, \"#ed7953\"], [0.7777777777777778, \"#fb9f3a\"], [0.8888888888888888, \"#fdca26\"], [1.0, \"#f0f921\"]], \"type\": \"surface\"}], \"table\": [{\"cells\": {\"fill\": {\"color\": \"#EBF0F8\"}, \"line\": {\"color\": \"white\"}}, \"header\": {\"fill\": {\"color\": \"#C8D4E3\"}, \"line\": {\"color\": \"white\"}}, \"type\": \"table\"}]}, \"layout\": {\"annotationdefaults\": {\"arrowcolor\": \"#2a3f5f\", \"arrowhead\": 0, \"arrowwidth\": 1}, \"colorscale\": {\"diverging\": [[0, \"#8e0152\"], [0.1, \"#c51b7d\"], [0.2, \"#de77ae\"], [0.3, \"#f1b6da\"], [0.4, \"#fde0ef\"], [0.5, \"#f7f7f7\"], [0.6, \"#e6f5d0\"], [0.7, \"#b8e186\"], [0.8, \"#7fbc41\"], [0.9, \"#4d9221\"], [1, \"#276419\"]], \"sequential\": [[0.0, \"#0d0887\"], [0.1111111111111111, \"#46039f\"], [0.2222222222222222, \"#7201a8\"], [0.3333333333333333, \"#9c179e\"], [0.4444444444444444, \"#bd3786\"], [0.5555555555555556, \"#d8576b\"], [0.6666666666666666, \"#ed7953\"], [0.7777777777777778, \"#fb9f3a\"], [0.8888888888888888, \"#fdca26\"], [1.0, \"#f0f921\"]], \"sequentialminus\": [[0.0, \"#0d0887\"], [0.1111111111111111, \"#46039f\"], [0.2222222222222222, \"#7201a8\"], [0.3333333333333333, \"#9c179e\"], [0.4444444444444444, \"#bd3786\"], [0.5555555555555556, \"#d8576b\"], [0.6666666666666666, \"#ed7953\"], [0.7777777777777778, \"#fb9f3a\"], [0.8888888888888888, \"#fdca26\"], [1.0, \"#f0f921\"]]}, \"colorway\": [\"#636efa\", \"#EF553B\", \"#00cc96\", \"#ab63fa\", \"#FFA15A\", \"#19d3f3\", \"#FF6692\", \"#B6E880\", \"#FF97FF\", \"#FECB52\"], \"font\": {\"color\": \"#2a3f5f\"}, \"geo\": {\"bgcolor\": \"white\", \"lakecolor\": \"white\", \"landcolor\": \"#E5ECF6\", \"showlakes\": true, \"showland\": true, \"subunitcolor\": \"white\"}, \"hoverlabel\": {\"align\": \"left\"}, \"hovermode\": \"closest\", \"mapbox\": {\"style\": \"light\"}, \"paper_bgcolor\": \"white\", \"plot_bgcolor\": \"#E5ECF6\", \"polar\": {\"angularaxis\": {\"gridcolor\": \"white\", \"linecolor\": \"white\", \"ticks\": \"\"}, \"bgcolor\": \"#E5ECF6\", \"radialaxis\": {\"gridcolor\": \"white\", \"linecolor\": \"white\", \"ticks\": \"\"}}, \"scene\": {\"xaxis\": {\"backgroundcolor\": \"#E5ECF6\", \"gridcolor\": \"white\", \"gridwidth\": 2, \"linecolor\": \"white\", \"showbackground\": true, \"ticks\": \"\", \"zerolinecolor\": \"white\"}, \"yaxis\": {\"backgroundcolor\": \"#E5ECF6\", \"gridcolor\": \"white\", \"gridwidth\": 2, \"linecolor\": \"white\", \"showbackground\": true, \"ticks\": \"\", \"zerolinecolor\": \"white\"}, \"zaxis\": {\"backgroundcolor\": \"#E5ECF6\", \"gridcolor\": \"white\", \"gridwidth\": 2, \"linecolor\": \"white\", \"showbackground\": true, \"ticks\": \"\", \"zerolinecolor\": \"white\"}}, \"shapedefaults\": {\"line\": {\"color\": \"#2a3f5f\"}}, \"ternary\": {\"aaxis\": {\"gridcolor\": \"white\", \"linecolor\": \"white\", \"ticks\": \"\"}, \"baxis\": {\"gridcolor\": \"white\", \"linecolor\": \"white\", \"ticks\": \"\"}, \"bgcolor\": \"#E5ECF6\", \"caxis\": {\"gridcolor\": \"white\", \"linecolor\": \"white\", \"ticks\": \"\"}}, \"title\": {\"x\": 0.05}, \"xaxis\": {\"automargin\": true, \"gridcolor\": \"white\", \"linecolor\": \"white\", \"ticks\": \"\", \"zerolinecolor\": \"white\", \"zerolinewidth\": 2}, \"yaxis\": {\"automargin\": true, \"gridcolor\": \"white\", \"linecolor\": \"white\", \"ticks\": \"\", \"zerolinecolor\": \"white\", \"zerolinewidth\": 2}}}, \"xaxis\": {\"title\": {\"text\": \"X_UMAP\"}}, \"yaxis\": {\"title\": {\"text\": \"Y_UMAP\"}}},\n",
       "                        {\"responsive\": true}\n",
       "                    ).then(function(){\n",
       "                            \n",
       "var gd = document.getElementById('0d88137b-4ee9-4fa9-9fe0-dc784ec2e1a7');\n",
       "var x = new MutationObserver(function (mutations, observer) {{\n",
       "        var display = window.getComputedStyle(gd).display;\n",
       "        if (!display || display === 'none') {{\n",
       "            console.log([gd, 'removed!']);\n",
       "            Plotly.purge(gd);\n",
       "            observer.disconnect();\n",
       "        }}\n",
       "}});\n",
       "\n",
       "// Listen for the removal of the full notebook cells\n",
       "var notebookContainer = gd.closest('#notebook-container');\n",
       "if (notebookContainer) {{\n",
       "    x.observe(notebookContainer, {childList: true});\n",
       "}}\n",
       "\n",
       "// Listen for the clearing of the current output cell\n",
       "var outputEl = gd.closest('.output');\n",
       "if (outputEl) {{\n",
       "    x.observe(outputEl, {childList: true});\n",
       "}}\n",
       "\n",
       "                        })\n",
       "                };\n",
       "                });\n",
       "            </script>\n",
       "        </div>"
      ]
     },
     "metadata": {},
     "output_type": "display_data"
    }
   ],
   "source": [
    "un_groups = [\"UN_AfricanGroup\",\"UN_AsiaGroup\",\"UN_EastEUGroup\",\"UN_LatinAmerica\",\"UN_WestEuropeGroup\"]\n",
    "\n",
    "vector_df_africa = vector_df[vector_df.UN_AfricanGroup==1]\n",
    "vector_df_asia = vector_df[vector_df.UN_AsiaGroup==1]\n",
    "vector_df_easteu = vector_df[vector_df.UN_EastEUGroup==1]\n",
    "vector_df_latinamerica = vector_df[vector_df.UN_LatinAmerica==1]\n",
    "vector_df_westeu = vector_df[vector_df.UN_WestEuropeGroup==1]\n",
    "\n",
    "\n",
    "fig = {\n",
    "    'data': [\n",
    "        {\n",
    "  \t\t\t'x': vector_df_westeu.X_UMAP, \n",
    "        \t'y': vector_df_westeu.Y_UMAP, \n",
    "        \t'text': vector_df_westeu.index, \n",
    "        \t'mode': 'markers', \n",
    "        \t'name': 'Westeuropa',\n",
    "            \"textposition\":\"middle right\"},\n",
    "  \t\t{\n",
    "  \t\t\t'x': vector_df_africa.X_UMAP, \n",
    "        \t'y': vector_df_africa.Y_UMAP, \n",
    "        \t'text': vector_df_africa.index, \n",
    "        \t'mode': 'markers', \n",
    "        \t'name': 'Afrika',\n",
    "            \"textposition\":\"middle right\"},\n",
    "        {\n",
    "  \t\t\t'x': vector_df_easteu.X_UMAP, \n",
    "        \t'y': vector_df_easteu.Y_UMAP, \n",
    "        \t'text': vector_df_easteu.index, \n",
    "        \t'mode': 'markers', \n",
    "        \t'name': 'Osteuropa',\n",
    "            \"textposition\":\"middle right\"},\n",
    "      \t{\n",
    "  \t\t\t'x': vector_df_asia.X_UMAP, \n",
    "        \t'y': vector_df_asia.Y_UMAP, \n",
    "        \t'text': vector_df_asia.index, \n",
    "        \t'mode': 'markers', \n",
    "        \t'name': 'Asien',\n",
    "            \"textposition\":\"middle right\"},\n",
    "\n",
    "\n",
    "      \t{\n",
    "  \t\t\t'x': vector_df_latinamerica.X_UMAP, \n",
    "        \t'y': vector_df_latinamerica.Y_UMAP, \n",
    "        \t'text': vector_df_latinamerica.index, \n",
    "        \t'mode': 'markers', \n",
    "        \t'name': 'Lateinamerika',\n",
    "            \"textposition\":\"middle right\"},\n",
    "\n",
    "    ],\n",
    "    'layout': {\n",
    "        'xaxis': {'title': 'X_UMAP'},\n",
    "        'yaxis': {'title': \"Y_UMAP\"},\n",
    "        \"plot_bgcolor\": \"rgb(255, 255, 255)\",\n",
    "        #\"width\": 2000,\n",
    "        #\"height\": 1300, #or more\n",
    "        \"autosize\": True\n",
    "    }\n",
    "}\n",
    "\n",
    "plotly.offline.iplot(fig, filename='basic-scatter')"
   ]
  }
 ],
 "metadata": {
  "kernelspec": {
   "display_name": "Python [conda env:python_3.6] *",
   "language": "python",
   "name": "conda-env-python_3.6-py"
  },
  "language_info": {
   "codemirror_mode": {
    "name": "ipython",
    "version": 3
   },
   "file_extension": ".py",
   "mimetype": "text/x-python",
   "name": "python",
   "nbconvert_exporter": "python",
   "pygments_lexer": "ipython3",
   "version": "3.6.8"
  }
 },
 "nbformat": 4,
 "nbformat_minor": 2
}
