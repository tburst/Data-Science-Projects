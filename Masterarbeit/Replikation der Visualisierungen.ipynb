{
 "cells": [
  {
   "cell_type": "markdown",
   "metadata": {},
   "source": [
    "## Abbildung 1. Wortvektoren der Ländernamen differenziert nach UN-Regionalgruppen (1996-1999)"
   ]
  },
  {
   "cell_type": "code",
   "execution_count": 62,
   "metadata": {},
   "outputs": [],
   "source": [
    "import pandas as pd\n",
    "import umap\n",
    "import seaborn as sns\n",
    "import matplotlib\n",
    "import matplotlib.pyplot as plt\n",
    "import plotly\n",
    "import plotly.graph_objs as go\n",
    "\n",
    "%matplotlib inline\n",
    "matplotlib.style.use('seaborn-white')"
   ]
  },
  {
   "cell_type": "markdown",
   "metadata": {},
   "source": [
    "Laden der UN-Regionalgruppen."
   ]
  },
  {
   "cell_type": "code",
   "execution_count": 63,
   "metadata": {},
   "outputs": [
    {
     "data": {
      "text/html": [
       "<div>\n",
       "<style scoped>\n",
       "    .dataframe tbody tr th:only-of-type {\n",
       "        vertical-align: middle;\n",
       "    }\n",
       "\n",
       "    .dataframe tbody tr th {\n",
       "        vertical-align: top;\n",
       "    }\n",
       "\n",
       "    .dataframe thead th {\n",
       "        text-align: right;\n",
       "    }\n",
       "</style>\n",
       "<table border=\"1\" class=\"dataframe\">\n",
       "  <thead>\n",
       "    <tr style=\"text-align: right;\">\n",
       "      <th></th>\n",
       "      <th>UN_AfricanGroup</th>\n",
       "      <th>UN_AsiaGroup</th>\n",
       "      <th>UN_EastEUGroup</th>\n",
       "      <th>UN_LatinAmerica</th>\n",
       "      <th>UN_WestEuropeGroup</th>\n",
       "      <th>ArabischeLiga</th>\n",
       "      <th>ASEAN</th>\n",
       "      <th>Benelux</th>\n",
       "      <th>BRICS</th>\n",
       "      <th>G4</th>\n",
       "      <th>G8</th>\n",
       "      <th>G8_5</th>\n",
       "      <th>G20</th>\n",
       "      <th>Next11</th>\n",
       "      <th>OPAC</th>\n",
       "      <th>Mercosur</th>\n",
       "      <th>P5</th>\n",
       "      <th>Visegrad</th>\n",
       "    </tr>\n",
       "    <tr>\n",
       "      <th>Land</th>\n",
       "      <th></th>\n",
       "      <th></th>\n",
       "      <th></th>\n",
       "      <th></th>\n",
       "      <th></th>\n",
       "      <th></th>\n",
       "      <th></th>\n",
       "      <th></th>\n",
       "      <th></th>\n",
       "      <th></th>\n",
       "      <th></th>\n",
       "      <th></th>\n",
       "      <th></th>\n",
       "      <th></th>\n",
       "      <th></th>\n",
       "      <th></th>\n",
       "      <th></th>\n",
       "      <th></th>\n",
       "    </tr>\n",
       "  </thead>\n",
       "  <tbody>\n",
       "    <tr>\n",
       "      <th>afghanistan</th>\n",
       "      <td>0.0</td>\n",
       "      <td>1.0</td>\n",
       "      <td>0.0</td>\n",
       "      <td>0.0</td>\n",
       "      <td>0.0</td>\n",
       "      <td>0.0</td>\n",
       "      <td>0.0</td>\n",
       "      <td>0.0</td>\n",
       "      <td>0.0</td>\n",
       "      <td>0.0</td>\n",
       "      <td>0.0</td>\n",
       "      <td>0.0</td>\n",
       "      <td>0.0</td>\n",
       "      <td>0.0</td>\n",
       "      <td>0.0</td>\n",
       "      <td>0.0</td>\n",
       "      <td>0.0</td>\n",
       "      <td>0.0</td>\n",
       "    </tr>\n",
       "    <tr>\n",
       "      <th>ägypten</th>\n",
       "      <td>1.0</td>\n",
       "      <td>0.0</td>\n",
       "      <td>0.0</td>\n",
       "      <td>0.0</td>\n",
       "      <td>0.0</td>\n",
       "      <td>1.0</td>\n",
       "      <td>0.0</td>\n",
       "      <td>0.0</td>\n",
       "      <td>0.0</td>\n",
       "      <td>0.0</td>\n",
       "      <td>0.0</td>\n",
       "      <td>0.0</td>\n",
       "      <td>0.0</td>\n",
       "      <td>1.0</td>\n",
       "      <td>0.0</td>\n",
       "      <td>0.0</td>\n",
       "      <td>0.0</td>\n",
       "      <td>0.0</td>\n",
       "    </tr>\n",
       "    <tr>\n",
       "      <th>albanien</th>\n",
       "      <td>0.0</td>\n",
       "      <td>0.0</td>\n",
       "      <td>1.0</td>\n",
       "      <td>0.0</td>\n",
       "      <td>0.0</td>\n",
       "      <td>0.0</td>\n",
       "      <td>0.0</td>\n",
       "      <td>0.0</td>\n",
       "      <td>0.0</td>\n",
       "      <td>0.0</td>\n",
       "      <td>0.0</td>\n",
       "      <td>0.0</td>\n",
       "      <td>0.0</td>\n",
       "      <td>0.0</td>\n",
       "      <td>0.0</td>\n",
       "      <td>0.0</td>\n",
       "      <td>0.0</td>\n",
       "      <td>0.0</td>\n",
       "    </tr>\n",
       "    <tr>\n",
       "      <th>algerien</th>\n",
       "      <td>1.0</td>\n",
       "      <td>0.0</td>\n",
       "      <td>0.0</td>\n",
       "      <td>0.0</td>\n",
       "      <td>0.0</td>\n",
       "      <td>1.0</td>\n",
       "      <td>0.0</td>\n",
       "      <td>0.0</td>\n",
       "      <td>0.0</td>\n",
       "      <td>0.0</td>\n",
       "      <td>0.0</td>\n",
       "      <td>0.0</td>\n",
       "      <td>0.0</td>\n",
       "      <td>0.0</td>\n",
       "      <td>1.0</td>\n",
       "      <td>0.0</td>\n",
       "      <td>0.0</td>\n",
       "      <td>0.0</td>\n",
       "    </tr>\n",
       "    <tr>\n",
       "      <th>andorra</th>\n",
       "      <td>0.0</td>\n",
       "      <td>0.0</td>\n",
       "      <td>0.0</td>\n",
       "      <td>0.0</td>\n",
       "      <td>1.0</td>\n",
       "      <td>0.0</td>\n",
       "      <td>0.0</td>\n",
       "      <td>0.0</td>\n",
       "      <td>0.0</td>\n",
       "      <td>0.0</td>\n",
       "      <td>0.0</td>\n",
       "      <td>0.0</td>\n",
       "      <td>0.0</td>\n",
       "      <td>0.0</td>\n",
       "      <td>0.0</td>\n",
       "      <td>0.0</td>\n",
       "      <td>0.0</td>\n",
       "      <td>0.0</td>\n",
       "    </tr>\n",
       "  </tbody>\n",
       "</table>\n",
       "</div>"
      ],
      "text/plain": [
       "             UN_AfricanGroup  UN_AsiaGroup  UN_EastEUGroup  UN_LatinAmerica  \\\n",
       "Land                                                                          \n",
       "afghanistan              0.0           1.0             0.0              0.0   \n",
       "ägypten                  1.0           0.0             0.0              0.0   \n",
       "albanien                 0.0           0.0             1.0              0.0   \n",
       "algerien                 1.0           0.0             0.0              0.0   \n",
       "andorra                  0.0           0.0             0.0              0.0   \n",
       "\n",
       "             UN_WestEuropeGroup  ArabischeLiga  ASEAN  Benelux  BRICS   G4  \\\n",
       "Land                                                                         \n",
       "afghanistan                 0.0            0.0    0.0      0.0    0.0  0.0   \n",
       "ägypten                     0.0            1.0    0.0      0.0    0.0  0.0   \n",
       "albanien                    0.0            0.0    0.0      0.0    0.0  0.0   \n",
       "algerien                    0.0            1.0    0.0      0.0    0.0  0.0   \n",
       "andorra                     1.0            0.0    0.0      0.0    0.0  0.0   \n",
       "\n",
       "              G8  G8_5  G20  Next11  OPAC  Mercosur   P5  Visegrad  \n",
       "Land                                                                \n",
       "afghanistan  0.0   0.0  0.0     0.0   0.0       0.0  0.0       0.0  \n",
       "ägypten      0.0   0.0  0.0     1.0   0.0       0.0  0.0       0.0  \n",
       "albanien     0.0   0.0  0.0     0.0   0.0       0.0  0.0       0.0  \n",
       "algerien     0.0   0.0  0.0     0.0   1.0       0.0  0.0       0.0  \n",
       "andorra      0.0   0.0  0.0     0.0   0.0       0.0  0.0       0.0  "
      ]
     },
     "execution_count": 63,
     "metadata": {},
     "output_type": "execute_result"
    }
   ],
   "source": [
    "country_groups_df = pd.read_csv(\"Country_Groups.csv\", sep=\";\", engine=\"python\", encoding=\"utf-8\", names= [\"Land\",\"UN_AfricanGroup\",\"UN_AsiaGroup\",\"UN_EastEUGroup\",\"UN_LatinAmerica\",\"UN_WestEuropeGroup\",\"ArabischeLiga\",\"ASEAN\",\"Benelux\",\"BRICS\",\"G4\",\"G8\",\"G8_5\",\"G20\",\"Next11\",\"OPAC\",\"Mercosur\",\"P5\",\"Visegrad\"])\n",
    "country_groups_df.set_index(\"Land\", inplace=True)\n",
    "country_groups_df.drop(\"Land\",axis=0,inplace=True)\n",
    "country_groups_df.head()"
   ]
  },
  {
   "cell_type": "markdown",
   "metadata": {},
   "source": [
    "Laden der Wortvektoren, die anhand der Bundestagsreden zwischen den Jahren 1996 bis 1999 gebildet wurde. Als Grundlage dient das \"fixedModel\", also das Modell, das am originalen, nicht durch bootstrapping veränderten Datensatz trainiert wurde."
   ]
  },
  {
   "cell_type": "code",
   "execution_count": 64,
   "metadata": {},
   "outputs": [
    {
     "data": {
      "text/html": [
       "<div>\n",
       "<style scoped>\n",
       "    .dataframe tbody tr th:only-of-type {\n",
       "        vertical-align: middle;\n",
       "    }\n",
       "\n",
       "    .dataframe tbody tr th {\n",
       "        vertical-align: top;\n",
       "    }\n",
       "\n",
       "    .dataframe thead th {\n",
       "        text-align: right;\n",
       "    }\n",
       "</style>\n",
       "<table border=\"1\" class=\"dataframe\">\n",
       "  <thead>\n",
       "    <tr style=\"text-align: right;\">\n",
       "      <th></th>\n",
       "      <th>Vectordimension_0</th>\n",
       "      <th>Vectordimension_1</th>\n",
       "      <th>Vectordimension_2</th>\n",
       "      <th>Vectordimension_3</th>\n",
       "      <th>Vectordimension_4</th>\n",
       "      <th>Vectordimension_5</th>\n",
       "      <th>Vectordimension_6</th>\n",
       "      <th>Vectordimension_7</th>\n",
       "      <th>Vectordimension_8</th>\n",
       "      <th>Vectordimension_9</th>\n",
       "      <th>...</th>\n",
       "      <th>Vectordimension_290</th>\n",
       "      <th>Vectordimension_291</th>\n",
       "      <th>Vectordimension_292</th>\n",
       "      <th>Vectordimension_293</th>\n",
       "      <th>Vectordimension_294</th>\n",
       "      <th>Vectordimension_295</th>\n",
       "      <th>Vectordimension_296</th>\n",
       "      <th>Vectordimension_297</th>\n",
       "      <th>Vectordimension_298</th>\n",
       "      <th>Vectordimension_299</th>\n",
       "    </tr>\n",
       "    <tr>\n",
       "      <th>Country</th>\n",
       "      <th></th>\n",
       "      <th></th>\n",
       "      <th></th>\n",
       "      <th></th>\n",
       "      <th></th>\n",
       "      <th></th>\n",
       "      <th></th>\n",
       "      <th></th>\n",
       "      <th></th>\n",
       "      <th></th>\n",
       "      <th></th>\n",
       "      <th></th>\n",
       "      <th></th>\n",
       "      <th></th>\n",
       "      <th></th>\n",
       "      <th></th>\n",
       "      <th></th>\n",
       "      <th></th>\n",
       "      <th></th>\n",
       "      <th></th>\n",
       "      <th></th>\n",
       "    </tr>\n",
       "  </thead>\n",
       "  <tbody>\n",
       "    <tr>\n",
       "      <th>afghanistan</th>\n",
       "      <td>0.053558</td>\n",
       "      <td>-0.057460</td>\n",
       "      <td>0.070017</td>\n",
       "      <td>-0.039772</td>\n",
       "      <td>0.044162</td>\n",
       "      <td>-0.000367</td>\n",
       "      <td>0.003121</td>\n",
       "      <td>-0.032732</td>\n",
       "      <td>0.092648</td>\n",
       "      <td>-0.004396</td>\n",
       "      <td>...</td>\n",
       "      <td>0.088519</td>\n",
       "      <td>-0.070731</td>\n",
       "      <td>0.027065</td>\n",
       "      <td>-0.038740</td>\n",
       "      <td>0.017457</td>\n",
       "      <td>-0.033025</td>\n",
       "      <td>-0.058545</td>\n",
       "      <td>0.073686</td>\n",
       "      <td>-0.019444</td>\n",
       "      <td>-0.092041</td>\n",
       "    </tr>\n",
       "    <tr>\n",
       "      <th>ägypten</th>\n",
       "      <td>-0.000237</td>\n",
       "      <td>-0.113569</td>\n",
       "      <td>0.063510</td>\n",
       "      <td>-0.025303</td>\n",
       "      <td>0.022328</td>\n",
       "      <td>-0.011177</td>\n",
       "      <td>0.063001</td>\n",
       "      <td>-0.034022</td>\n",
       "      <td>0.088259</td>\n",
       "      <td>-0.029472</td>\n",
       "      <td>...</td>\n",
       "      <td>0.101099</td>\n",
       "      <td>-0.050718</td>\n",
       "      <td>-0.098086</td>\n",
       "      <td>0.006282</td>\n",
       "      <td>0.099865</td>\n",
       "      <td>0.001289</td>\n",
       "      <td>0.039256</td>\n",
       "      <td>-0.004273</td>\n",
       "      <td>-0.017475</td>\n",
       "      <td>-0.190498</td>\n",
       "    </tr>\n",
       "    <tr>\n",
       "      <th>albanien</th>\n",
       "      <td>0.014385</td>\n",
       "      <td>-0.046350</td>\n",
       "      <td>0.052827</td>\n",
       "      <td>-0.026673</td>\n",
       "      <td>0.005334</td>\n",
       "      <td>0.010046</td>\n",
       "      <td>0.069131</td>\n",
       "      <td>0.036719</td>\n",
       "      <td>0.004946</td>\n",
       "      <td>0.001791</td>\n",
       "      <td>...</td>\n",
       "      <td>0.117416</td>\n",
       "      <td>-0.006951</td>\n",
       "      <td>-0.054614</td>\n",
       "      <td>0.043457</td>\n",
       "      <td>-0.010809</td>\n",
       "      <td>0.011361</td>\n",
       "      <td>-0.001976</td>\n",
       "      <td>0.003596</td>\n",
       "      <td>0.074826</td>\n",
       "      <td>-0.052702</td>\n",
       "    </tr>\n",
       "    <tr>\n",
       "      <th>algerien</th>\n",
       "      <td>0.026815</td>\n",
       "      <td>0.009564</td>\n",
       "      <td>0.082491</td>\n",
       "      <td>-0.054220</td>\n",
       "      <td>0.049247</td>\n",
       "      <td>0.082527</td>\n",
       "      <td>-0.000571</td>\n",
       "      <td>-0.029966</td>\n",
       "      <td>0.070170</td>\n",
       "      <td>-0.018543</td>\n",
       "      <td>...</td>\n",
       "      <td>0.099459</td>\n",
       "      <td>-0.092021</td>\n",
       "      <td>0.067130</td>\n",
       "      <td>-0.046376</td>\n",
       "      <td>0.033281</td>\n",
       "      <td>-0.008641</td>\n",
       "      <td>-0.064856</td>\n",
       "      <td>-0.063001</td>\n",
       "      <td>-0.017508</td>\n",
       "      <td>-0.013991</td>\n",
       "    </tr>\n",
       "    <tr>\n",
       "      <th>angola</th>\n",
       "      <td>0.069849</td>\n",
       "      <td>0.006982</td>\n",
       "      <td>0.130802</td>\n",
       "      <td>-0.086332</td>\n",
       "      <td>0.041687</td>\n",
       "      <td>-0.034243</td>\n",
       "      <td>0.078058</td>\n",
       "      <td>0.038498</td>\n",
       "      <td>-0.002608</td>\n",
       "      <td>-0.067106</td>\n",
       "      <td>...</td>\n",
       "      <td>0.053113</td>\n",
       "      <td>-0.095571</td>\n",
       "      <td>-0.000061</td>\n",
       "      <td>0.011883</td>\n",
       "      <td>0.007009</td>\n",
       "      <td>-0.061061</td>\n",
       "      <td>-0.018543</td>\n",
       "      <td>0.038415</td>\n",
       "      <td>-0.087538</td>\n",
       "      <td>-0.080830</td>\n",
       "    </tr>\n",
       "  </tbody>\n",
       "</table>\n",
       "<p>5 rows × 300 columns</p>\n",
       "</div>"
      ],
      "text/plain": [
       "             Vectordimension_0  Vectordimension_1  Vectordimension_2  \\\n",
       "Country                                                                \n",
       "afghanistan           0.053558          -0.057460           0.070017   \n",
       "ägypten              -0.000237          -0.113569           0.063510   \n",
       "albanien              0.014385          -0.046350           0.052827   \n",
       "algerien              0.026815           0.009564           0.082491   \n",
       "angola                0.069849           0.006982           0.130802   \n",
       "\n",
       "             Vectordimension_3  Vectordimension_4  Vectordimension_5  \\\n",
       "Country                                                                \n",
       "afghanistan          -0.039772           0.044162          -0.000367   \n",
       "ägypten              -0.025303           0.022328          -0.011177   \n",
       "albanien             -0.026673           0.005334           0.010046   \n",
       "algerien             -0.054220           0.049247           0.082527   \n",
       "angola               -0.086332           0.041687          -0.034243   \n",
       "\n",
       "             Vectordimension_6  Vectordimension_7  Vectordimension_8  \\\n",
       "Country                                                                \n",
       "afghanistan           0.003121          -0.032732           0.092648   \n",
       "ägypten               0.063001          -0.034022           0.088259   \n",
       "albanien              0.069131           0.036719           0.004946   \n",
       "algerien             -0.000571          -0.029966           0.070170   \n",
       "angola                0.078058           0.038498          -0.002608   \n",
       "\n",
       "             Vectordimension_9  ...  Vectordimension_290  Vectordimension_291  \\\n",
       "Country                         ...                                             \n",
       "afghanistan          -0.004396  ...             0.088519            -0.070731   \n",
       "ägypten              -0.029472  ...             0.101099            -0.050718   \n",
       "albanien              0.001791  ...             0.117416            -0.006951   \n",
       "algerien             -0.018543  ...             0.099459            -0.092021   \n",
       "angola               -0.067106  ...             0.053113            -0.095571   \n",
       "\n",
       "             Vectordimension_292  Vectordimension_293  Vectordimension_294  \\\n",
       "Country                                                                      \n",
       "afghanistan             0.027065            -0.038740             0.017457   \n",
       "ägypten                -0.098086             0.006282             0.099865   \n",
       "albanien               -0.054614             0.043457            -0.010809   \n",
       "algerien                0.067130            -0.046376             0.033281   \n",
       "angola                 -0.000061             0.011883             0.007009   \n",
       "\n",
       "             Vectordimension_295  Vectordimension_296  Vectordimension_297  \\\n",
       "Country                                                                      \n",
       "afghanistan            -0.033025            -0.058545             0.073686   \n",
       "ägypten                 0.001289             0.039256            -0.004273   \n",
       "albanien                0.011361            -0.001976             0.003596   \n",
       "algerien               -0.008641            -0.064856            -0.063001   \n",
       "angola                 -0.061061            -0.018543             0.038415   \n",
       "\n",
       "             Vectordimension_298  Vectordimension_299  \n",
       "Country                                                \n",
       "afghanistan            -0.019444            -0.092041  \n",
       "ägypten                -0.017475            -0.190498  \n",
       "albanien                0.074826            -0.052702  \n",
       "algerien               -0.017508            -0.013991  \n",
       "angola                 -0.087538            -0.080830  \n",
       "\n",
       "[5 rows x 300 columns]"
      ]
     },
     "execution_count": 64,
     "metadata": {},
     "output_type": "execute_result"
    }
   ],
   "source": [
    "vector_df = pd.read_csv(r\"Country_Vectors\\year1996-1999_fixedModel_CountryVectors.csv\")\n",
    "vector_df.set_index(\"Country\", inplace=True)\n",
    "vector_df.head()"
   ]
  },
  {
   "cell_type": "markdown",
   "metadata": {},
   "source": [
    "Transformation der Vektoren in zwei Dimensionen mittels UMAP."
   ]
  },
  {
   "cell_type": "code",
   "execution_count": 65,
   "metadata": {},
   "outputs": [],
   "source": [
    "embedding = umap.UMAP(random_state=0,metric=\"cosine\").fit_transform(vector_df)\n",
    "vector_df[\"X_UMAP\"] = list(embedding[:,0])\n",
    "vector_df[\"Y_UMAP\"] = list(embedding[:,1])"
   ]
  },
  {
   "cell_type": "code",
   "execution_count": 66,
   "metadata": {},
   "outputs": [
    {
     "data": {
      "text/html": [
       "<div>\n",
       "<style scoped>\n",
       "    .dataframe tbody tr th:only-of-type {\n",
       "        vertical-align: middle;\n",
       "    }\n",
       "\n",
       "    .dataframe tbody tr th {\n",
       "        vertical-align: top;\n",
       "    }\n",
       "\n",
       "    .dataframe thead th {\n",
       "        text-align: right;\n",
       "    }\n",
       "</style>\n",
       "<table border=\"1\" class=\"dataframe\">\n",
       "  <thead>\n",
       "    <tr style=\"text-align: right;\">\n",
       "      <th></th>\n",
       "      <th>X_UMAP</th>\n",
       "      <th>Y_UMAP</th>\n",
       "    </tr>\n",
       "    <tr>\n",
       "      <th>Country</th>\n",
       "      <th></th>\n",
       "      <th></th>\n",
       "    </tr>\n",
       "  </thead>\n",
       "  <tbody>\n",
       "    <tr>\n",
       "      <th>afghanistan</th>\n",
       "      <td>2.017608</td>\n",
       "      <td>1.609436</td>\n",
       "    </tr>\n",
       "    <tr>\n",
       "      <th>ägypten</th>\n",
       "      <td>2.463659</td>\n",
       "      <td>1.595238</td>\n",
       "    </tr>\n",
       "    <tr>\n",
       "      <th>albanien</th>\n",
       "      <td>0.082251</td>\n",
       "      <td>0.925247</td>\n",
       "    </tr>\n",
       "    <tr>\n",
       "      <th>algerien</th>\n",
       "      <td>1.610743</td>\n",
       "      <td>1.202194</td>\n",
       "    </tr>\n",
       "    <tr>\n",
       "      <th>angola</th>\n",
       "      <td>1.992825</td>\n",
       "      <td>2.591766</td>\n",
       "    </tr>\n",
       "  </tbody>\n",
       "</table>\n",
       "</div>"
      ],
      "text/plain": [
       "               X_UMAP    Y_UMAP\n",
       "Country                        \n",
       "afghanistan  2.017608  1.609436\n",
       "ägypten      2.463659  1.595238\n",
       "albanien     0.082251  0.925247\n",
       "algerien     1.610743  1.202194\n",
       "angola       1.992825  2.591766"
      ]
     },
     "execution_count": 66,
     "metadata": {},
     "output_type": "execute_result"
    }
   ],
   "source": [
    "vector_df.iloc[:,300:302].head()"
   ]
  },
  {
   "cell_type": "markdown",
   "metadata": {},
   "source": [
    "Den einzelnen Ländervektoren werden die UN-Regionalgruppen zugeordnet"
   ]
  },
  {
   "cell_type": "code",
   "execution_count": 67,
   "metadata": {},
   "outputs": [],
   "source": [
    "for column in country_groups_df.columns:\n",
    "    groups_list = []\n",
    "    for index, row in vector_df.iterrows():\n",
    "        country_name = index\n",
    "        country_name = country_name.replace(\"_\",\" \")\n",
    "        if country_name in country_groups_df.index:\n",
    "            group = country_groups_df[country_groups_df.index == country_name][column].values[0]\n",
    "        else:\n",
    "            print(country_name)\n",
    "            group = None\n",
    "        groups_list.append(group)\n",
    "    vector_df[column] = groups_list"
   ]
  },
  {
   "cell_type": "code",
   "execution_count": 68,
   "metadata": {},
   "outputs": [],
   "source": [
    "un_groups = {\"UN_AfricanGroup\":\"Afrika\",\"UN_AsiaGroup\":\"Asien\",\"UN_EastEUGroup\":\"Osteuropa\",\"UN_LatinAmerica\":\"Lateinamerika\",\"UN_WestEuropeGroup\":\"Westeuropa\"}\n",
    "groups_list = []\n",
    "\n",
    "for index, row in vector_df.iterrows():\n",
    "    for group in un_groups:\n",
    "        if row[group] == 1:\n",
    "            groups_list.append(un_groups[group])\n",
    "            \n",
    "vector_df[\"UN-Regionalgruppen\"] = groups_list"
   ]
  },
  {
   "cell_type": "code",
   "execution_count": 69,
   "metadata": {},
   "outputs": [
    {
     "data": {
      "text/plain": [
       "<matplotlib.legend.Legend at 0x247d5493748>"
      ]
     },
     "execution_count": 69,
     "metadata": {},
     "output_type": "execute_result"
    },
    {
     "data": {
      "image/png": "[encoded data removed]",
      "text/plain": [
       "<Figure size 864x648 with 1 Axes>"
      ]
     },
     "metadata": {},
     "output_type": "display_data"
    }
   ],
   "source": [
    "vis_plot = sns.scatterplot(x = \"X_UMAP\", y = \"Y_UMAP\", hue=\"UN-Regionalgruppen\", data=vector_df, s=80, \n",
    "                           hue_order = [\"Asien\", \"Afrika\", \"Lateinamerika\",\"Osteuropa\",\"Westeuropa\"], \n",
    "                           palette = {\"Westeuropa\":sns.color_palette()[0],\n",
    "                                      \"Osteuropa\": sns.color_palette()[9],\n",
    "                                      \"Asien\": sns.color_palette()[2],\n",
    "                                      \"Afrika\": sns.color_palette()[4],\n",
    "                                      \"Lateinamerika\": sns.color_palette()[8]})\n",
    "vis_plot.figure.set_size_inches(12,9)\n",
    "vis_plot.set_xlabel(\"\")\n",
    "vis_plot.set_ylabel(\"\")\n",
    "vis_plot.tick_params(labelsize=10)\n",
    "vis_plot.xaxis.label.set_visible(False)\n",
    "legend = vis_plot.get_legend()\n",
    "plt.legend(fontsize=13)"
   ]
  },
  {
   "cell_type": "markdown",
   "metadata": {},
   "source": [
    "Interaktive Version der obigen Grafik, in der Ländernamen eingeblendet werden können."
   ]
  },
  {
   "cell_type": "code",
   "execution_count": 70,
   "metadata": {},
   "outputs": [
    {
     "data": {
      "application/vnd.plotly.v1+json": {
       "config": {
        "linkText": "Export to plot.ly",
        "plotlyServerURL": "https://plot.ly",
        "showLink": false
       },
       "data": [
        {
         "mode": "markers",
         "name": "Westeuropa",
         "text": [
          "australien",
          "belgien",
          "dänemark",
          "finnland",
          "frankreich",
          "griechenland",
          "irland",
          "island",
          "israel",
          "italien",
          "kanada",
          "luxemburg",
          "malta",
          "neuseeland",
          "niederlande",
          "norwegen",
          "österreich",
          "portugal",
          "schweden",
          "schweiz",
          "spanien",
          "türkei",
          "usa",
          "vereinigtes_königreich"
         ],
         "textposition": "middle right",
         "type": "scatter",
         "x": [
          2.2809996604919434,
          2.3444902896881104,
          1.751684546470642,
          1.348679542541504,
          2.2215147018432617,
          2.353433609008789,
          1.9095951318740845,
          1.1129690408706665,
          2.021660804748535,
          2.298129081726074,
          2.370467185974121,
          1.6831170320510864,
          -0.2516690790653229,
          2.0629847049713135,
          1.6665054559707642,
          1.5527368783950806,
          1.8247050046920776,
          2.1982505321502686,
          1.7220956087112427,
          1.9629312753677368,
          2.1210834980010986,
          1.622434377670288,
          2.7228782176971436,
          2.356996536254883
         ],
         "y": [
          -2.309187173843384,
          -3.573563575744629,
          -3.789957284927368,
          -3.3028926849365234,
          -3.521580219268799,
          -4.141488075256348,
          -4.113702774047852,
          -2.8614258766174316,
          0.2708273231983185,
          -3.9401767253875732,
          -2.3443400859832764,
          -3.760225772857666,
          -1.2198200225830078,
          -2.6484615802764893,
          -3.464902877807617,
          -3.144740104675293,
          -3.67680025100708,
          -4.148169040679932,
          -3.368415594100952,
          -3.429821252822876,
          -3.930522918701172,
          0.5895119309425354,
          -2.017786741256714,
          -3.3437983989715576
         ]
        },
        {
         "mode": "markers",
         "name": "Afrika",
         "text": [
          "ägypten",
          "algerien",
          "angola",
          "äthiopien",
          "ghana",
          "kenia",
          "kongo",
          "libyen",
          "mali",
          "mosambik",
          "namibia",
          "niger",
          "nigeria",
          "ruanda",
          "senegal",
          "somalia",
          "südafrika",
          "sudan",
          "südsudan",
          "tansania",
          "uganda"
         ],
         "textposition": "middle right",
         "type": "scatter",
         "x": [
          2.463658571243286,
          1.6107428073883057,
          1.992824673652649,
          2.5046885013580322,
          2.8328335285186768,
          2.5627784729003906,
          1.7824608087539673,
          2.1404573917388916,
          2.8055403232574463,
          2.2386438846588135,
          3.0787103176116943,
          2.8465964794158936,
          2.4116151332855225,
          1.8777258396148682,
          2.7610087394714355,
          2.0487751960754395,
          3.5482230186462402,
          1.777327299118042,
          1.5765024423599243,
          2.3065640926361084,
          2.6282012462615967
         ],
         "y": [
          1.5952383279800415,
          1.202194094657898,
          2.591765880584717,
          2.618549346923828,
          2.2162327766418457,
          2.01497745513916,
          2.522632122039795,
          0.8716381192207336,
          2.390232563018799,
          2.29909610748291,
          1.9712910652160645,
          2.7825284004211426,
          2.3302552700042725,
          2.7881107330322266,
          2.572397470474243,
          2.127446413040161,
          1.455203652381897,
          1.8925964832305908,
          2.397804021835327,
          2.891620635986328,
          2.7207412719726562
         ]
        },
        {
         "mode": "markers",
         "name": "Osteuropa",
         "text": [
          "albanien",
          "armenien",
          "aserbaidschan",
          "belarus",
          "bosnien_und_herzegowina",
          "bulgarien",
          "estland",
          "georgien",
          "kroatien",
          "lettland",
          "litauen",
          "mazedonien",
          "montenegro",
          "polen",
          "rumänien",
          "serbien",
          "slowakei",
          "slowenien",
          "tschechien",
          "ukraine",
          "ungarn"
         ],
         "textposition": "middle right",
         "type": "scatter",
         "x": [
          0.08225124329328537,
          1.187025547027588,
          0.8480997681617737,
          -0.1534159928560257,
          -0.09342288225889206,
          -0.5829918384552002,
          -0.5865380764007568,
          0.5912929773330688,
          -0.21159331500530243,
          -0.5082512497901917,
          -0.7004213333129883,
          0.2470300793647766,
          0.3900149166584015,
          -0.776563286781311,
          -1.0456641912460327,
          0.5044544339179993,
          -0.8626800775527954,
          -0.9926439523696899,
          -0.810815155506134,
          -0.31868094205856323,
          -0.8443048596382141
         ],
         "y": [
          0.92524653673172,
          0.3843071162700653,
          0.5137034058570862,
          -0.23594629764556885,
          0.7700414657592773,
          -0.6781478524208069,
          -1.3876107931137085,
          0.3875720798969269,
          0.5294243693351746,
          -1.5295968055725098,
          -1.5021557807922363,
          1.0937597751617432,
          1.0154844522476196,
          -1.0291606187820435,
          -1.380580186843872,
          0.9749716520309448,
          -0.8454843759536743,
          -1.307861566543579,
          -1.129302978515625,
          -0.5120413899421692,
          -1.1762051582336426
         ]
        },
        {
         "mode": "markers",
         "name": "Asien",
         "text": [
          "afghanistan",
          "bangladesch",
          "china",
          "hongkong",
          "indien",
          "indonesien",
          "irak",
          "iran",
          "japan",
          "kambodscha",
          "kasachstan",
          "malaysia",
          "nepal",
          "nordkorea",
          "pakistan",
          "philippinen",
          "saudi_arabien",
          "singapur",
          "südkorea",
          "syrien",
          "thailand",
          "vietnam",
          "zypern"
         ],
         "textposition": "middle right",
         "type": "scatter",
         "x": [
          2.017608165740967,
          3.2112574577331543,
          2.8399832248687744,
          3.352198362350464,
          3.185781955718994,
          2.935222625732422,
          1.876366376876831,
          1.8305437564849854,
          2.6410303115844727,
          1.8244686126708984,
          0.7634223103523254,
          3.671339273452759,
          3.1107969284057617,
          2.3659515380859375,
          3.0397281646728516,
          3.6685330867767334,
          2.443345785140991,
          3.191511392593384,
          3.6390981674194336,
          1.78518545627594,
          3.542940378189087,
          3.487597942352295,
          -0.05618422105908394
         ],
         "y": [
          1.6094363927841187,
          2.570939779281616,
          0.06001409888267517,
          -0.39662280678749084,
          0.43678030371665955,
          0.5998731255531311,
          0.8887776136398315,
          0.5215225219726562,
          -2.1471879482269287,
          2.120497703552246,
          0.12253891676664352,
          0.3301577866077423,
          1.3555638790130615,
          0.6651042699813843,
          0.34320852160453796,
          -0.3552797734737396,
          0.877842903137207,
          -0.34286847710609436,
          -0.03727661818265915,
          1.0859893560409546,
          -0.07671105116605759,
          0.793218731880188,
          -1.0273059606552124
         ]
        },
        {
         "mode": "markers",
         "name": "Lateinamerika",
         "text": [
          "argentinien",
          "brasilien",
          "chile",
          "kolumbien",
          "kuba",
          "mexiko"
         ],
         "textposition": "middle right",
         "type": "scatter",
         "x": [
          3.9777400493621826,
          3.9723761081695557,
          3.760366439819336,
          1.6748780012130737,
          2.6250081062316895,
          3.761842727661133
         ],
         "y": [
          0.3179563879966736,
          0.5439692139625549,
          1.156480073928833,
          2.031801462173462,
          0.42808225750923157,
          0.7454932928085327
         ]
        }
       ],
       "layout": {
        "plot_bgcolor": "rgb(255, 255, 255)",
        "template": {
         "data": {
          "bar": [
           {
            "error_x": {
             "color": "#2a3f5f"
            },
            "error_y": {
             "color": "#2a3f5f"
            },
            "marker": {
             "line": {
              "color": "#E5ECF6",
              "width": 0.5
             }
            },
            "type": "bar"
           }
          ],
          "barpolar": [
           {
            "marker": {
             "line": {
              "color": "#E5ECF6",
              "width": 0.5
             }
            },
            "type": "barpolar"
           }
          ],
          "carpet": [
           {
            "aaxis": {
             "endlinecolor": "#2a3f5f",
             "gridcolor": "white",
             "linecolor": "white",
             "minorgridcolor": "white",
             "startlinecolor": "#2a3f5f"
            },
            "baxis": {
             "endlinecolor": "#2a3f5f",
             "gridcolor": "white",
             "linecolor": "white",
             "minorgridcolor": "white",
             "startlinecolor": "#2a3f5f"
            },
            "type": "carpet"
           }
          ],
          "choropleth": [
           {
            "colorbar": {
             "outlinewidth": 0,
             "ticks": ""
            },
            "type": "choropleth"
           }
          ],
          "contour": [
           {
            "colorbar": {
             "outlinewidth": 0,
             "ticks": ""
            },
            "colorscale": [
             [
              0,
              "#0d0887"
             ],
             [
              0.1111111111111111,
              "#46039f"
             ],
             [
              0.2222222222222222,
              "#7201a8"
             ],
             [
              0.3333333333333333,
              "#9c179e"
             ],
             [
              0.4444444444444444,
              "#bd3786"
             ],
             [
              0.5555555555555556,
              "#d8576b"
             ],
             [
              0.6666666666666666,
              "#ed7953"
             ],
             [
              0.7777777777777778,
              "#fb9f3a"
             ],
             [
              0.8888888888888888,
              "#fdca26"
             ],
             [
              1,
              "#f0f921"
             ]
            ],
            "type": "contour"
           }
          ],
          "contourcarpet": [
           {
            "colorbar": {
             "outlinewidth": 0,
             "ticks": ""
            },
            "type": "contourcarpet"
           }
          ],
          "heatmap": [
           {
            "colorbar": {
             "outlinewidth": 0,
             "ticks": ""
            },
            "colorscale": [
             [
              0,
              "#0d0887"
             ],
             [
              0.1111111111111111,
              "#46039f"
             ],
             [
              0.2222222222222222,
              "#7201a8"
             ],
             [
              0.3333333333333333,
              "#9c179e"
             ],
             [
              0.4444444444444444,
              "#bd3786"
             ],
             [
              0.5555555555555556,
              "#d8576b"
             ],
             [
              0.6666666666666666,
              "#ed7953"
             ],
             [
              0.7777777777777778,
              "#fb9f3a"
             ],
             [
              0.8888888888888888,
              "#fdca26"
             ],
             [
              1,
              "#f0f921"
             ]
            ],
            "type": "heatmap"
           }
          ],
          "heatmapgl": [
           {
            "colorbar": {
             "outlinewidth": 0,
             "ticks": ""
            },
            "colorscale": [
             [
              0,
              "#0d0887"
             ],
             [
              0.1111111111111111,
              "#46039f"
             ],
             [
              0.2222222222222222,
              "#7201a8"
             ],
             [
              0.3333333333333333,
              "#9c179e"
             ],
             [
              0.4444444444444444,
              "#bd3786"
             ],
             [
              0.5555555555555556,
              "#d8576b"
             ],
             [
              0.6666666666666666,
              "#ed7953"
             ],
             [
              0.7777777777777778,
              "#fb9f3a"
             ],
             [
              0.8888888888888888,
              "#fdca26"
             ],
             [
              1,
              "#f0f921"
             ]
            ],
            "type": "heatmapgl"
           }
          ],
          "histogram": [
           {
            "marker": {
             "colorbar": {
              "outlinewidth": 0,
              "ticks": ""
             }
            },
            "type": "histogram"
           }
          ],
          "histogram2d": [
           {
            "colorbar": {
             "outlinewidth": 0,
             "ticks": ""
            },
            "colorscale": [
             [
              0,
              "#0d0887"
             ],
             [
              0.1111111111111111,
              "#46039f"
             ],
             [
              0.2222222222222222,
              "#7201a8"
             ],
             [
              0.3333333333333333,
              "#9c179e"
             ],
             [
              0.4444444444444444,
              "#bd3786"
             ],
             [
              0.5555555555555556,
              "#d8576b"
             ],
             [
              0.6666666666666666,
              "#ed7953"
             ],
             [
              0.7777777777777778,
              "#fb9f3a"
             ],
             [
              0.8888888888888888,
              "#fdca26"
             ],
             [
              1,
              "#f0f921"
             ]
            ],
            "type": "histogram2d"
           }
          ],
          "histogram2dcontour": [
           {
            "colorbar": {
             "outlinewidth": 0,
             "ticks": ""
            },
            "colorscale": [
             [
              0,
              "#0d0887"
             ],
             [
              0.1111111111111111,
              "#46039f"
             ],
             [
              0.2222222222222222,
              "#7201a8"
             ],
             [
              0.3333333333333333,
              "#9c179e"
             ],
             [
              0.4444444444444444,
              "#bd3786"
             ],
             [
              0.5555555555555556,
              "#d8576b"
             ],
             [
              0.6666666666666666,
              "#ed7953"
             ],
             [
              0.7777777777777778,
              "#fb9f3a"
             ],
             [
              0.8888888888888888,
              "#fdca26"
             ],
             [
              1,
              "#f0f921"
             ]
            ],
            "type": "histogram2dcontour"
           }
          ],
          "mesh3d": [
           {
            "colorbar": {
             "outlinewidth": 0,
             "ticks": ""
            },
            "type": "mesh3d"
           }
          ],
          "parcoords": [
           {
            "line": {
             "colorbar": {
              "outlinewidth": 0,
              "ticks": ""
             }
            },
            "type": "parcoords"
           }
          ],
          "scatter": [
           {
            "marker": {
             "colorbar": {
              "outlinewidth": 0,
              "ticks": ""
             }
            },
            "type": "scatter"
           }
          ],
          "scatter3d": [
           {
            "line": {
             "colorbar": {
              "outlinewidth": 0,
              "ticks": ""
             }
            },
            "marker": {
             "colorbar": {
              "outlinewidth": 0,
              "ticks": ""
             }
            },
            "type": "scatter3d"
           }
          ],
          "scattercarpet": [
           {
            "marker": {
             "colorbar": {
              "outlinewidth": 0,
              "ticks": ""
             }
            },
            "type": "scattercarpet"
           }
          ],
          "scattergeo": [
           {
            "marker": {
             "colorbar": {
              "outlinewidth": 0,
              "ticks": ""
             }
            },
            "type": "scattergeo"
           }
          ],
          "scattergl": [
           {
            "marker": {
             "colorbar": {
              "outlinewidth": 0,
              "ticks": ""
             }
            },
            "type": "scattergl"
           }
          ],
          "scattermapbox": [
           {
            "marker": {
             "colorbar": {
              "outlinewidth": 0,
              "ticks": ""
             }
            },
            "type": "scattermapbox"
           }
          ],
          "scatterpolar": [
           {
            "marker": {
             "colorbar": {
              "outlinewidth": 0,
              "ticks": ""
             }
            },
            "type": "scatterpolar"
           }
          ],
          "scatterpolargl": [
           {
            "marker": {
             "colorbar": {
              "outlinewidth": 0,
              "ticks": ""
             }
            },
            "type": "scatterpolargl"
           }
          ],
          "scatterternary": [
           {
            "marker": {
             "colorbar": {
              "outlinewidth": 0,
              "ticks": ""
             }
            },
            "type": "scatterternary"
           }
          ],
          "surface": [
           {
            "colorbar": {
             "outlinewidth": 0,
             "ticks": ""
            },
            "colorscale": [
             [
              0,
              "#0d0887"
             ],
             [
              0.1111111111111111,
              "#46039f"
             ],
             [
              0.2222222222222222,
              "#7201a8"
             ],
             [
              0.3333333333333333,
              "#9c179e"
             ],
             [
              0.4444444444444444,
              "#bd3786"
             ],
             [
              0.5555555555555556,
              "#d8576b"
             ],
             [
              0.6666666666666666,
              "#ed7953"
             ],
             [
              0.7777777777777778,
              "#fb9f3a"
             ],
             [
              0.8888888888888888,
              "#fdca26"
             ],
             [
              1,
              "#f0f921"
             ]
            ],
            "type": "surface"
           }
          ],
          "table": [
           {
            "cells": {
             "fill": {
              "color": "#EBF0F8"
             },
             "line": {
              "color": "white"
             }
            },
            "header": {
             "fill": {
              "color": "#C8D4E3"
             },
             "line": {
              "color": "white"
             }
            },
            "type": "table"
           }
          ]
         },
         "layout": {
          "annotationdefaults": {
           "arrowcolor": "#2a3f5f",
           "arrowhead": 0,
           "arrowwidth": 1
          },
          "colorscale": {
           "diverging": [
            [
             0,
             "#8e0152"
            ],
            [
             0.1,
             "#c51b7d"
            ],
            [
             0.2,
             "#de77ae"
            ],
            [
             0.3,
             "#f1b6da"
            ],
            [
             0.4,
             "#fde0ef"
            ],
            [
             0.5,
             "#f7f7f7"
            ],
            [
             0.6,
             "#e6f5d0"
            ],
            [
             0.7,
             "#b8e186"
            ],
            [
             0.8,
             "#7fbc41"
            ],
            [
             0.9,
             "#4d9221"
            ],
            [
             1,
             "#276419"
            ]
           ],
           "sequential": [
            [
             0,
             "#0d0887"
            ],
            [
             0.1111111111111111,
             "#46039f"
            ],
            [
             0.2222222222222222,
             "#7201a8"
            ],
            [
             0.3333333333333333,
             "#9c179e"
            ],
            [
             0.4444444444444444,
             "#bd3786"
            ],
            [
             0.5555555555555556,
             "#d8576b"
            ],
            [
             0.6666666666666666,
             "#ed7953"
            ],
            [
             0.7777777777777778,
             "#fb9f3a"
            ],
            [
             0.8888888888888888,
             "#fdca26"
            ],
            [
             1,
             "#f0f921"
            ]
           ],
           "sequentialminus": [
            [
             0,
             "#0d0887"
            ],
            [
             0.1111111111111111,
             "#46039f"
            ],
            [
             0.2222222222222222,
             "#7201a8"
            ],
            [
             0.3333333333333333,
             "#9c179e"
            ],
            [
             0.4444444444444444,
             "#bd3786"
            ],
            [
             0.5555555555555556,
             "#d8576b"
            ],
            [
             0.6666666666666666,
             "#ed7953"
            ],
            [
             0.7777777777777778,
             "#fb9f3a"
            ],
            [
             0.8888888888888888,
             "#fdca26"
            ],
            [
             1,
             "#f0f921"
            ]
           ]
          },
          "colorway": [
           "#636efa",
           "#EF553B",
           "#00cc96",
           "#ab63fa",
           "#FFA15A",
           "#19d3f3",
           "#FF6692",
           "#B6E880",
           "#FF97FF",
           "#FECB52"
          ],
          "font": {
           "color": "#2a3f5f"
          },
          "geo": {
           "bgcolor": "white",
           "lakecolor": "white",
           "landcolor": "#E5ECF6",
           "showlakes": true,
           "showland": true,
           "subunitcolor": "white"
          },
          "hoverlabel": {
           "align": "left"
          },
          "hovermode": "closest",
          "mapbox": {
           "style": "light"
          },
          "paper_bgcolor": "white",
          "plot_bgcolor": "#E5ECF6",
          "polar": {
           "angularaxis": {
            "gridcolor": "white",
            "linecolor": "white",
            "ticks": ""
           },
           "bgcolor": "#E5ECF6",
           "radialaxis": {
            "gridcolor": "white",
            "linecolor": "white",
            "ticks": ""
           }
          },
          "scene": {
           "xaxis": {
            "backgroundcolor": "#E5ECF6",
            "gridcolor": "white",
            "gridwidth": 2,
            "linecolor": "white",
            "showbackground": true,
            "ticks": "",
            "zerolinecolor": "white"
           },
           "yaxis": {
            "backgroundcolor": "#E5ECF6",
            "gridcolor": "white",
            "gridwidth": 2,
            "linecolor": "white",
            "showbackground": true,
            "ticks": "",
            "zerolinecolor": "white"
           },
           "zaxis": {
            "backgroundcolor": "#E5ECF6",
            "gridcolor": "white",
            "gridwidth": 2,
            "linecolor": "white",
            "showbackground": true,
            "ticks": "",
            "zerolinecolor": "white"
           }
          },
          "shapedefaults": {
           "line": {
            "color": "#2a3f5f"
           }
          },
          "ternary": {
           "aaxis": {
            "gridcolor": "white",
            "linecolor": "white",
            "ticks": ""
           },
           "baxis": {
            "gridcolor": "white",
            "linecolor": "white",
            "ticks": ""
           },
           "bgcolor": "#E5ECF6",
           "caxis": {
            "gridcolor": "white",
            "linecolor": "white",
            "ticks": ""
           }
          },
          "title": {
           "x": 0.05
          },
          "xaxis": {
           "automargin": true,
           "gridcolor": "white",
           "linecolor": "white",
           "ticks": "",
           "zerolinecolor": "white",
           "zerolinewidth": 2
          },
          "yaxis": {
           "automargin": true,
           "gridcolor": "white",
           "linecolor": "white",
           "ticks": "",
           "zerolinecolor": "white",
           "zerolinewidth": 2
          }
         }
        },
        "xaxis": {
         "title": {
          "text": "X_UMAP"
         }
        },
        "yaxis": {
         "title": {
          "text": "Y_UMAP"
         }
        }
       }
      },
      "text/html": [
       "<div>\n",
       "        \n",
       "        \n",
       "            <div id=\"3c654887-6b48-4710-8309-39c38b3233d0\" class=\"plotly-graph-div\" style=\"height:525px; width:100%;\"></div>\n",
       "            <script type=\"text/javascript\">\n",
       "                require([\"plotly\"], function(Plotly) {\n",
       "                    window.PLOTLYENV=window.PLOTLYENV || {};\n",
       "                    \n",
       "                if (document.getElementById(\"3c654887-6b48-4710-8309-39c38b3233d0\")) {\n",
       "                    Plotly.newPlot(\n",
       "                        '3c654887-6b48-4710-8309-39c38b3233d0',\n",
       "                        [{\"mode\": \"markers\", \"name\": \"Westeuropa\", \"text\": [\"australien\", \"belgien\", \"d\\u00e4nemark\", \"finnland\", \"frankreich\", \"griechenland\", \"irland\", \"island\", \"israel\", \"italien\", \"kanada\", \"luxemburg\", \"malta\", \"neuseeland\", \"niederlande\", \"norwegen\", \"\\u00f6sterreich\", \"portugal\", \"schweden\", \"schweiz\", \"spanien\", \"t\\u00fcrkei\", \"usa\", \"vereinigtes_k\\u00f6nigreich\"], \"textposition\": \"middle right\", \"type\": \"scatter\", \"x\": [2.2809996604919434, 2.3444902896881104, 1.751684546470642, 1.348679542541504, 2.2215147018432617, 2.353433609008789, 1.9095951318740845, 1.1129690408706665, 2.021660804748535, 2.298129081726074, 2.370467185974121, 1.6831170320510864, -0.2516690790653229, 2.0629847049713135, 1.6665054559707642, 1.5527368783950806, 1.8247050046920776, 2.1982505321502686, 1.7220956087112427, 1.9629312753677368, 2.1210834980010986, 1.622434377670288, 2.7228782176971436, 2.356996536254883], \"y\": [-2.309187173843384, -3.573563575744629, -3.789957284927368, -3.3028926849365234, -3.521580219268799, -4.141488075256348, -4.113702774047852, -2.8614258766174316, 0.2708273231983185, -3.9401767253875732, -2.3443400859832764, -3.760225772857666, -1.2198200225830078, -2.6484615802764893, -3.464902877807617, -3.144740104675293, -3.67680025100708, -4.148169040679932, -3.368415594100952, -3.429821252822876, -3.930522918701172, 0.5895119309425354, -2.017786741256714, -3.3437983989715576]}, {\"mode\": \"markers\", \"name\": \"Afrika\", \"text\": [\"\\u00e4gypten\", \"algerien\", \"angola\", \"\\u00e4thiopien\", \"ghana\", \"kenia\", \"kongo\", \"libyen\", \"mali\", \"mosambik\", \"namibia\", \"niger\", \"nigeria\", \"ruanda\", \"senegal\", \"somalia\", \"s\\u00fcdafrika\", \"sudan\", \"s\\u00fcdsudan\", \"tansania\", \"uganda\"], \"textposition\": \"middle right\", \"type\": \"scatter\", \"x\": [2.463658571243286, 1.6107428073883057, 1.992824673652649, 2.5046885013580322, 2.8328335285186768, 2.5627784729003906, 1.7824608087539673, 2.1404573917388916, 2.8055403232574463, 2.2386438846588135, 3.0787103176116943, 2.8465964794158936, 2.4116151332855225, 1.8777258396148682, 2.7610087394714355, 2.0487751960754395, 3.5482230186462402, 1.777327299118042, 1.5765024423599243, 2.3065640926361084, 2.6282012462615967], \"y\": [1.5952383279800415, 1.202194094657898, 2.591765880584717, 2.618549346923828, 2.2162327766418457, 2.01497745513916, 2.522632122039795, 0.8716381192207336, 2.390232563018799, 2.29909610748291, 1.9712910652160645, 2.7825284004211426, 2.3302552700042725, 2.7881107330322266, 2.572397470474243, 2.127446413040161, 1.455203652381897, 1.8925964832305908, 2.397804021835327, 2.891620635986328, 2.7207412719726562]}, {\"mode\": \"markers\", \"name\": \"Osteuropa\", \"text\": [\"albanien\", \"armenien\", \"aserbaidschan\", \"belarus\", \"bosnien_und_herzegowina\", \"bulgarien\", \"estland\", \"georgien\", \"kroatien\", \"lettland\", \"litauen\", \"mazedonien\", \"montenegro\", \"polen\", \"rum\\u00e4nien\", \"serbien\", \"slowakei\", \"slowenien\", \"tschechien\", \"ukraine\", \"ungarn\"], \"textposition\": \"middle right\", \"type\": \"scatter\", \"x\": [0.08225124329328537, 1.187025547027588, 0.8480997681617737, -0.1534159928560257, -0.09342288225889206, -0.5829918384552002, -0.5865380764007568, 0.5912929773330688, -0.21159331500530243, -0.5082512497901917, -0.7004213333129883, 0.2470300793647766, 0.3900149166584015, -0.776563286781311, -1.0456641912460327, 0.5044544339179993, -0.8626800775527954, -0.9926439523696899, -0.810815155506134, -0.31868094205856323, -0.8443048596382141], \"y\": [0.92524653673172, 0.3843071162700653, 0.5137034058570862, -0.23594629764556885, 0.7700414657592773, -0.6781478524208069, -1.3876107931137085, 0.3875720798969269, 0.5294243693351746, -1.5295968055725098, -1.5021557807922363, 1.0937597751617432, 1.0154844522476196, -1.0291606187820435, -1.380580186843872, 0.9749716520309448, -0.8454843759536743, -1.307861566543579, -1.129302978515625, -0.5120413899421692, -1.1762051582336426]}, {\"mode\": \"markers\", \"name\": \"Asien\", \"text\": [\"afghanistan\", \"bangladesch\", \"china\", \"hongkong\", \"indien\", \"indonesien\", \"irak\", \"iran\", \"japan\", \"kambodscha\", \"kasachstan\", \"malaysia\", \"nepal\", \"nordkorea\", \"pakistan\", \"philippinen\", \"saudi_arabien\", \"singapur\", \"s\\u00fcdkorea\", \"syrien\", \"thailand\", \"vietnam\", \"zypern\"], \"textposition\": \"middle right\", \"type\": \"scatter\", \"x\": [2.017608165740967, 3.2112574577331543, 2.8399832248687744, 3.352198362350464, 3.185781955718994, 2.935222625732422, 1.876366376876831, 1.8305437564849854, 2.6410303115844727, 1.8244686126708984, 0.7634223103523254, 3.671339273452759, 3.1107969284057617, 2.3659515380859375, 3.0397281646728516, 3.6685330867767334, 2.443345785140991, 3.191511392593384, 3.6390981674194336, 1.78518545627594, 3.542940378189087, 3.487597942352295, -0.05618422105908394], \"y\": [1.6094363927841187, 2.570939779281616, 0.06001409888267517, -0.39662280678749084, 0.43678030371665955, 0.5998731255531311, 0.8887776136398315, 0.5215225219726562, -2.1471879482269287, 2.120497703552246, 0.12253891676664352, 0.3301577866077423, 1.3555638790130615, 0.6651042699813843, 0.34320852160453796, -0.3552797734737396, 0.877842903137207, -0.34286847710609436, -0.03727661818265915, 1.0859893560409546, -0.07671105116605759, 0.793218731880188, -1.0273059606552124]}, {\"mode\": \"markers\", \"name\": \"Lateinamerika\", \"text\": [\"argentinien\", \"brasilien\", \"chile\", \"kolumbien\", \"kuba\", \"mexiko\"], \"textposition\": \"middle right\", \"type\": \"scatter\", \"x\": [3.9777400493621826, 3.9723761081695557, 3.760366439819336, 1.6748780012130737, 2.6250081062316895, 3.761842727661133], \"y\": [0.3179563879966736, 0.5439692139625549, 1.156480073928833, 2.031801462173462, 0.42808225750923157, 0.7454932928085327]}],\n",
       "                        {\"plot_bgcolor\": \"rgb(255, 255, 255)\", \"template\": {\"data\": {\"bar\": [{\"error_x\": {\"color\": \"#2a3f5f\"}, \"error_y\": {\"color\": \"#2a3f5f\"}, \"marker\": {\"line\": {\"color\": \"#E5ECF6\", \"width\": 0.5}}, \"type\": \"bar\"}], \"barpolar\": [{\"marker\": {\"line\": {\"color\": \"#E5ECF6\", \"width\": 0.5}}, \"type\": \"barpolar\"}], \"carpet\": [{\"aaxis\": {\"endlinecolor\": \"#2a3f5f\", \"gridcolor\": \"white\", \"linecolor\": \"white\", \"minorgridcolor\": \"white\", \"startlinecolor\": \"#2a3f5f\"}, \"baxis\": {\"endlinecolor\": \"#2a3f5f\", \"gridcolor\": \"white\", \"linecolor\": \"white\", \"minorgridcolor\": \"white\", \"startlinecolor\": \"#2a3f5f\"}, \"type\": \"carpet\"}], \"choropleth\": [{\"colorbar\": {\"outlinewidth\": 0, \"ticks\": \"\"}, \"type\": \"choropleth\"}], \"contour\": [{\"colorbar\": {\"outlinewidth\": 0, \"ticks\": \"\"}, \"colorscale\": [[0.0, \"#0d0887\"], [0.1111111111111111, \"#46039f\"], [0.2222222222222222, \"#7201a8\"], [0.3333333333333333, \"#9c179e\"], [0.4444444444444444, \"#bd3786\"], [0.5555555555555556, \"#d8576b\"], [0.6666666666666666, \"#ed7953\"], [0.7777777777777778, \"#fb9f3a\"], [0.8888888888888888, \"#fdca26\"], [1.0, \"#f0f921\"]], \"type\": \"contour\"}], \"contourcarpet\": [{\"colorbar\": {\"outlinewidth\": 0, \"ticks\": \"\"}, \"type\": \"contourcarpet\"}], \"heatmap\": [{\"colorbar\": {\"outlinewidth\": 0, \"ticks\": \"\"}, \"colorscale\": [[0.0, \"#0d0887\"], [0.1111111111111111, \"#46039f\"], [0.2222222222222222, \"#7201a8\"], [0.3333333333333333, \"#9c179e\"], [0.4444444444444444, \"#bd3786\"], [0.5555555555555556, \"#d8576b\"], [0.6666666666666666, \"#ed7953\"], [0.7777777777777778, \"#fb9f3a\"], [0.8888888888888888, \"#fdca26\"], [1.0, \"#f0f921\"]], \"type\": \"heatmap\"}], \"heatmapgl\": [{\"colorbar\": {\"outlinewidth\": 0, \"ticks\": \"\"}, \"colorscale\": [[0.0, \"#0d0887\"], [0.1111111111111111, \"#46039f\"], [0.2222222222222222, \"#7201a8\"], [0.3333333333333333, \"#9c179e\"], [0.4444444444444444, \"#bd3786\"], [0.5555555555555556, \"#d8576b\"], [0.6666666666666666, \"#ed7953\"], [0.7777777777777778, \"#fb9f3a\"], [0.8888888888888888, \"#fdca26\"], [1.0, \"#f0f921\"]], \"type\": \"heatmapgl\"}], \"histogram\": [{\"marker\": {\"colorbar\": {\"outlinewidth\": 0, \"ticks\": \"\"}}, \"type\": \"histogram\"}], \"histogram2d\": [{\"colorbar\": {\"outlinewidth\": 0, \"ticks\": \"\"}, \"colorscale\": [[0.0, \"#0d0887\"], [0.1111111111111111, \"#46039f\"], [0.2222222222222222, \"#7201a8\"], [0.3333333333333333, \"#9c179e\"], [0.4444444444444444, \"#bd3786\"], [0.5555555555555556, \"#d8576b\"], [0.6666666666666666, \"#ed7953\"], [0.7777777777777778, \"#fb9f3a\"], [0.8888888888888888, \"#fdca26\"], [1.0, \"#f0f921\"]], \"type\": \"histogram2d\"}], \"histogram2dcontour\": [{\"colorbar\": {\"outlinewidth\": 0, \"ticks\": \"\"}, \"colorscale\": [[0.0, \"#0d0887\"], [0.1111111111111111, \"#46039f\"], [0.2222222222222222, \"#7201a8\"], [0.3333333333333333, \"#9c179e\"], [0.4444444444444444, \"#bd3786\"], [0.5555555555555556, \"#d8576b\"], [0.6666666666666666, \"#ed7953\"], [0.7777777777777778, \"#fb9f3a\"], [0.8888888888888888, \"#fdca26\"], [1.0, \"#f0f921\"]], \"type\": \"histogram2dcontour\"}], \"mesh3d\": [{\"colorbar\": {\"outlinewidth\": 0, \"ticks\": \"\"}, \"type\": \"mesh3d\"}], \"parcoords\": [{\"line\": {\"colorbar\": {\"outlinewidth\": 0, \"ticks\": \"\"}}, \"type\": \"parcoords\"}], \"scatter\": [{\"marker\": {\"colorbar\": {\"outlinewidth\": 0, \"ticks\": \"\"}}, \"type\": \"scatter\"}], \"scatter3d\": [{\"line\": {\"colorbar\": {\"outlinewidth\": 0, \"ticks\": \"\"}}, \"marker\": {\"colorbar\": {\"outlinewidth\": 0, \"ticks\": \"\"}}, \"type\": \"scatter3d\"}], \"scattercarpet\": [{\"marker\": {\"colorbar\": {\"outlinewidth\": 0, \"ticks\": \"\"}}, \"type\": \"scattercarpet\"}], \"scattergeo\": [{\"marker\": {\"colorbar\": {\"outlinewidth\": 0, \"ticks\": \"\"}}, \"type\": \"scattergeo\"}], \"scattergl\": [{\"marker\": {\"colorbar\": {\"outlinewidth\": 0, \"ticks\": \"\"}}, \"type\": \"scattergl\"}], \"scattermapbox\": [{\"marker\": {\"colorbar\": {\"outlinewidth\": 0, \"ticks\": \"\"}}, \"type\": \"scattermapbox\"}], \"scatterpolar\": [{\"marker\": {\"colorbar\": {\"outlinewidth\": 0, \"ticks\": \"\"}}, \"type\": \"scatterpolar\"}], \"scatterpolargl\": [{\"marker\": {\"colorbar\": {\"outlinewidth\": 0, \"ticks\": \"\"}}, \"type\": \"scatterpolargl\"}], \"scatterternary\": [{\"marker\": {\"colorbar\": {\"outlinewidth\": 0, \"ticks\": \"\"}}, \"type\": \"scatterternary\"}], \"surface\": [{\"colorbar\": {\"outlinewidth\": 0, \"ticks\": \"\"}, \"colorscale\": [[0.0, \"#0d0887\"], [0.1111111111111111, \"#46039f\"], [0.2222222222222222, \"#7201a8\"], [0.3333333333333333, \"#9c179e\"], [0.4444444444444444, \"#bd3786\"], [0.5555555555555556, \"#d8576b\"], [0.6666666666666666, \"#ed7953\"], [0.7777777777777778, \"#fb9f3a\"], [0.8888888888888888, \"#fdca26\"], [1.0, \"#f0f921\"]], \"type\": \"surface\"}], \"table\": [{\"cells\": {\"fill\": {\"color\": \"#EBF0F8\"}, \"line\": {\"color\": \"white\"}}, \"header\": {\"fill\": {\"color\": \"#C8D4E3\"}, \"line\": {\"color\": \"white\"}}, \"type\": \"table\"}]}, \"layout\": {\"annotationdefaults\": {\"arrowcolor\": \"#2a3f5f\", \"arrowhead\": 0, \"arrowwidth\": 1}, \"colorscale\": {\"diverging\": [[0, \"#8e0152\"], [0.1, \"#c51b7d\"], [0.2, \"#de77ae\"], [0.3, \"#f1b6da\"], [0.4, \"#fde0ef\"], [0.5, \"#f7f7f7\"], [0.6, \"#e6f5d0\"], [0.7, \"#b8e186\"], [0.8, \"#7fbc41\"], [0.9, \"#4d9221\"], [1, \"#276419\"]], \"sequential\": [[0.0, \"#0d0887\"], [0.1111111111111111, \"#46039f\"], [0.2222222222222222, \"#7201a8\"], [0.3333333333333333, \"#9c179e\"], [0.4444444444444444, \"#bd3786\"], [0.5555555555555556, \"#d8576b\"], [0.6666666666666666, \"#ed7953\"], [0.7777777777777778, \"#fb9f3a\"], [0.8888888888888888, \"#fdca26\"], [1.0, \"#f0f921\"]], \"sequentialminus\": [[0.0, \"#0d0887\"], [0.1111111111111111, \"#46039f\"], [0.2222222222222222, \"#7201a8\"], [0.3333333333333333, \"#9c179e\"], [0.4444444444444444, \"#bd3786\"], [0.5555555555555556, \"#d8576b\"], [0.6666666666666666, \"#ed7953\"], [0.7777777777777778, \"#fb9f3a\"], [0.8888888888888888, \"#fdca26\"], [1.0, \"#f0f921\"]]}, \"colorway\": [\"#636efa\", \"#EF553B\", \"#00cc96\", \"#ab63fa\", \"#FFA15A\", \"#19d3f3\", \"#FF6692\", \"#B6E880\", \"#FF97FF\", \"#FECB52\"], \"font\": {\"color\": \"#2a3f5f\"}, \"geo\": {\"bgcolor\": \"white\", \"lakecolor\": \"white\", \"landcolor\": \"#E5ECF6\", \"showlakes\": true, \"showland\": true, \"subunitcolor\": \"white\"}, \"hoverlabel\": {\"align\": \"left\"}, \"hovermode\": \"closest\", \"mapbox\": {\"style\": \"light\"}, \"paper_bgcolor\": \"white\", \"plot_bgcolor\": \"#E5ECF6\", \"polar\": {\"angularaxis\": {\"gridcolor\": \"white\", \"linecolor\": \"white\", \"ticks\": \"\"}, \"bgcolor\": \"#E5ECF6\", \"radialaxis\": {\"gridcolor\": \"white\", \"linecolor\": \"white\", \"ticks\": \"\"}}, \"scene\": {\"xaxis\": {\"backgroundcolor\": \"#E5ECF6\", \"gridcolor\": \"white\", \"gridwidth\": 2, \"linecolor\": \"white\", \"showbackground\": true, \"ticks\": \"\", \"zerolinecolor\": \"white\"}, \"yaxis\": {\"backgroundcolor\": \"#E5ECF6\", \"gridcolor\": \"white\", \"gridwidth\": 2, \"linecolor\": \"white\", \"showbackground\": true, \"ticks\": \"\", \"zerolinecolor\": \"white\"}, \"zaxis\": {\"backgroundcolor\": \"#E5ECF6\", \"gridcolor\": \"white\", \"gridwidth\": 2, \"linecolor\": \"white\", \"showbackground\": true, \"ticks\": \"\", \"zerolinecolor\": \"white\"}}, \"shapedefaults\": {\"line\": {\"color\": \"#2a3f5f\"}}, \"ternary\": {\"aaxis\": {\"gridcolor\": \"white\", \"linecolor\": \"white\", \"ticks\": \"\"}, \"baxis\": {\"gridcolor\": \"white\", \"linecolor\": \"white\", \"ticks\": \"\"}, \"bgcolor\": \"#E5ECF6\", \"caxis\": {\"gridcolor\": \"white\", \"linecolor\": \"white\", \"ticks\": \"\"}}, \"title\": {\"x\": 0.05}, \"xaxis\": {\"automargin\": true, \"gridcolor\": \"white\", \"linecolor\": \"white\", \"ticks\": \"\", \"zerolinecolor\": \"white\", \"zerolinewidth\": 2}, \"yaxis\": {\"automargin\": true, \"gridcolor\": \"white\", \"linecolor\": \"white\", \"ticks\": \"\", \"zerolinecolor\": \"white\", \"zerolinewidth\": 2}}}, \"xaxis\": {\"title\": {\"text\": \"X_UMAP\"}}, \"yaxis\": {\"title\": {\"text\": \"Y_UMAP\"}}},\n",
       "                        {\"responsive\": true}\n",
       "                    ).then(function(){\n",
       "                            \n",
       "var gd = document.getElementById('3c654887-6b48-4710-8309-39c38b3233d0');\n",
       "var x = new MutationObserver(function (mutations, observer) {{\n",
       "        var display = window.getComputedStyle(gd).display;\n",
       "        if (!display || display === 'none') {{\n",
       "            console.log([gd, 'removed!']);\n",
       "            Plotly.purge(gd);\n",
       "            observer.disconnect();\n",
       "        }}\n",
       "}});\n",
       "\n",
       "// Listen for the removal of the full notebook cells\n",
       "var notebookContainer = gd.closest('#notebook-container');\n",
       "if (notebookContainer) {{\n",
       "    x.observe(notebookContainer, {childList: true});\n",
       "}}\n",
       "\n",
       "// Listen for the clearing of the current output cell\n",
       "var outputEl = gd.closest('.output');\n",
       "if (outputEl) {{\n",
       "    x.observe(outputEl, {childList: true});\n",
       "}}\n",
       "\n",
       "                        })\n",
       "                };\n",
       "                });\n",
       "            </script>\n",
       "        </div>"
      ]
     },
     "metadata": {},
     "output_type": "display_data"
    }
   ],
   "source": [
    "un_groups = [\"UN_AfricanGroup\",\"UN_AsiaGroup\",\"UN_EastEUGroup\",\"UN_LatinAmerica\",\"UN_WestEuropeGroup\"]\n",
    "\n",
    "vector_df_africa = vector_df[vector_df.UN_AfricanGroup==1]\n",
    "vector_df_asia = vector_df[vector_df.UN_AsiaGroup==1]\n",
    "vector_df_easteu = vector_df[vector_df.UN_EastEUGroup==1]\n",
    "vector_df_latinamerica = vector_df[vector_df.UN_LatinAmerica==1]\n",
    "vector_df_westeu = vector_df[vector_df.UN_WestEuropeGroup==1]\n",
    "\n",
    "\n",
    "fig = {\n",
    "    'data': [\n",
    "        {\n",
    "  \t\t\t'x': vector_df_westeu.X_UMAP, \n",
    "        \t'y': vector_df_westeu.Y_UMAP, \n",
    "        \t'text': vector_df_westeu.index, \n",
    "        \t'mode': 'markers', \n",
    "        \t'name': 'Westeuropa',\n",
    "            \"textposition\":\"middle right\"},\n",
    "  \t\t{\n",
    "  \t\t\t'x': vector_df_africa.X_UMAP, \n",
    "        \t'y': vector_df_africa.Y_UMAP, \n",
    "        \t'text': vector_df_africa.index, \n",
    "        \t'mode': 'markers', \n",
    "        \t'name': 'Afrika',\n",
    "            \"textposition\":\"middle right\"},\n",
    "        {\n",
    "  \t\t\t'x': vector_df_easteu.X_UMAP, \n",
    "        \t'y': vector_df_easteu.Y_UMAP, \n",
    "        \t'text': vector_df_easteu.index, \n",
    "        \t'mode': 'markers', \n",
    "        \t'name': 'Osteuropa',\n",
    "            \"textposition\":\"middle right\"},\n",
    "      \t{\n",
    "  \t\t\t'x': vector_df_asia.X_UMAP, \n",
    "        \t'y': vector_df_asia.Y_UMAP, \n",
    "        \t'text': vector_df_asia.index, \n",
    "        \t'mode': 'markers', \n",
    "        \t'name': 'Asien',\n",
    "            \"textposition\":\"middle right\"},\n",
    "\n",
    "\n",
    "      \t{\n",
    "  \t\t\t'x': vector_df_latinamerica.X_UMAP, \n",
    "        \t'y': vector_df_latinamerica.Y_UMAP, \n",
    "        \t'text': vector_df_latinamerica.index, \n",
    "        \t'mode': 'markers', \n",
    "        \t'name': 'Lateinamerika',\n",
    "            \"textposition\":\"middle right\"},\n",
    "\n",
    "    ],\n",
    "    'layout': {\n",
    "        'xaxis': {'title': 'X_UMAP'},\n",
    "        'yaxis': {'title': \"Y_UMAP\"},\n",
    "        \"plot_bgcolor\": \"rgb(255, 255, 255)\",\n",
    "       # \"width\": 2000,\n",
    "        #\"height\": 1300, #or more\n",
    "        #\"autosize\": False\n",
    "    }\n",
    "}\n",
    "\n",
    "plotly.offline.iplot(fig, filename='basic-scatter')"
   ]
  },
  {
   "cell_type": "markdown",
   "metadata": {},
   "source": [
    "## Abbildung 2 - Wortvektoren der Ländernamen differenziert nach westlichen Identitäten (1996-1999). "
   ]
  },
  {
   "cell_type": "code",
   "execution_count": 10,
   "metadata": {},
   "outputs": [],
   "source": [
    "import pandas as pd\n",
    "import umap\n",
    "import seaborn as sns\n",
    "import matplotlib\n",
    "import matplotlib.pyplot as plt\n",
    "import plotly\n",
    "import plotly.graph_objs as go\n",
    "\n",
    "%matplotlib inline\n",
    "matplotlib.style.use('seaborn-white')"
   ]
  },
  {
   "cell_type": "markdown",
   "metadata": {},
   "source": [
    "Laden der Wortvektoren des Wortvektormodells, das anhand der Bundestagsreden zwischen den Jahren 1996 bis 1999 gebildet wurde. Als Grundlage dient das \"fixedModel\", also das Modell, das am originalen, nicht durch bootstrapping veränderten Datensatz trainiert wurde."
   ]
  },
  {
   "cell_type": "code",
   "execution_count": 11,
   "metadata": {},
   "outputs": [
    {
     "data": {
      "text/html": [
       "<div>\n",
       "<style scoped>\n",
       "    .dataframe tbody tr th:only-of-type {\n",
       "        vertical-align: middle;\n",
       "    }\n",
       "\n",
       "    .dataframe tbody tr th {\n",
       "        vertical-align: top;\n",
       "    }\n",
       "\n",
       "    .dataframe thead th {\n",
       "        text-align: right;\n",
       "    }\n",
       "</style>\n",
       "<table border=\"1\" class=\"dataframe\">\n",
       "  <thead>\n",
       "    <tr style=\"text-align: right;\">\n",
       "      <th></th>\n",
       "      <th>Vectordimension_0</th>\n",
       "      <th>Vectordimension_1</th>\n",
       "      <th>Vectordimension_2</th>\n",
       "      <th>Vectordimension_3</th>\n",
       "      <th>Vectordimension_4</th>\n",
       "      <th>Vectordimension_5</th>\n",
       "      <th>Vectordimension_6</th>\n",
       "      <th>Vectordimension_7</th>\n",
       "      <th>Vectordimension_8</th>\n",
       "      <th>Vectordimension_9</th>\n",
       "      <th>...</th>\n",
       "      <th>Vectordimension_290</th>\n",
       "      <th>Vectordimension_291</th>\n",
       "      <th>Vectordimension_292</th>\n",
       "      <th>Vectordimension_293</th>\n",
       "      <th>Vectordimension_294</th>\n",
       "      <th>Vectordimension_295</th>\n",
       "      <th>Vectordimension_296</th>\n",
       "      <th>Vectordimension_297</th>\n",
       "      <th>Vectordimension_298</th>\n",
       "      <th>Vectordimension_299</th>\n",
       "    </tr>\n",
       "    <tr>\n",
       "      <th>Country</th>\n",
       "      <th></th>\n",
       "      <th></th>\n",
       "      <th></th>\n",
       "      <th></th>\n",
       "      <th></th>\n",
       "      <th></th>\n",
       "      <th></th>\n",
       "      <th></th>\n",
       "      <th></th>\n",
       "      <th></th>\n",
       "      <th></th>\n",
       "      <th></th>\n",
       "      <th></th>\n",
       "      <th></th>\n",
       "      <th></th>\n",
       "      <th></th>\n",
       "      <th></th>\n",
       "      <th></th>\n",
       "      <th></th>\n",
       "      <th></th>\n",
       "      <th></th>\n",
       "    </tr>\n",
       "  </thead>\n",
       "  <tbody>\n",
       "    <tr>\n",
       "      <th>afghanistan</th>\n",
       "      <td>0.053558</td>\n",
       "      <td>-0.057460</td>\n",
       "      <td>0.070017</td>\n",
       "      <td>-0.039772</td>\n",
       "      <td>0.044162</td>\n",
       "      <td>-0.000367</td>\n",
       "      <td>0.003121</td>\n",
       "      <td>-0.032732</td>\n",
       "      <td>0.092648</td>\n",
       "      <td>-0.004396</td>\n",
       "      <td>...</td>\n",
       "      <td>0.088519</td>\n",
       "      <td>-0.070731</td>\n",
       "      <td>0.027065</td>\n",
       "      <td>-0.038740</td>\n",
       "      <td>0.017457</td>\n",
       "      <td>-0.033025</td>\n",
       "      <td>-0.058545</td>\n",
       "      <td>0.073686</td>\n",
       "      <td>-0.019444</td>\n",
       "      <td>-0.092041</td>\n",
       "    </tr>\n",
       "    <tr>\n",
       "      <th>ägypten</th>\n",
       "      <td>-0.000237</td>\n",
       "      <td>-0.113569</td>\n",
       "      <td>0.063510</td>\n",
       "      <td>-0.025303</td>\n",
       "      <td>0.022328</td>\n",
       "      <td>-0.011177</td>\n",
       "      <td>0.063001</td>\n",
       "      <td>-0.034022</td>\n",
       "      <td>0.088259</td>\n",
       "      <td>-0.029472</td>\n",
       "      <td>...</td>\n",
       "      <td>0.101099</td>\n",
       "      <td>-0.050718</td>\n",
       "      <td>-0.098086</td>\n",
       "      <td>0.006282</td>\n",
       "      <td>0.099865</td>\n",
       "      <td>0.001289</td>\n",
       "      <td>0.039256</td>\n",
       "      <td>-0.004273</td>\n",
       "      <td>-0.017475</td>\n",
       "      <td>-0.190498</td>\n",
       "    </tr>\n",
       "    <tr>\n",
       "      <th>albanien</th>\n",
       "      <td>0.014385</td>\n",
       "      <td>-0.046350</td>\n",
       "      <td>0.052827</td>\n",
       "      <td>-0.026673</td>\n",
       "      <td>0.005334</td>\n",
       "      <td>0.010046</td>\n",
       "      <td>0.069131</td>\n",
       "      <td>0.036719</td>\n",
       "      <td>0.004946</td>\n",
       "      <td>0.001791</td>\n",
       "      <td>...</td>\n",
       "      <td>0.117416</td>\n",
       "      <td>-0.006951</td>\n",
       "      <td>-0.054614</td>\n",
       "      <td>0.043457</td>\n",
       "      <td>-0.010809</td>\n",
       "      <td>0.011361</td>\n",
       "      <td>-0.001976</td>\n",
       "      <td>0.003596</td>\n",
       "      <td>0.074826</td>\n",
       "      <td>-0.052702</td>\n",
       "    </tr>\n",
       "    <tr>\n",
       "      <th>algerien</th>\n",
       "      <td>0.026815</td>\n",
       "      <td>0.009564</td>\n",
       "      <td>0.082491</td>\n",
       "      <td>-0.054220</td>\n",
       "      <td>0.049247</td>\n",
       "      <td>0.082527</td>\n",
       "      <td>-0.000571</td>\n",
       "      <td>-0.029966</td>\n",
       "      <td>0.070170</td>\n",
       "      <td>-0.018543</td>\n",
       "      <td>...</td>\n",
       "      <td>0.099459</td>\n",
       "      <td>-0.092021</td>\n",
       "      <td>0.067130</td>\n",
       "      <td>-0.046376</td>\n",
       "      <td>0.033281</td>\n",
       "      <td>-0.008641</td>\n",
       "      <td>-0.064856</td>\n",
       "      <td>-0.063001</td>\n",
       "      <td>-0.017508</td>\n",
       "      <td>-0.013991</td>\n",
       "    </tr>\n",
       "    <tr>\n",
       "      <th>angola</th>\n",
       "      <td>0.069849</td>\n",
       "      <td>0.006982</td>\n",
       "      <td>0.130802</td>\n",
       "      <td>-0.086332</td>\n",
       "      <td>0.041687</td>\n",
       "      <td>-0.034243</td>\n",
       "      <td>0.078058</td>\n",
       "      <td>0.038498</td>\n",
       "      <td>-0.002608</td>\n",
       "      <td>-0.067106</td>\n",
       "      <td>...</td>\n",
       "      <td>0.053113</td>\n",
       "      <td>-0.095571</td>\n",
       "      <td>-0.000061</td>\n",
       "      <td>0.011883</td>\n",
       "      <td>0.007009</td>\n",
       "      <td>-0.061061</td>\n",
       "      <td>-0.018543</td>\n",
       "      <td>0.038415</td>\n",
       "      <td>-0.087538</td>\n",
       "      <td>-0.080830</td>\n",
       "    </tr>\n",
       "  </tbody>\n",
       "</table>\n",
       "<p>5 rows × 300 columns</p>\n",
       "</div>"
      ],
      "text/plain": [
       "             Vectordimension_0  Vectordimension_1  Vectordimension_2  \\\n",
       "Country                                                                \n",
       "afghanistan           0.053558          -0.057460           0.070017   \n",
       "ägypten              -0.000237          -0.113569           0.063510   \n",
       "albanien              0.014385          -0.046350           0.052827   \n",
       "algerien              0.026815           0.009564           0.082491   \n",
       "angola                0.069849           0.006982           0.130802   \n",
       "\n",
       "             Vectordimension_3  Vectordimension_4  Vectordimension_5  \\\n",
       "Country                                                                \n",
       "afghanistan          -0.039772           0.044162          -0.000367   \n",
       "ägypten              -0.025303           0.022328          -0.011177   \n",
       "albanien             -0.026673           0.005334           0.010046   \n",
       "algerien             -0.054220           0.049247           0.082527   \n",
       "angola               -0.086332           0.041687          -0.034243   \n",
       "\n",
       "             Vectordimension_6  Vectordimension_7  Vectordimension_8  \\\n",
       "Country                                                                \n",
       "afghanistan           0.003121          -0.032732           0.092648   \n",
       "ägypten               0.063001          -0.034022           0.088259   \n",
       "albanien              0.069131           0.036719           0.004946   \n",
       "algerien             -0.000571          -0.029966           0.070170   \n",
       "angola                0.078058           0.038498          -0.002608   \n",
       "\n",
       "             Vectordimension_9  ...  Vectordimension_290  Vectordimension_291  \\\n",
       "Country                         ...                                             \n",
       "afghanistan          -0.004396  ...             0.088519            -0.070731   \n",
       "ägypten              -0.029472  ...             0.101099            -0.050718   \n",
       "albanien              0.001791  ...             0.117416            -0.006951   \n",
       "algerien             -0.018543  ...             0.099459            -0.092021   \n",
       "angola               -0.067106  ...             0.053113            -0.095571   \n",
       "\n",
       "             Vectordimension_292  Vectordimension_293  Vectordimension_294  \\\n",
       "Country                                                                      \n",
       "afghanistan             0.027065            -0.038740             0.017457   \n",
       "ägypten                -0.098086             0.006282             0.099865   \n",
       "albanien               -0.054614             0.043457            -0.010809   \n",
       "algerien                0.067130            -0.046376             0.033281   \n",
       "angola                 -0.000061             0.011883             0.007009   \n",
       "\n",
       "             Vectordimension_295  Vectordimension_296  Vectordimension_297  \\\n",
       "Country                                                                      \n",
       "afghanistan            -0.033025            -0.058545             0.073686   \n",
       "ägypten                 0.001289             0.039256            -0.004273   \n",
       "albanien                0.011361            -0.001976             0.003596   \n",
       "algerien               -0.008641            -0.064856            -0.063001   \n",
       "angola                 -0.061061            -0.018543             0.038415   \n",
       "\n",
       "             Vectordimension_298  Vectordimension_299  \n",
       "Country                                                \n",
       "afghanistan            -0.019444            -0.092041  \n",
       "ägypten                -0.017475            -0.190498  \n",
       "albanien                0.074826            -0.052702  \n",
       "algerien               -0.017508            -0.013991  \n",
       "angola                 -0.087538            -0.080830  \n",
       "\n",
       "[5 rows x 300 columns]"
      ]
     },
     "execution_count": 11,
     "metadata": {},
     "output_type": "execute_result"
    }
   ],
   "source": [
    "vector_df = pd.read_csv(r\"Country_Vectors\\year1996-1999_fixedModel_CountryVectors.csv\")\n",
    "vector_df.set_index(\"Country\", inplace=True)\n",
    "vector_df.head()"
   ]
  },
  {
   "cell_type": "markdown",
   "metadata": {},
   "source": [
    "Transformation der Vektoren in zwei Dimensionen mittels UMAP."
   ]
  },
  {
   "cell_type": "code",
   "execution_count": 12,
   "metadata": {},
   "outputs": [],
   "source": [
    "embedding = umap.UMAP(random_state=0,metric=\"cosine\").fit_transform(vector_df)\n",
    "vector_df[\"X_UMAP\"] = list(embedding[:,0])\n",
    "vector_df[\"Y_UMAP\"] = list(embedding[:,1])"
   ]
  },
  {
   "cell_type": "code",
   "execution_count": 13,
   "metadata": {},
   "outputs": [
    {
     "data": {
      "text/html": [
       "<div>\n",
       "<style scoped>\n",
       "    .dataframe tbody tr th:only-of-type {\n",
       "        vertical-align: middle;\n",
       "    }\n",
       "\n",
       "    .dataframe tbody tr th {\n",
       "        vertical-align: top;\n",
       "    }\n",
       "\n",
       "    .dataframe thead th {\n",
       "        text-align: right;\n",
       "    }\n",
       "</style>\n",
       "<table border=\"1\" class=\"dataframe\">\n",
       "  <thead>\n",
       "    <tr style=\"text-align: right;\">\n",
       "      <th></th>\n",
       "      <th>X_UMAP</th>\n",
       "      <th>Y_UMAP</th>\n",
       "    </tr>\n",
       "    <tr>\n",
       "      <th>Country</th>\n",
       "      <th></th>\n",
       "      <th></th>\n",
       "    </tr>\n",
       "  </thead>\n",
       "  <tbody>\n",
       "    <tr>\n",
       "      <th>afghanistan</th>\n",
       "      <td>2.017608</td>\n",
       "      <td>1.609436</td>\n",
       "    </tr>\n",
       "    <tr>\n",
       "      <th>ägypten</th>\n",
       "      <td>2.463659</td>\n",
       "      <td>1.595238</td>\n",
       "    </tr>\n",
       "    <tr>\n",
       "      <th>albanien</th>\n",
       "      <td>0.082251</td>\n",
       "      <td>0.925247</td>\n",
       "    </tr>\n",
       "    <tr>\n",
       "      <th>algerien</th>\n",
       "      <td>1.610743</td>\n",
       "      <td>1.202194</td>\n",
       "    </tr>\n",
       "    <tr>\n",
       "      <th>angola</th>\n",
       "      <td>1.992825</td>\n",
       "      <td>2.591766</td>\n",
       "    </tr>\n",
       "  </tbody>\n",
       "</table>\n",
       "</div>"
      ],
      "text/plain": [
       "               X_UMAP    Y_UMAP\n",
       "Country                        \n",
       "afghanistan  2.017608  1.609436\n",
       "ägypten      2.463659  1.595238\n",
       "albanien     0.082251  0.925247\n",
       "algerien     1.610743  1.202194\n",
       "angola       1.992825  2.591766"
      ]
     },
     "execution_count": 13,
     "metadata": {},
     "output_type": "execute_result"
    }
   ],
   "source": [
    "vector_df.iloc[:,300:302].head()"
   ]
  },
  {
   "cell_type": "markdown",
   "metadata": {},
   "source": [
    "Definition der einzelnen westlichen Identitäten"
   ]
  },
  {
   "cell_type": "code",
   "execution_count": 14,
   "metadata": {},
   "outputs": [],
   "source": [
    "core_west = [\"belgien\",\"dänemark\",\"frankreich\",\"island\",\"italien\",\"kanada\",\"luxemburg\",\n",
    "             \"niederlande\",\"norwegen\",\"portugal\",\"spanien\",\"vereinigtes_königreich\",\"usa\"]\n",
    "\n",
    "\n",
    "huntington = [\"australien\",\"estland\",\"finnland\",\"irland\",\n",
    "              \"kroatien\",\"lettland\",\"litauen\",\"neuseeland\",\n",
    "              \"österreich\",\"papua_neuguinea\",\"polen\",\"schweden\",\n",
    "              \"schweiz\",\"slowakei\",\"slowenien\",\"tschechien\",\"ungarn\"]\n",
    "\n",
    "\n",
    "free_world = [\"angola\",\"australien\",\"griechenland\",\"irland\",\n",
    "              \"israel\",\"japan\",\"mozambique\",\"namibia\",\"neuseeland\",\"papua_neuguinea\",\"philippinen\",\n",
    "              \"südafrika\",\"südkorea\",\"taiwan\",\"thailand\",\"türkei\",\"zypern\"]\n",
    "\n",
    "civic_union = [\"japan\",\"finnland\",\"irland\",\"österreich\",\"schweden\",\"schweiz\",\"griechenland\"]\n",
    "\n",
    "nato = [\"belgien\", \"dänemark\", \"frankreich\",\"island\",\"italien\", \"kanada\",\"luxemburg\",\"niederlande\",\n",
    "        \"norwegen\",\"portugal\",\"vereinigtes_königreich\",\"usa\", \"griechenland\",\"türkei\",\"spanien\"]"
   ]
  },
  {
   "cell_type": "markdown",
   "metadata": {},
   "source": [
    "Die Ländervektoren werden den unterschiedlichen westlichen Identitäten zugeordnet."
   ]
  },
  {
   "cell_type": "code",
   "execution_count": 15,
   "metadata": {},
   "outputs": [],
   "source": [
    "groups_list = []\n",
    "\n",
    "for index, row in vector_df.iterrows():\n",
    "    if index in core_west + huntington:\n",
    "        groups_list.append(\"Ja\")\n",
    "    else:\n",
    "        groups_list.append(\"Nein\")\n",
    "            \n",
    "vector_df[\"Westliche Zivilsation (Huntington)\"] = groups_list"
   ]
  },
  {
   "cell_type": "code",
   "execution_count": 16,
   "metadata": {},
   "outputs": [],
   "source": [
    "groups_list = []\n",
    "\n",
    "for index, row in vector_df.iterrows():\n",
    "    if index in core_west + free_world:\n",
    "        groups_list.append(\"Ja\")\n",
    "    else:\n",
    "        groups_list.append(\"Nein\")\n",
    "            \n",
    "vector_df[\"Freie Welt\"] = groups_list"
   ]
  },
  {
   "cell_type": "code",
   "execution_count": 17,
   "metadata": {},
   "outputs": [],
   "source": [
    "groups_list = []\n",
    "\n",
    "for index, row in vector_df.iterrows():\n",
    "    if index in core_west + civic_union:\n",
    "        groups_list.append(\"Ja\")\n",
    "    else:\n",
    "        groups_list.append(\"Nein\")\n",
    "            \n",
    "vector_df[\"Civic Union\"] = groups_list"
   ]
  },
  {
   "cell_type": "code",
   "execution_count": 18,
   "metadata": {},
   "outputs": [],
   "source": [
    "groups_list = []\n",
    "\n",
    "for index, row in vector_df.iterrows():\n",
    "    if index in nato:\n",
    "        groups_list.append(\"Ja\")\n",
    "    else:\n",
    "        groups_list.append(\"Nein\")\n",
    "            \n",
    "vector_df[\"NATO\"] = groups_list"
   ]
  },
  {
   "cell_type": "code",
   "execution_count": 19,
   "metadata": {},
   "outputs": [
    {
     "data": {
      "image/png": "[encoded data removed]",
      "text/plain": [
       "<Figure size 864x1008 with 4 Axes>"
      ]
     },
     "metadata": {},
     "output_type": "display_data"
    }
   ],
   "source": [
    "fig, ax = plt.subplots(2,2,sharex=True, sharey=True)\n",
    "\n",
    "\n",
    "barplot = sns.scatterplot(x = \"X_UMAP\", y = \"Y_UMAP\", hue=\"Westliche Zivilsation (Huntington)\", data=vector_df, s=80,\n",
    "                            palette = {\"Ja\":sns.color_palette(\"Blues_d\")[3],\n",
    "                                       \"Nein\": sns.color_palette()[7]}, ax=ax[0,0])\n",
    "barplot.figure.set_size_inches(12,14)\n",
    "barplot.yaxis.label.set_visible(False)\n",
    "barplot.xaxis.label.set_visible(False)\n",
    "barplot.set_title(\"Westliche Zivilisation\", weight=\"bold\", size=14)\n",
    "barplot.get_legend().set_visible(False)\n",
    "\n",
    "\n",
    "barplot = sns.scatterplot(x = \"X_UMAP\", y = \"Y_UMAP\", hue=\"Freie Welt\", data=vector_df, s=80,\n",
    "                            palette = {\"Ja\":sns.color_palette(\"Blues_d\")[3],\n",
    "                                       \"Nein\": sns.color_palette()[7]}, ax=ax[0,1])\n",
    "barplot.yaxis.label.set_visible(False)\n",
    "barplot.xaxis.label.set_visible(False)\n",
    "barplot.set_title(\"Freie Welt\", weight=\"bold\", size=14)\n",
    "barplot.get_legend().set_visible(False)\n",
    "\n",
    "\n",
    "barplot = sns.scatterplot(x = \"X_UMAP\", y = \"Y_UMAP\", hue=\"Civic Union\", data=vector_df, s=80,\n",
    "                            palette = {\"Ja\":sns.color_palette(\"Blues_d\")[3],\n",
    "                                       \"Nein\": sns.color_palette()[7]}, ax=ax[1,0])\n",
    "barplot.yaxis.label.set_visible(False)\n",
    "barplot.xaxis.label.set_visible(False)\n",
    "barplot.set_title(\"Civic Union\", weight=\"bold\", size=14)\n",
    "barplot.get_legend().set_visible(False)\n",
    "\n",
    "\n",
    "barplot = sns.scatterplot(x = \"X_UMAP\", y = \"Y_UMAP\", hue=\"NATO\", data=vector_df, s=80,\n",
    "                            palette = {\"Ja\":sns.color_palette(\"Blues_d\")[3],\n",
    "                                       \"Nein\": sns.color_palette()[7]}, ax=ax[1,1])\n",
    "barplot.yaxis.label.set_visible(False)\n",
    "barplot.xaxis.label.set_visible(False)\n",
    "barplot.set_title(\"NATO\", weight=\"bold\", size=14)\n",
    "barplot.get_legend().set_visible(False)"
   ]
  },
  {
   "cell_type": "markdown",
   "metadata": {},
   "source": [
    "## Abbildung 3 – Ähnlichkeit zwischen Arten westlicher Identität und geclusterten Ländervektoren (1996-1999)"
   ]
  },
  {
   "cell_type": "code",
   "execution_count": 20,
   "metadata": {},
   "outputs": [],
   "source": [
    "import nltk\n",
    "import seaborn as sns\n",
    "import matplotlib\n",
    "import matplotlib.pyplot as plt\n",
    "import pandas as pd\n",
    "\n",
    "%matplotlib inline\n",
    "\n",
    "matplotlib.style.use('seaborn-white')"
   ]
  },
  {
   "cell_type": "markdown",
   "metadata": {},
   "source": [
    "Laden der Cluster des Modellzeitraums 1996-1999 in ein dictionary."
   ]
  },
  {
   "cell_type": "code",
   "execution_count": 21,
   "metadata": {},
   "outputs": [],
   "source": [
    "cluster_dict = {}\n",
    "\n",
    "for bootstrap_iteration in range(0,25):\n",
    "    cluster_dict[bootstrap_iteration] = {}\n",
    "    cluster_df = pd.read_csv(r\"Country_Vectors_Cluster\\year1996-1999_bootstrappingIteration{}_CountryVectors_Cluster.csv\".format(bootstrap_iteration))\n",
    "    for index, cluster in enumerate(cluster_df.columns):\n",
    "        cluster_dict[bootstrap_iteration][index] = list(cluster_df[cluster].dropna())\n",
    "        "
   ]
  },
  {
   "cell_type": "markdown",
   "metadata": {},
   "source": [
    "Definition der einzelnen westlichen Identitäten"
   ]
  },
  {
   "cell_type": "code",
   "execution_count": 22,
   "metadata": {},
   "outputs": [],
   "source": [
    "core_west = [\"belgien\",\"dänemark\",\"frankreich\",\"island\",\"italien\",\"kanada\",\"luxemburg\",\n",
    "             \"niederlande\",\"norwegen\",\"portugal\",\"spanien\",\"vereinigtes_königreich\",\"usa\"]\n",
    "\n",
    "\n",
    "huntington = [\"australien\",\"estland\",\"finnland\",\"irland\",\n",
    "              \"kroatien\",\"lettland\",\"litauen\",\"neuseeland\",\n",
    "              \"österreich\",\"papua_neuguinea\",\"polen\",\"schweden\",\n",
    "              \"schweiz\",\"slowakei\",\"slowenien\",\"tschechien\",\"ungarn\"]\n",
    "\n",
    "\n",
    "free_world = [\"angola\",\"australien\",\"griechenland\",\"irland\",\n",
    "              \"israel\",\"japan\",\"mozambique\",\"namibia\",\"neuseeland\",\"papua_neuguinea\",\"philippinen\",\n",
    "              \"südafrika\",\"südkorea\",\"taiwan\",\"thailand\",\"türkei\",\"zypern\"]\n",
    "\n",
    "civic_union = [\"japan\",\"finnland\",\"irland\",\"österreich\",\"schweden\",\"schweiz\",\"griechenland\"]\n",
    "\n",
    "nato = [\"belgien\", \"dänemark\", \"frankreich\",\"italien\", \"kanada\",\"luxemburg\",\"niederlande\",\n",
    "        \"norwegen\",\"portugal\",\"vereinigtes_königreich\",\"usa\", \"griechenland\",\"türkei\",\"spanien\"]"
   ]
  },
  {
   "cell_type": "code",
   "execution_count": 23,
   "metadata": {},
   "outputs": [],
   "source": [
    "western_identities = {\"Westliche Zivilsation\": huntington, \"Freie Welt\": free_world, \"Civic Union\": civic_union, \"NATO\": nato}"
   ]
  },
  {
   "cell_type": "markdown",
   "metadata": {},
   "source": [
    "Vergleich der automatisch gebildeten Cluster mit den vier verschiedenen Listen westlicher Identitäten. Final gespeichert wird immer die Jaccard-Distanz zum ähnlichsten automatischen Cluster."
   ]
  },
  {
   "cell_type": "code",
   "execution_count": 24,
   "metadata": {},
   "outputs": [],
   "source": [
    "stability_dict = {\"Stability\":[],\"Westen\":[],\"Bootstrap_Iteration\": []}\n",
    "\n",
    "for identity in western_identities:\n",
    "    west_cluster = western_identities[identity] + core_west\n",
    "    for bootstrap_iteration in range(0,25):\n",
    "        final_distance = 1\n",
    "        final_compare_cluster = []\n",
    "        for cluster_number_compare in cluster_dict[bootstrap_iteration]:\n",
    "            compare_cluster = cluster_dict[bootstrap_iteration][cluster_number_compare]\n",
    "            compare_distance = nltk.jaccard_distance(set(west_cluster), set(compare_cluster))\n",
    "            if compare_distance < final_distance:\n",
    "                final_distance =  compare_distance\n",
    "                final_compare_cluster = compare_cluster\n",
    "        stability_dict[\"Stability\"].append(final_distance)\n",
    "        stability_dict[\"Westen\"].append(identity)\n",
    "        stability_dict[\"Bootstrap_Iteration\"].append(bootstrap_iteration)\n",
    "        \n",
    "stability_df = pd.DataFrame.from_dict(stability_dict)"
   ]
  },
  {
   "cell_type": "code",
   "execution_count": 25,
   "metadata": {},
   "outputs": [
    {
     "data": {
      "text/html": [
       "<div>\n",
       "<style scoped>\n",
       "    .dataframe tbody tr th:only-of-type {\n",
       "        vertical-align: middle;\n",
       "    }\n",
       "\n",
       "    .dataframe tbody tr th {\n",
       "        vertical-align: top;\n",
       "    }\n",
       "\n",
       "    .dataframe thead th {\n",
       "        text-align: right;\n",
       "    }\n",
       "</style>\n",
       "<table border=\"1\" class=\"dataframe\">\n",
       "  <thead>\n",
       "    <tr style=\"text-align: right;\">\n",
       "      <th></th>\n",
       "      <th>Stability</th>\n",
       "      <th>Westen</th>\n",
       "      <th>Bootstrap_Iteration</th>\n",
       "    </tr>\n",
       "  </thead>\n",
       "  <tbody>\n",
       "    <tr>\n",
       "      <th>0</th>\n",
       "      <td>0.428571</td>\n",
       "      <td>Westliche Zivilsation</td>\n",
       "      <td>0</td>\n",
       "    </tr>\n",
       "    <tr>\n",
       "      <th>1</th>\n",
       "      <td>0.393939</td>\n",
       "      <td>Westliche Zivilsation</td>\n",
       "      <td>1</td>\n",
       "    </tr>\n",
       "    <tr>\n",
       "      <th>2</th>\n",
       "      <td>0.444444</td>\n",
       "      <td>Westliche Zivilsation</td>\n",
       "      <td>2</td>\n",
       "    </tr>\n",
       "    <tr>\n",
       "      <th>3</th>\n",
       "      <td>0.393939</td>\n",
       "      <td>Westliche Zivilsation</td>\n",
       "      <td>3</td>\n",
       "    </tr>\n",
       "    <tr>\n",
       "      <th>4</th>\n",
       "      <td>0.411765</td>\n",
       "      <td>Westliche Zivilsation</td>\n",
       "      <td>4</td>\n",
       "    </tr>\n",
       "  </tbody>\n",
       "</table>\n",
       "</div>"
      ],
      "text/plain": [
       "   Stability                 Westen  Bootstrap_Iteration\n",
       "0   0.428571  Westliche Zivilsation                    0\n",
       "1   0.393939  Westliche Zivilsation                    1\n",
       "2   0.444444  Westliche Zivilsation                    2\n",
       "3   0.393939  Westliche Zivilsation                    3\n",
       "4   0.411765  Westliche Zivilsation                    4"
      ]
     },
     "execution_count": 25,
     "metadata": {},
     "output_type": "execute_result"
    }
   ],
   "source": [
    "stability_df.head()"
   ]
  },
  {
   "cell_type": "code",
   "execution_count": 26,
   "metadata": {},
   "outputs": [
    {
     "data": {
      "image/png": "[encoded data removed]",
      "text/plain": [
       "<Figure size 864x648 with 1 Axes>"
      ]
     },
     "metadata": {},
     "output_type": "display_data"
    }
   ],
   "source": [
    "vis_plot = sns.boxplot(x = \"Westen\", y = \"Stability\", data=stability_df,color=sns.color_palette(\"Blues_d\")[3])\n",
    "vis_plot.figure.set_size_inches(12,9)\n",
    "vis_plot.set(ylim=(0, 1))\n",
    "vis_plot.set_xlabel(\"\")\n",
    "vis_plot.set_ylabel(\"Jaccard-Distanz\",size=12)\n",
    "vis_plot.tick_params(labelsize=13)\n",
    "vis_plot.xaxis.label.set_visible(False)"
   ]
  },
  {
   "cell_type": "markdown",
   "metadata": {},
   "source": [
    "## Abbildung 4 – Die Stabilität des West-Clusters im Zeitverlauf"
   ]
  },
  {
   "cell_type": "markdown",
   "metadata": {},
   "source": [
    "Laden der Cluster aller Modellzeiträume in ein dictionary."
   ]
  },
  {
   "cell_type": "code",
   "execution_count": 27,
   "metadata": {},
   "outputs": [],
   "source": [
    "import pandas as pd\n",
    "import nltk\n",
    "import seaborn as sns\n",
    "import matplotlib\n",
    "import matplotlib.pyplot as plt\n",
    "\n",
    "%matplotlib inline\n",
    "\n",
    "matplotlib.style.use('seaborn-white')"
   ]
  },
  {
   "cell_type": "code",
   "execution_count": 28,
   "metadata": {},
   "outputs": [],
   "source": [
    "cluster_dict = {}\n",
    "\n",
    "for year in range(1996,2014):\n",
    "    cluster_dict[year] = {}\n",
    "    for bootstrap_iteration in range(0,25):\n",
    "        cluster_dict[year][bootstrap_iteration] = {}\n",
    "        cluster_df = pd.read_csv(r\"Country_Vectors_Cluster\\year{}-{}_bootstrappingIteration{}_CountryVectors_Cluster.csv\".format(year,year+3,bootstrap_iteration))\n",
    "        for index, cluster in enumerate(cluster_df.columns):\n",
    "            cluster_dict[year][bootstrap_iteration][index] = list(cluster_df[cluster].dropna())\n"
   ]
  },
  {
   "cell_type": "markdown",
   "metadata": {},
   "source": [
    "Definition der civic union Identität, nun mit Australien und Neuseeland ergänzt."
   ]
  },
  {
   "cell_type": "code",
   "execution_count": 29,
   "metadata": {},
   "outputs": [],
   "source": [
    "core_west = [\"belgien\",\"dänemark\",\"frankreich\",\"island\",\"italien\",\"kanada\",\"luxemburg\",\n",
    "             \"niederlande\",\"norwegen\",\"portugal\",\"spanien\",\"vereinigtes_königreich\",\"usa\"]\n",
    "\n",
    "\n",
    "civic_union = [\"japan\",\"finnland\",\"irland\",\"österreich\",\"schweden\",\"schweiz\",\"griechenland\"] + [\"australien\",\"neuseeland\"]"
   ]
  },
  {
   "cell_type": "code",
   "execution_count": 30,
   "metadata": {},
   "outputs": [],
   "source": [
    "stability_dict = {\"Stability\":[],\"Westen\":[],\"Bootstrap_Iteration\": [], \"Year\": []}\n",
    "\n",
    "west_cluster = civic_union + core_west\n",
    "\n",
    "for year in range(1996,2014):\n",
    "    for bootstrap_iteration in range(0,25):\n",
    "        final_distance = 1\n",
    "        final_compare_cluster = []\n",
    "        for cluster_number_compare in cluster_dict[year][bootstrap_iteration]:\n",
    "            compare_cluster = cluster_dict[year][bootstrap_iteration][cluster_number_compare]\n",
    "            compare_distance = nltk.jaccard_distance(set(west_cluster), set(compare_cluster))\n",
    "            if compare_distance < final_distance:\n",
    "                final_distance =  compare_distance\n",
    "                final_compare_cluster = compare_cluster\n",
    "        stability_dict[\"Stability\"].append(final_distance)\n",
    "        stability_dict[\"Westen\"].append(\"Civic Union\")\n",
    "        stability_dict[\"Bootstrap_Iteration\"].append(bootstrap_iteration)\n",
    "        stability_dict[\"Year\"].append(year)\n",
    "        \n",
    "stability_df = pd.DataFrame.from_dict(stability_dict)"
   ]
  },
  {
   "cell_type": "code",
   "execution_count": 31,
   "metadata": {},
   "outputs": [
    {
     "data": {
      "text/html": [
       "<div>\n",
       "<style scoped>\n",
       "    .dataframe tbody tr th:only-of-type {\n",
       "        vertical-align: middle;\n",
       "    }\n",
       "\n",
       "    .dataframe tbody tr th {\n",
       "        vertical-align: top;\n",
       "    }\n",
       "\n",
       "    .dataframe thead th {\n",
       "        text-align: right;\n",
       "    }\n",
       "</style>\n",
       "<table border=\"1\" class=\"dataframe\">\n",
       "  <thead>\n",
       "    <tr style=\"text-align: right;\">\n",
       "      <th></th>\n",
       "      <th>Stability</th>\n",
       "      <th>Westen</th>\n",
       "      <th>Bootstrap_Iteration</th>\n",
       "      <th>Year</th>\n",
       "    </tr>\n",
       "  </thead>\n",
       "  <tbody>\n",
       "    <tr>\n",
       "      <th>0</th>\n",
       "      <td>0.120000</td>\n",
       "      <td>Civic Union</td>\n",
       "      <td>0</td>\n",
       "      <td>1996</td>\n",
       "    </tr>\n",
       "    <tr>\n",
       "      <th>1</th>\n",
       "      <td>0.043478</td>\n",
       "      <td>Civic Union</td>\n",
       "      <td>1</td>\n",
       "      <td>1996</td>\n",
       "    </tr>\n",
       "    <tr>\n",
       "      <th>2</th>\n",
       "      <td>0.153846</td>\n",
       "      <td>Civic Union</td>\n",
       "      <td>2</td>\n",
       "      <td>1996</td>\n",
       "    </tr>\n",
       "    <tr>\n",
       "      <th>3</th>\n",
       "      <td>0.043478</td>\n",
       "      <td>Civic Union</td>\n",
       "      <td>3</td>\n",
       "      <td>1996</td>\n",
       "    </tr>\n",
       "    <tr>\n",
       "      <th>4</th>\n",
       "      <td>0.083333</td>\n",
       "      <td>Civic Union</td>\n",
       "      <td>4</td>\n",
       "      <td>1996</td>\n",
       "    </tr>\n",
       "  </tbody>\n",
       "</table>\n",
       "</div>"
      ],
      "text/plain": [
       "   Stability       Westen  Bootstrap_Iteration  Year\n",
       "0   0.120000  Civic Union                    0  1996\n",
       "1   0.043478  Civic Union                    1  1996\n",
       "2   0.153846  Civic Union                    2  1996\n",
       "3   0.043478  Civic Union                    3  1996\n",
       "4   0.083333  Civic Union                    4  1996"
      ]
     },
     "execution_count": 31,
     "metadata": {},
     "output_type": "execute_result"
    }
   ],
   "source": [
    "stability_df.head()"
   ]
  },
  {
   "cell_type": "code",
   "execution_count": 32,
   "metadata": {},
   "outputs": [
    {
     "data": {
      "text/plain": [
       "[[<matplotlib.axis.XTick at 0x247d431fe80>,\n",
       "  <matplotlib.axis.XTick at 0x247d431f710>,\n",
       "  <matplotlib.axis.XTick at 0x247d433ecc0>,\n",
       "  <matplotlib.axis.XTick at 0x247d434e6d8>,\n",
       "  <matplotlib.axis.XTick at 0x247d43672b0>,\n",
       "  <matplotlib.axis.XTick at 0x247d4367748>,\n",
       "  <matplotlib.axis.XTick at 0x247d4367c18>,\n",
       "  <matplotlib.axis.XTick at 0x247d4367588>,\n",
       "  <matplotlib.axis.XTick at 0x247d436d5f8>],\n",
       " [Text(0, 0, '97-00'),\n",
       "  Text(0, 0, '99-02'),\n",
       "  Text(0, 0, '01-04'),\n",
       "  Text(0, 0, '03-06'),\n",
       "  Text(0, 0, '05-08'),\n",
       "  Text(0, 0, '07-10'),\n",
       "  Text(0, 0, '09-12'),\n",
       "  Text(0, 0, '11-14'),\n",
       "  Text(0, 0, '13-16')]]"
      ]
     },
     "execution_count": 32,
     "metadata": {},
     "output_type": "execute_result"
    },
    {
     "data": {
      "image/png": "[encoded data removed]",
      "text/plain": [
       "<Figure size 864x648 with 1 Axes>"
      ]
     },
     "metadata": {},
     "output_type": "display_data"
    }
   ],
   "source": [
    "stability_df['Year_Str'] = stability_df['Year'].astype(str)\n",
    "\n",
    "vis_plot = sns.lineplot(y = \"Stability\" , x= \"Year\" , data= stability_df, palette = sns.color_palette()[0], marker=\"o\")\n",
    "vis_plot.set_ylim(0,1)\n",
    "vis_plot.set_xlabel(\"Modellzeitraum (Jahresabschnitte)\", size=14)\n",
    "vis_plot.set_ylabel(\"Jaccard-Distanz\", size=14)\n",
    "vis_plot.figure.set_size_inches(12,9)\n",
    "vis_plot.tick_params(labelsize=12)\n",
    "\n",
    "\n",
    "\n",
    "a = []\n",
    "for timespan in range(1997,2014,2):\n",
    "    timespan_string = \"{}-{}\".format(str(timespan)[2:], str(timespan + 3)[2:])\n",
    "    a.append(timespan_string)\n",
    "\n",
    "pos = [year for year in range(1997,2014,2)]\n",
    "vis_plot.set(xticks=pos, xticklabels=a)"
   ]
  },
  {
   "cell_type": "markdown",
   "metadata": {},
   "source": [
    "## Abbildung 5-7 – Staaten die Teil des West-Clusters sind"
   ]
  },
  {
   "cell_type": "code",
   "execution_count": 34,
   "metadata": {},
   "outputs": [],
   "source": [
    "import pandas as pd\n",
    "import nltk\n",
    "import seaborn as sns\n",
    "import matplotlib\n",
    "import matplotlib.pyplot as plt\n",
    "import matplotlib.patches as mpatches\n",
    "from collections import Counter\n",
    "\n",
    "%matplotlib inline\n",
    "\n",
    "matplotlib.style.use('seaborn-white')"
   ]
  },
  {
   "cell_type": "code",
   "execution_count": 35,
   "metadata": {},
   "outputs": [],
   "source": [
    "cluster_dict = {}\n",
    "\n",
    "for year in range(1996,2014):\n",
    "    cluster_dict[year] = {}\n",
    "    for bootstrap_iteration in range(0,25):\n",
    "        cluster_dict[year][bootstrap_iteration] = {}\n",
    "        cluster_df = pd.read_csv(r\"Country_Vectors_Cluster\\year{}-{}_bootstrappingIteration{}_CountryVectors_Cluster.csv\".format(year,year+3,bootstrap_iteration))\n",
    "        for index, cluster in enumerate(cluster_df.columns):\n",
    "            cluster_dict[year][bootstrap_iteration][index] = list(cluster_df[cluster].dropna())\n"
   ]
  },
  {
   "cell_type": "markdown",
   "metadata": {},
   "source": [
    "Definition der civic union Identität, nun mit Australien und Neuseeland ergänzt."
   ]
  },
  {
   "cell_type": "code",
   "execution_count": 36,
   "metadata": {},
   "outputs": [],
   "source": [
    "core_west = [\"belgien\",\"dänemark\",\"frankreich\",\"island\",\"italien\",\"kanada\",\"luxemburg\",\n",
    "             \"niederlande\",\"norwegen\",\"portugal\",\"spanien\",\"vereinigtes_königreich\",\"usa\"]\n",
    "\n",
    "\n",
    "civic_union = [\"japan\",\"finnland\",\"irland\",\"österreich\",\"schweden\",\"schweiz\",\"griechenland\"] + [\"australien\",\"neuseeland\"]"
   ]
  },
  {
   "cell_type": "markdown",
   "metadata": {},
   "source": [
    "### Abbildung 5"
   ]
  },
  {
   "cell_type": "code",
   "execution_count": 37,
   "metadata": {},
   "outputs": [
    {
     "data": {
      "text/html": [
       "<div>\n",
       "<style scoped>\n",
       "    .dataframe tbody tr th:only-of-type {\n",
       "        vertical-align: middle;\n",
       "    }\n",
       "\n",
       "    .dataframe tbody tr th {\n",
       "        vertical-align: top;\n",
       "    }\n",
       "\n",
       "    .dataframe thead th {\n",
       "        text-align: right;\n",
       "    }\n",
       "</style>\n",
       "<table border=\"1\" class=\"dataframe\">\n",
       "  <thead>\n",
       "    <tr style=\"text-align: right;\">\n",
       "      <th></th>\n",
       "      <th>0</th>\n",
       "    </tr>\n",
       "  </thead>\n",
       "  <tbody>\n",
       "    <tr>\n",
       "      <th>argentinien</th>\n",
       "      <td>0.200000</td>\n",
       "    </tr>\n",
       "    <tr>\n",
       "      <th>australien</th>\n",
       "      <td>0.986667</td>\n",
       "    </tr>\n",
       "    <tr>\n",
       "      <th>belgien</th>\n",
       "      <td>1.000000</td>\n",
       "    </tr>\n",
       "    <tr>\n",
       "      <th>dänemark</th>\n",
       "      <td>1.000000</td>\n",
       "    </tr>\n",
       "    <tr>\n",
       "      <th>finnland</th>\n",
       "      <td>1.000000</td>\n",
       "    </tr>\n",
       "  </tbody>\n",
       "</table>\n",
       "</div>"
      ],
      "text/plain": [
       "                    0\n",
       "argentinien  0.200000\n",
       "australien   0.986667\n",
       "belgien      1.000000\n",
       "dänemark     1.000000\n",
       "finnland     1.000000"
      ]
     },
     "execution_count": 37,
     "metadata": {},
     "output_type": "execute_result"
    }
   ],
   "source": [
    "counter_countries = Counter()\n",
    "\n",
    "west_cluster = civic_union + core_west\n",
    "\n",
    "for year in range(1996,2002):\n",
    "    for bootstrap_iteration in range(0,25):\n",
    "        final_distance = 1\n",
    "        final_compare_cluster = []\n",
    "        for cluster_number_compare in cluster_dict[year][bootstrap_iteration]:\n",
    "            compare_cluster = cluster_dict[year][bootstrap_iteration][cluster_number_compare]\n",
    "            compare_distance = nltk.jaccard_distance(set(west_cluster), set(compare_cluster))\n",
    "            if compare_distance < final_distance:\n",
    "                final_distance =  compare_distance\n",
    "                final_compare_cluster = compare_cluster\n",
    "        counter_countries.update(final_compare_cluster)\n",
    "        \n",
    "percentage_dict = {country: counter_countries[country] / 150 for country in counter_countries}   \n",
    "percentage_df = pd.DataFrame.from_dict(percentage_dict, orient=\"index\")\n",
    "percentage_df.head()"
   ]
  },
  {
   "cell_type": "code",
   "execution_count": 38,
   "metadata": {},
   "outputs": [],
   "source": [
    "group_list = []\n",
    "\n",
    "for index, row in percentage_df.iterrows():\n",
    "    if index in west_cluster:\n",
    "        group_list.append(\"Civic Union\")\n",
    "    else:\n",
    "        group_list.append(\"\")\n",
    "        \n",
    "percentage_df[\"West_Cluster\"] = group_list"
   ]
  },
  {
   "cell_type": "code",
   "execution_count": 39,
   "metadata": {},
   "outputs": [
    {
     "data": {
      "text/html": [
       "<div>\n",
       "<style scoped>\n",
       "    .dataframe tbody tr th:only-of-type {\n",
       "        vertical-align: middle;\n",
       "    }\n",
       "\n",
       "    .dataframe tbody tr th {\n",
       "        vertical-align: top;\n",
       "    }\n",
       "\n",
       "    .dataframe thead th {\n",
       "        text-align: right;\n",
       "    }\n",
       "</style>\n",
       "<table border=\"1\" class=\"dataframe\">\n",
       "  <thead>\n",
       "    <tr style=\"text-align: right;\">\n",
       "      <th></th>\n",
       "      <th>Land</th>\n",
       "      <th>Clusterzugehörigkeit_Percentage</th>\n",
       "      <th>West_Cluster</th>\n",
       "    </tr>\n",
       "  </thead>\n",
       "  <tbody>\n",
       "    <tr>\n",
       "      <th>21</th>\n",
       "      <td>Spanien</td>\n",
       "      <td>1.0</td>\n",
       "      <td>Civic Union</td>\n",
       "    </tr>\n",
       "    <tr>\n",
       "      <th>10</th>\n",
       "      <td>Italien</td>\n",
       "      <td>1.0</td>\n",
       "      <td>Civic Union</td>\n",
       "    </tr>\n",
       "    <tr>\n",
       "      <th>17</th>\n",
       "      <td>Österreich</td>\n",
       "      <td>1.0</td>\n",
       "      <td>Civic Union</td>\n",
       "    </tr>\n",
       "    <tr>\n",
       "      <th>16</th>\n",
       "      <td>Norwegen</td>\n",
       "      <td>1.0</td>\n",
       "      <td>Civic Union</td>\n",
       "    </tr>\n",
       "    <tr>\n",
       "      <th>15</th>\n",
       "      <td>Niederlande</td>\n",
       "      <td>1.0</td>\n",
       "      <td>Civic Union</td>\n",
       "    </tr>\n",
       "  </tbody>\n",
       "</table>\n",
       "</div>"
      ],
      "text/plain": [
       "           Land  Clusterzugehörigkeit_Percentage West_Cluster\n",
       "21      Spanien                              1.0  Civic Union\n",
       "10      Italien                              1.0  Civic Union\n",
       "17   Österreich                              1.0  Civic Union\n",
       "16     Norwegen                              1.0  Civic Union\n",
       "15  Niederlande                              1.0  Civic Union"
      ]
     },
     "execution_count": 39,
     "metadata": {},
     "output_type": "execute_result"
    }
   ],
   "source": [
    "percentage_df.index = [  \" \".join([country_name.capitalize() for country_name in country.split(\"_\")]) for country in percentage_df.index]\n",
    "percentage_df.reset_index(inplace=True)\n",
    "percentage_df.columns = [\"Land\",\"Clusterzugehörigkeit_Percentage\",\"West_Cluster\"]\n",
    "percentage_df.sort_values(\"Clusterzugehörigkeit_Percentage\",inplace=True, ascending=False)\n",
    "percentage_df.head()"
   ]
  },
  {
   "cell_type": "code",
   "execution_count": 40,
   "metadata": {},
   "outputs": [
    {
     "data": {
      "text/plain": [
       "<matplotlib.legend.Legend at 0x247d4318518>"
      ]
     },
     "execution_count": 40,
     "metadata": {},
     "output_type": "execute_result"
    },
    {
     "data": {
      "image/png": "[encoded data removed]",
      "text/plain": [
       "<Figure size 720x1224 with 1 Axes>"
      ]
     },
     "metadata": {},
     "output_type": "display_data"
    }
   ],
   "source": [
    "vis_plot = sns.barplot(y=\"Land\", x=\"Clusterzugehörigkeit_Percentage\", \n",
    "                       data=percentage_df,\n",
    "                       palette = [sns.color_palette(\"Blues\")[3] if group == \"Civic Union\" else sns.color_palette(\"Blues\")[1] for group in percentage_df[\"West_Cluster\"]],\n",
    "                      )\n",
    "\n",
    "            \n",
    "            \n",
    "#vis_plot = sns.barplot(y=\"Land\", x=\"Clusterzugehörigkeit_Percentage\", \n",
    "                       #data=episode_1_df,\n",
    "                       #color = sns.color_palette(\"Blues\")[3])\n",
    "\n",
    "        \n",
    "vis_plot.figure.set_size_inches(10,17)\n",
    "vis_plot.set_xlabel(\"Teil des Westclusters (%)\",size = 12)\n",
    "vis_plot.set_ylabel(\"\")\n",
    "vis_plot.tick_params(labelsize=14)\n",
    "vis_plot.set_xlim(0,1)\n",
    "#xmin, xmax = timeline_plot.get_xlim()\n",
    "#vis_plot.xaxis.label.set_visible(False)\n",
    "red_patch = mpatches.Patch(color=sns.color_palette(\"Blues\")[3], label='Civic Union')\n",
    "plt.legend(handles=[red_patch], loc=\"lower right\")\n"
   ]
  },
  {
   "cell_type": "markdown",
   "metadata": {},
   "source": [
    "### Abbildung 6"
   ]
  },
  {
   "cell_type": "code",
   "execution_count": 41,
   "metadata": {},
   "outputs": [
    {
     "data": {
      "text/html": [
       "<div>\n",
       "<style scoped>\n",
       "    .dataframe tbody tr th:only-of-type {\n",
       "        vertical-align: middle;\n",
       "    }\n",
       "\n",
       "    .dataframe tbody tr th {\n",
       "        vertical-align: top;\n",
       "    }\n",
       "\n",
       "    .dataframe thead th {\n",
       "        text-align: right;\n",
       "    }\n",
       "</style>\n",
       "<table border=\"1\" class=\"dataframe\">\n",
       "  <thead>\n",
       "    <tr style=\"text-align: right;\">\n",
       "      <th></th>\n",
       "      <th>0</th>\n",
       "    </tr>\n",
       "  </thead>\n",
       "  <tbody>\n",
       "    <tr>\n",
       "      <th>australien</th>\n",
       "      <td>0.888889</td>\n",
       "    </tr>\n",
       "    <tr>\n",
       "      <th>belgien</th>\n",
       "      <td>1.000000</td>\n",
       "    </tr>\n",
       "    <tr>\n",
       "      <th>dänemark</th>\n",
       "      <td>1.000000</td>\n",
       "    </tr>\n",
       "    <tr>\n",
       "      <th>estland</th>\n",
       "      <td>0.973333</td>\n",
       "    </tr>\n",
       "    <tr>\n",
       "      <th>finnland</th>\n",
       "      <td>1.000000</td>\n",
       "    </tr>\n",
       "  </tbody>\n",
       "</table>\n",
       "</div>"
      ],
      "text/plain": [
       "                   0\n",
       "australien  0.888889\n",
       "belgien     1.000000\n",
       "dänemark    1.000000\n",
       "estland     0.973333\n",
       "finnland    1.000000"
      ]
     },
     "execution_count": 41,
     "metadata": {},
     "output_type": "execute_result"
    }
   ],
   "source": [
    "counter_countries = Counter()\n",
    "\n",
    "west_cluster = civic_union + core_west\n",
    "\n",
    "for year in range(2003,2012):\n",
    "    for bootstrap_iteration in range(0,25):\n",
    "        final_distance = 1\n",
    "        final_compare_cluster = []\n",
    "        for cluster_number_compare in cluster_dict[year][bootstrap_iteration]:\n",
    "            compare_cluster = cluster_dict[year][bootstrap_iteration][cluster_number_compare]\n",
    "            compare_distance = nltk.jaccard_distance(set(west_cluster), set(compare_cluster))\n",
    "            if compare_distance < final_distance:\n",
    "                final_distance =  compare_distance\n",
    "                final_compare_cluster = compare_cluster\n",
    "        counter_countries.update(final_compare_cluster)\n",
    "        \n",
    "percentage_dict = {country: counter_countries[country] / 225 for country in counter_countries}   \n",
    "percentage_df = pd.DataFrame.from_dict(percentage_dict, orient=\"index\")\n",
    "percentage_df.head()"
   ]
  },
  {
   "cell_type": "code",
   "execution_count": 42,
   "metadata": {},
   "outputs": [],
   "source": [
    "group_list = []\n",
    "\n",
    "for index, row in percentage_df.iterrows():\n",
    "    if index in west_cluster:\n",
    "        group_list.append(\"Civic Union\")\n",
    "    else:\n",
    "        group_list.append(\"\")\n",
    "        \n",
    "percentage_df[\"West_Cluster\"] = group_list"
   ]
  },
  {
   "cell_type": "code",
   "execution_count": 43,
   "metadata": {},
   "outputs": [
    {
     "data": {
      "text/html": [
       "<div>\n",
       "<style scoped>\n",
       "    .dataframe tbody tr th:only-of-type {\n",
       "        vertical-align: middle;\n",
       "    }\n",
       "\n",
       "    .dataframe tbody tr th {\n",
       "        vertical-align: top;\n",
       "    }\n",
       "\n",
       "    .dataframe thead th {\n",
       "        text-align: right;\n",
       "    }\n",
       "</style>\n",
       "<table border=\"1\" class=\"dataframe\">\n",
       "  <thead>\n",
       "    <tr style=\"text-align: right;\">\n",
       "      <th></th>\n",
       "      <th>Land</th>\n",
       "      <th>Clusterzugehörigkeit_Percentage</th>\n",
       "      <th>West_Cluster</th>\n",
       "    </tr>\n",
       "  </thead>\n",
       "  <tbody>\n",
       "    <tr>\n",
       "      <th>14</th>\n",
       "      <td>Luxemburg</td>\n",
       "      <td>1.0</td>\n",
       "      <td>Civic Union</td>\n",
       "    </tr>\n",
       "    <tr>\n",
       "      <th>1</th>\n",
       "      <td>Belgien</td>\n",
       "      <td>1.0</td>\n",
       "      <td>Civic Union</td>\n",
       "    </tr>\n",
       "    <tr>\n",
       "      <th>19</th>\n",
       "      <td>Österreich</td>\n",
       "      <td>1.0</td>\n",
       "      <td>Civic Union</td>\n",
       "    </tr>\n",
       "    <tr>\n",
       "      <th>18</th>\n",
       "      <td>Norwegen</td>\n",
       "      <td>1.0</td>\n",
       "      <td>Civic Union</td>\n",
       "    </tr>\n",
       "    <tr>\n",
       "      <th>17</th>\n",
       "      <td>Niederlande</td>\n",
       "      <td>1.0</td>\n",
       "      <td>Civic Union</td>\n",
       "    </tr>\n",
       "  </tbody>\n",
       "</table>\n",
       "</div>"
      ],
      "text/plain": [
       "           Land  Clusterzugehörigkeit_Percentage West_Cluster\n",
       "14    Luxemburg                              1.0  Civic Union\n",
       "1       Belgien                              1.0  Civic Union\n",
       "19   Österreich                              1.0  Civic Union\n",
       "18     Norwegen                              1.0  Civic Union\n",
       "17  Niederlande                              1.0  Civic Union"
      ]
     },
     "execution_count": 43,
     "metadata": {},
     "output_type": "execute_result"
    }
   ],
   "source": [
    "percentage_df.index = [  \" \".join([country_name.capitalize() for country_name in country.split(\"_\")]) for country in percentage_df.index]\n",
    "percentage_df.reset_index(inplace=True)\n",
    "percentage_df.columns = [\"Land\",\"Clusterzugehörigkeit_Percentage\",\"West_Cluster\"]\n",
    "percentage_df.sort_values(\"Clusterzugehörigkeit_Percentage\",inplace=True, ascending=False)\n",
    "percentage_df.head()"
   ]
  },
  {
   "cell_type": "code",
   "execution_count": 44,
   "metadata": {},
   "outputs": [
    {
     "data": {
      "text/plain": [
       "<matplotlib.legend.Legend at 0x247d240c8d0>"
      ]
     },
     "execution_count": 44,
     "metadata": {},
     "output_type": "execute_result"
    },
    {
     "data": {
      "image/png": "[encoded data removed]",
      "text/plain": [
       "<Figure size 720x1224 with 1 Axes>"
      ]
     },
     "metadata": {},
     "output_type": "display_data"
    }
   ],
   "source": [
    "vis_plot = sns.barplot(y=\"Land\", x=\"Clusterzugehörigkeit_Percentage\", \n",
    "                       data=percentage_df,\n",
    "                       palette = [sns.color_palette(\"Blues\")[3] if group == \"Civic Union\" else sns.color_palette(\"Blues\")[1] for group in percentage_df[\"West_Cluster\"]],\n",
    "                      )\n",
    "\n",
    "            \n",
    "            \n",
    "#vis_plot = sns.barplot(y=\"Land\", x=\"Clusterzugehörigkeit_Percentage\", \n",
    "                       #data=episode_1_df,\n",
    "                       #color = sns.color_palette(\"Blues\")[3])\n",
    "\n",
    "        \n",
    "vis_plot.figure.set_size_inches(10,17)\n",
    "vis_plot.set_xlabel(\"Teil des Westclusters (%)\",size = 12)\n",
    "vis_plot.set_ylabel(\"\")\n",
    "vis_plot.tick_params(labelsize=14)\n",
    "vis_plot.set_xlim(0,1)\n",
    "#xmin, xmax = timeline_plot.get_xlim()\n",
    "#vis_plot.xaxis.label.set_visible(False)\n",
    "red_patch = mpatches.Patch(color=sns.color_palette(\"Blues\")[3], label='Civic Union')\n",
    "plt.legend(handles=[red_patch], loc=\"lower right\")\n"
   ]
  },
  {
   "cell_type": "markdown",
   "metadata": {},
   "source": [
    "### Abbildung 7"
   ]
  },
  {
   "cell_type": "code",
   "execution_count": 45,
   "metadata": {},
   "outputs": [
    {
     "data": {
      "text/html": [
       "<div>\n",
       "<style scoped>\n",
       "    .dataframe tbody tr th:only-of-type {\n",
       "        vertical-align: middle;\n",
       "    }\n",
       "\n",
       "    .dataframe tbody tr th {\n",
       "        vertical-align: top;\n",
       "    }\n",
       "\n",
       "    .dataframe thead th {\n",
       "        text-align: right;\n",
       "    }\n",
       "</style>\n",
       "<table border=\"1\" class=\"dataframe\">\n",
       "  <thead>\n",
       "    <tr style=\"text-align: right;\">\n",
       "      <th></th>\n",
       "      <th>0</th>\n",
       "    </tr>\n",
       "  </thead>\n",
       "  <tbody>\n",
       "    <tr>\n",
       "      <th>albanien</th>\n",
       "      <td>0.48</td>\n",
       "    </tr>\n",
       "    <tr>\n",
       "      <th>belgien</th>\n",
       "      <td>1.00</td>\n",
       "    </tr>\n",
       "    <tr>\n",
       "      <th>bosnien_und_herzegowina</th>\n",
       "      <td>0.46</td>\n",
       "    </tr>\n",
       "    <tr>\n",
       "      <th>bulgarien</th>\n",
       "      <td>0.98</td>\n",
       "    </tr>\n",
       "    <tr>\n",
       "      <th>dänemark</th>\n",
       "      <td>1.00</td>\n",
       "    </tr>\n",
       "  </tbody>\n",
       "</table>\n",
       "</div>"
      ],
      "text/plain": [
       "                            0\n",
       "albanien                 0.48\n",
       "belgien                  1.00\n",
       "bosnien_und_herzegowina  0.46\n",
       "bulgarien                0.98\n",
       "dänemark                 1.00"
      ]
     },
     "execution_count": 45,
     "metadata": {},
     "output_type": "execute_result"
    }
   ],
   "source": [
    "counter_countries = Counter()\n",
    "\n",
    "west_cluster = civic_union + core_west\n",
    "\n",
    "for year in range(2012,2014):\n",
    "    for bootstrap_iteration in range(0,25):\n",
    "        final_distance = 1\n",
    "        final_compare_cluster = []\n",
    "        for cluster_number_compare in cluster_dict[year][bootstrap_iteration]:\n",
    "            compare_cluster = cluster_dict[year][bootstrap_iteration][cluster_number_compare]\n",
    "            compare_distance = nltk.jaccard_distance(set(west_cluster), set(compare_cluster))\n",
    "            if compare_distance < final_distance:\n",
    "                final_distance =  compare_distance\n",
    "                final_compare_cluster = compare_cluster\n",
    "        counter_countries.update(final_compare_cluster)\n",
    "        \n",
    "percentage_dict = {country: counter_countries[country] / 50 for country in counter_countries}   \n",
    "percentage_df = pd.DataFrame.from_dict(percentage_dict, orient=\"index\")\n",
    "percentage_df.head()"
   ]
  },
  {
   "cell_type": "code",
   "execution_count": 46,
   "metadata": {},
   "outputs": [],
   "source": [
    "group_list = []\n",
    "\n",
    "for index, row in percentage_df.iterrows():\n",
    "    if index in west_cluster:\n",
    "        group_list.append(\"Civic Union\")\n",
    "    else:\n",
    "        group_list.append(\"\")\n",
    "        \n",
    "percentage_df[\"West_Cluster\"] = group_list"
   ]
  },
  {
   "cell_type": "code",
   "execution_count": 47,
   "metadata": {},
   "outputs": [
    {
     "data": {
      "text/html": [
       "<div>\n",
       "<style scoped>\n",
       "    .dataframe tbody tr th:only-of-type {\n",
       "        vertical-align: middle;\n",
       "    }\n",
       "\n",
       "    .dataframe tbody tr th {\n",
       "        vertical-align: top;\n",
       "    }\n",
       "\n",
       "    .dataframe thead th {\n",
       "        text-align: right;\n",
       "    }\n",
       "</style>\n",
       "<table border=\"1\" class=\"dataframe\">\n",
       "  <thead>\n",
       "    <tr style=\"text-align: right;\">\n",
       "      <th></th>\n",
       "      <th>Land</th>\n",
       "      <th>Clusterzugehörigkeit_Percentage</th>\n",
       "      <th>West_Cluster</th>\n",
       "    </tr>\n",
       "  </thead>\n",
       "  <tbody>\n",
       "    <tr>\n",
       "      <th>15</th>\n",
       "      <td>Luxemburg</td>\n",
       "      <td>1.0</td>\n",
       "      <td>Civic Union</td>\n",
       "    </tr>\n",
       "    <tr>\n",
       "      <th>26</th>\n",
       "      <td>Schweiz</td>\n",
       "      <td>1.0</td>\n",
       "      <td>Civic Union</td>\n",
       "    </tr>\n",
       "    <tr>\n",
       "      <th>20</th>\n",
       "      <td>Norwegen</td>\n",
       "      <td>1.0</td>\n",
       "      <td>Civic Union</td>\n",
       "    </tr>\n",
       "    <tr>\n",
       "      <th>31</th>\n",
       "      <td>Tschechien</td>\n",
       "      <td>1.0</td>\n",
       "      <td></td>\n",
       "    </tr>\n",
       "    <tr>\n",
       "      <th>21</th>\n",
       "      <td>Österreich</td>\n",
       "      <td>1.0</td>\n",
       "      <td>Civic Union</td>\n",
       "    </tr>\n",
       "  </tbody>\n",
       "</table>\n",
       "</div>"
      ],
      "text/plain": [
       "          Land  Clusterzugehörigkeit_Percentage West_Cluster\n",
       "15   Luxemburg                              1.0  Civic Union\n",
       "26     Schweiz                              1.0  Civic Union\n",
       "20    Norwegen                              1.0  Civic Union\n",
       "31  Tschechien                              1.0             \n",
       "21  Österreich                              1.0  Civic Union"
      ]
     },
     "execution_count": 47,
     "metadata": {},
     "output_type": "execute_result"
    }
   ],
   "source": [
    "percentage_df.index = [  \" \".join([country_name.capitalize() for country_name in country.split(\"_\")]) for country in percentage_df.index]\n",
    "percentage_df.reset_index(inplace=True)\n",
    "percentage_df.columns = [\"Land\",\"Clusterzugehörigkeit_Percentage\",\"West_Cluster\"]\n",
    "percentage_df.sort_values(\"Clusterzugehörigkeit_Percentage\",inplace=True, ascending=False)\n",
    "percentage_df.head()"
   ]
  },
  {
   "cell_type": "code",
   "execution_count": 48,
   "metadata": {},
   "outputs": [
    {
     "data": {
      "text/plain": [
       "<matplotlib.legend.Legend at 0x247d246e0f0>"
      ]
     },
     "execution_count": 48,
     "metadata": {},
     "output_type": "execute_result"
    },
    {
     "data": {
      "image/png": "[encoded data removed]",
      "text/plain": [
       "<Figure size 720x1224 with 1 Axes>"
      ]
     },
     "metadata": {},
     "output_type": "display_data"
    }
   ],
   "source": [
    "vis_plot = sns.barplot(y=\"Land\", x=\"Clusterzugehörigkeit_Percentage\", \n",
    "                       data=percentage_df,\n",
    "                       palette = [sns.color_palette(\"Blues\")[3] if group == \"Civic Union\" else sns.color_palette(\"Blues\")[1] for group in percentage_df[\"West_Cluster\"]],\n",
    "                      )\n",
    "\n",
    "            \n",
    "            \n",
    "#vis_plot = sns.barplot(y=\"Land\", x=\"Clusterzugehörigkeit_Percentage\", \n",
    "                       #data=episode_1_df,\n",
    "                       #color = sns.color_palette(\"Blues\")[3])\n",
    "\n",
    "        \n",
    "vis_plot.figure.set_size_inches(10,17)\n",
    "vis_plot.set_xlabel(\"Teil des Westclusters (%)\",size = 12)\n",
    "vis_plot.set_ylabel(\"\")\n",
    "vis_plot.tick_params(labelsize=14)\n",
    "vis_plot.set_xlim(0,1)\n",
    "#xmin, xmax = timeline_plot.get_xlim()\n",
    "#vis_plot.xaxis.label.set_visible(False)\n",
    "red_patch = mpatches.Patch(color=sns.color_palette(\"Blues\")[3], label='Civic Union')\n",
    "plt.legend(handles=[red_patch], loc=\"lower right\")\n"
   ]
  },
  {
   "cell_type": "markdown",
   "metadata": {},
   "source": [
    "## Abbildung 8-9 - Wortvektoren der Ländernamen (1996-1999 vs. 2013-2016)"
   ]
  },
  {
   "cell_type": "code",
   "execution_count": 49,
   "metadata": {},
   "outputs": [],
   "source": [
    "import pandas as pd\n",
    "import umap\n",
    "import seaborn as sns\n",
    "import matplotlib\n",
    "import matplotlib.pyplot as plt\n",
    "import matplotlib.patches as mpatches\n",
    "import plotly\n",
    "import plotly.graph_objs as go\n",
    "\n",
    "%matplotlib inline\n",
    "matplotlib.style.use('seaborn-white')"
   ]
  },
  {
   "cell_type": "markdown",
   "metadata": {},
   "source": [
    "### Abbildung 8"
   ]
  },
  {
   "cell_type": "markdown",
   "metadata": {},
   "source": [
    "Laden der UN-Regionalgruppen"
   ]
  },
  {
   "cell_type": "code",
   "execution_count": 50,
   "metadata": {},
   "outputs": [
    {
     "data": {
      "text/html": [
       "<div>\n",
       "<style scoped>\n",
       "    .dataframe tbody tr th:only-of-type {\n",
       "        vertical-align: middle;\n",
       "    }\n",
       "\n",
       "    .dataframe tbody tr th {\n",
       "        vertical-align: top;\n",
       "    }\n",
       "\n",
       "    .dataframe thead th {\n",
       "        text-align: right;\n",
       "    }\n",
       "</style>\n",
       "<table border=\"1\" class=\"dataframe\">\n",
       "  <thead>\n",
       "    <tr style=\"text-align: right;\">\n",
       "      <th></th>\n",
       "      <th>UN_AfricanGroup</th>\n",
       "      <th>UN_AsiaGroup</th>\n",
       "      <th>UN_EastEUGroup</th>\n",
       "      <th>UN_LatinAmerica</th>\n",
       "      <th>UN_WestEuropeGroup</th>\n",
       "      <th>ArabischeLiga</th>\n",
       "      <th>ASEAN</th>\n",
       "      <th>Benelux</th>\n",
       "      <th>BRICS</th>\n",
       "      <th>G4</th>\n",
       "      <th>G8</th>\n",
       "      <th>G8_5</th>\n",
       "      <th>G20</th>\n",
       "      <th>Next11</th>\n",
       "      <th>OPAC</th>\n",
       "      <th>Mercosur</th>\n",
       "      <th>P5</th>\n",
       "      <th>Visegrad</th>\n",
       "    </tr>\n",
       "    <tr>\n",
       "      <th>Land</th>\n",
       "      <th></th>\n",
       "      <th></th>\n",
       "      <th></th>\n",
       "      <th></th>\n",
       "      <th></th>\n",
       "      <th></th>\n",
       "      <th></th>\n",
       "      <th></th>\n",
       "      <th></th>\n",
       "      <th></th>\n",
       "      <th></th>\n",
       "      <th></th>\n",
       "      <th></th>\n",
       "      <th></th>\n",
       "      <th></th>\n",
       "      <th></th>\n",
       "      <th></th>\n",
       "      <th></th>\n",
       "    </tr>\n",
       "  </thead>\n",
       "  <tbody>\n",
       "    <tr>\n",
       "      <th>afghanistan</th>\n",
       "      <td>0.0</td>\n",
       "      <td>1.0</td>\n",
       "      <td>0.0</td>\n",
       "      <td>0.0</td>\n",
       "      <td>0.0</td>\n",
       "      <td>0.0</td>\n",
       "      <td>0.0</td>\n",
       "      <td>0.0</td>\n",
       "      <td>0.0</td>\n",
       "      <td>0.0</td>\n",
       "      <td>0.0</td>\n",
       "      <td>0.0</td>\n",
       "      <td>0.0</td>\n",
       "      <td>0.0</td>\n",
       "      <td>0.0</td>\n",
       "      <td>0.0</td>\n",
       "      <td>0.0</td>\n",
       "      <td>0.0</td>\n",
       "    </tr>\n",
       "    <tr>\n",
       "      <th>ägypten</th>\n",
       "      <td>1.0</td>\n",
       "      <td>0.0</td>\n",
       "      <td>0.0</td>\n",
       "      <td>0.0</td>\n",
       "      <td>0.0</td>\n",
       "      <td>1.0</td>\n",
       "      <td>0.0</td>\n",
       "      <td>0.0</td>\n",
       "      <td>0.0</td>\n",
       "      <td>0.0</td>\n",
       "      <td>0.0</td>\n",
       "      <td>0.0</td>\n",
       "      <td>0.0</td>\n",
       "      <td>1.0</td>\n",
       "      <td>0.0</td>\n",
       "      <td>0.0</td>\n",
       "      <td>0.0</td>\n",
       "      <td>0.0</td>\n",
       "    </tr>\n",
       "    <tr>\n",
       "      <th>albanien</th>\n",
       "      <td>0.0</td>\n",
       "      <td>0.0</td>\n",
       "      <td>1.0</td>\n",
       "      <td>0.0</td>\n",
       "      <td>0.0</td>\n",
       "      <td>0.0</td>\n",
       "      <td>0.0</td>\n",
       "      <td>0.0</td>\n",
       "      <td>0.0</td>\n",
       "      <td>0.0</td>\n",
       "      <td>0.0</td>\n",
       "      <td>0.0</td>\n",
       "      <td>0.0</td>\n",
       "      <td>0.0</td>\n",
       "      <td>0.0</td>\n",
       "      <td>0.0</td>\n",
       "      <td>0.0</td>\n",
       "      <td>0.0</td>\n",
       "    </tr>\n",
       "    <tr>\n",
       "      <th>algerien</th>\n",
       "      <td>1.0</td>\n",
       "      <td>0.0</td>\n",
       "      <td>0.0</td>\n",
       "      <td>0.0</td>\n",
       "      <td>0.0</td>\n",
       "      <td>1.0</td>\n",
       "      <td>0.0</td>\n",
       "      <td>0.0</td>\n",
       "      <td>0.0</td>\n",
       "      <td>0.0</td>\n",
       "      <td>0.0</td>\n",
       "      <td>0.0</td>\n",
       "      <td>0.0</td>\n",
       "      <td>0.0</td>\n",
       "      <td>1.0</td>\n",
       "      <td>0.0</td>\n",
       "      <td>0.0</td>\n",
       "      <td>0.0</td>\n",
       "    </tr>\n",
       "    <tr>\n",
       "      <th>andorra</th>\n",
       "      <td>0.0</td>\n",
       "      <td>0.0</td>\n",
       "      <td>0.0</td>\n",
       "      <td>0.0</td>\n",
       "      <td>1.0</td>\n",
       "      <td>0.0</td>\n",
       "      <td>0.0</td>\n",
       "      <td>0.0</td>\n",
       "      <td>0.0</td>\n",
       "      <td>0.0</td>\n",
       "      <td>0.0</td>\n",
       "      <td>0.0</td>\n",
       "      <td>0.0</td>\n",
       "      <td>0.0</td>\n",
       "      <td>0.0</td>\n",
       "      <td>0.0</td>\n",
       "      <td>0.0</td>\n",
       "      <td>0.0</td>\n",
       "    </tr>\n",
       "  </tbody>\n",
       "</table>\n",
       "</div>"
      ],
      "text/plain": [
       "             UN_AfricanGroup  UN_AsiaGroup  UN_EastEUGroup  UN_LatinAmerica  \\\n",
       "Land                                                                          \n",
       "afghanistan              0.0           1.0             0.0              0.0   \n",
       "ägypten                  1.0           0.0             0.0              0.0   \n",
       "albanien                 0.0           0.0             1.0              0.0   \n",
       "algerien                 1.0           0.0             0.0              0.0   \n",
       "andorra                  0.0           0.0             0.0              0.0   \n",
       "\n",
       "             UN_WestEuropeGroup  ArabischeLiga  ASEAN  Benelux  BRICS   G4  \\\n",
       "Land                                                                         \n",
       "afghanistan                 0.0            0.0    0.0      0.0    0.0  0.0   \n",
       "ägypten                     0.0            1.0    0.0      0.0    0.0  0.0   \n",
       "albanien                    0.0            0.0    0.0      0.0    0.0  0.0   \n",
       "algerien                    0.0            1.0    0.0      0.0    0.0  0.0   \n",
       "andorra                     1.0            0.0    0.0      0.0    0.0  0.0   \n",
       "\n",
       "              G8  G8_5  G20  Next11  OPAC  Mercosur   P5  Visegrad  \n",
       "Land                                                                \n",
       "afghanistan  0.0   0.0  0.0     0.0   0.0       0.0  0.0       0.0  \n",
       "ägypten      0.0   0.0  0.0     1.0   0.0       0.0  0.0       0.0  \n",
       "albanien     0.0   0.0  0.0     0.0   0.0       0.0  0.0       0.0  \n",
       "algerien     0.0   0.0  0.0     0.0   1.0       0.0  0.0       0.0  \n",
       "andorra      0.0   0.0  0.0     0.0   0.0       0.0  0.0       0.0  "
      ]
     },
     "execution_count": 50,
     "metadata": {},
     "output_type": "execute_result"
    }
   ],
   "source": [
    "country_groups_df = pd.read_csv(\"Country_Groups.csv\", sep=\";\", engine=\"python\", encoding=\"utf-8\", names= [\"Land\",\"UN_AfricanGroup\",\"UN_AsiaGroup\",\"UN_EastEUGroup\",\"UN_LatinAmerica\",\"UN_WestEuropeGroup\",\"ArabischeLiga\",\"ASEAN\",\"Benelux\",\"BRICS\",\"G4\",\"G8\",\"G8_5\",\"G20\",\"Next11\",\"OPAC\",\"Mercosur\",\"P5\",\"Visegrad\"])\n",
    "country_groups_df.set_index(\"Land\", inplace=True)\n",
    "country_groups_df.drop(\"Land\",axis=0,inplace=True)\n",
    "country_groups_df.head()"
   ]
  },
  {
   "cell_type": "markdown",
   "metadata": {},
   "source": [
    "Laden der Wortvektoren für die zeiträume 1996-1999 und 2013-2016. Als Grundlage dient das \"fixedModel\", also das Modell, das am originalen, nicht durch bootstrapping veränderten Datensatz trainiert wurde."
   ]
  },
  {
   "cell_type": "code",
   "execution_count": 51,
   "metadata": {},
   "outputs": [],
   "source": [
    "vector_1996_df = pd.read_csv(r\"Country_Vectors\\year1996-1999_fixedModel_CountryVectors.csv\")\n",
    "vector_1996_df.set_index(\"Country\", inplace=True)\n",
    "vector_2013_df = pd.read_csv(r\"Country_Vectors\\year2013-2016_fixedModel_CountryVectors.csv\")\n",
    "vector_2013_df.set_index(\"Country\", inplace=True)"
   ]
  },
  {
   "cell_type": "markdown",
   "metadata": {},
   "source": [
    "Transformation der Vektoren in zwei Dimensionen mittels UMAP."
   ]
  },
  {
   "cell_type": "code",
   "execution_count": 52,
   "metadata": {},
   "outputs": [],
   "source": [
    "embedding_1996 = umap.UMAP(random_state=0,metric=\"cosine\").fit_transform(vector_1996_df)\n",
    "vector_1996_df[\"X_UMAP\"] = list(embedding_1996[:,0])\n",
    "vector_1996_df[\"Y_UMAP\"] = list(embedding_1996[:,1])\n",
    "\n",
    "embedding_2013 = umap.UMAP(random_state=0,metric=\"cosine\").fit_transform(vector_2013_df)\n",
    "vector_2013_df[\"X_UMAP\"] = list(embedding_2013[:,0])\n",
    "vector_2013_df[\"Y_UMAP\"] = list(embedding_2013[:,1])"
   ]
  },
  {
   "cell_type": "markdown",
   "metadata": {},
   "source": [
    "Den einzelnen Ländervektoren werden die UN-Regionalgruppen zugeordnet"
   ]
  },
  {
   "cell_type": "code",
   "execution_count": 53,
   "metadata": {},
   "outputs": [],
   "source": [
    "for column in country_groups_df.columns:\n",
    "    groups_list = []\n",
    "    for index, row in vector_1996_df.iterrows():\n",
    "        country_name = index\n",
    "        country_name = country_name.replace(\"_\",\" \")\n",
    "        group = country_groups_df[country_groups_df.index == country_name][column].values[0]\n",
    "        groups_list.append(group)\n",
    "    vector_1996_df[column] = groups_list\n",
    "    \n",
    "    \n",
    "for column in country_groups_df.columns:\n",
    "    groups_list = []\n",
    "    for index, row in vector_2013_df.iterrows():\n",
    "        country_name = index\n",
    "        country_name = country_name.replace(\"_\",\" \")\n",
    "        group = country_groups_df[country_groups_df.index == country_name][column].values[0]\n",
    "        groups_list.append(group)\n",
    "    vector_2013_df[column] = groups_list"
   ]
  },
  {
   "cell_type": "markdown",
   "metadata": {},
   "source": [
    "Umlabeln der Regionalgruppen Zugehörigkeit von Ziffern in Text"
   ]
  },
  {
   "cell_type": "code",
   "execution_count": 54,
   "metadata": {},
   "outputs": [],
   "source": [
    "un_groups = {\"UN_AfricanGroup\":\"Afrika\",\"UN_AsiaGroup\":\"Asien\",\"UN_EastEUGroup\":\"Osteuropa\",\"UN_LatinAmerica\":\"Lateinamerika\",\"UN_WestEuropeGroup\":\"Westeuropa\"}\n",
    "groups_list = []\n",
    "\n",
    "for index, row in vector_1996_df.iterrows():\n",
    "    for group in un_groups:\n",
    "        if row[group] == 1:\n",
    "            groups_list.append(un_groups[group])\n",
    "            \n",
    "vector_1996_df[\"UN-Regionalgruppen\"] = groups_list\n",
    "\n",
    "groups_list = []\n",
    "\n",
    "for index, row in vector_2013_df.iterrows():\n",
    "    for group in un_groups:\n",
    "        if row[group] == 1:\n",
    "            groups_list.append(un_groups[group])\n",
    "            \n",
    "vector_2013_df[\"UN-Regionalgruppen\"] = groups_list"
   ]
  },
  {
   "cell_type": "code",
   "execution_count": 55,
   "metadata": {},
   "outputs": [
    {
     "data": {
      "image/png": "[encoded data removed]",
      "text/plain": [
       "<Figure size 720x1008 with 2 Axes>"
      ]
     },
     "metadata": {},
     "output_type": "display_data"
    }
   ],
   "source": [
    "fig, ax = plt.subplots(2,1,sharex=False, sharey=False)\n",
    "\n",
    "\n",
    "barplot = sns.scatterplot(x = \"X_UMAP\", y = \"Y_UMAP\", hue=\"UN-Regionalgruppen\", data=vector_1996_df, s=80, \n",
    "                           palette = {\"Westeuropa\":sns.color_palette()[0],\n",
    "                                      \"Osteuropa\": sns.color_palette()[9],\n",
    "                                      \"Asien\": sns.color_palette()[2],\n",
    "                                      \"Afrika\": sns.color_palette()[4],\n",
    "                                      \"Lateinamerika\": sns.color_palette()[8]}, ax=ax[0])\n",
    "barplot.figure.set_size_inches(10,14)\n",
    "barplot.yaxis.label.set_visible(False)\n",
    "barplot.xaxis.label.set_visible(False)\n",
    "barplot.set_title(\"Wortvektoren der Ländernamen - 1996-1999\", weight=\"bold\", size=14)\n",
    "\n",
    "barplot = sns.scatterplot(x = \"X_UMAP\", y = \"Y_UMAP\", hue=\"UN-Regionalgruppen\", data=vector_2013_df, s=80, \n",
    "                           palette = {\"Westeuropa\":sns.color_palette()[0],\n",
    "                                      \"Osteuropa\": sns.color_palette()[9],\n",
    "                                      \"Asien\": sns.color_palette()[2],\n",
    "                                      \"Afrika\": sns.color_palette()[4],\n",
    "                                      \"Lateinamerika\": sns.color_palette()[8]},ax=ax[1])\n",
    "\n",
    "\n",
    "barplot.yaxis.label.set_visible(False)\n",
    "barplot.xaxis.label.set_visible(False)\n",
    "barplot.set_title(\"Wortvektoren der Ländernamen - 2013-2016\", weight=\"bold\", size=14)\n",
    "barplot.get_legend().set_visible(False)\n",
    "\n"
   ]
  },
  {
   "cell_type": "markdown",
   "metadata": {},
   "source": [
    "### Abbildung 9"
   ]
  },
  {
   "cell_type": "code",
   "execution_count": 56,
   "metadata": {},
   "outputs": [],
   "source": [
    "core_west = [\"belgien\",\"dänemark\",\"frankreich\",\"island\",\"italien\",\"kanada\",\"luxemburg\",\n",
    "             \"niederlande\",\"norwegen\",\"portugal\",\"spanien\",\"vereinigtes_königreich\",\"usa\"]\n",
    "\n",
    "\n",
    "civic_union = [\"japan\",\"finnland\",\"irland\",\"österreich\",\"schweden\",\"schweiz\",\"griechenland\"] + [\"australien\",\"neuseeland\"]\n",
    "\n",
    "west_cluster = core_west + civic_union"
   ]
  },
  {
   "cell_type": "markdown",
   "metadata": {},
   "source": [
    "Laden der Wortvektoren für die zeiträume 1996-1999 und 2013-2016. Als Grundlage dient das \"fixedModel\", also das Modell, das am originalen, nicht durch bootstrapping veränderten Datensatz trainiert wurde."
   ]
  },
  {
   "cell_type": "code",
   "execution_count": 57,
   "metadata": {},
   "outputs": [],
   "source": [
    "vector_1996_df = pd.read_csv(r\"Country_Vectors\\year1996-1999_fixedModel_CountryVectors.csv\")\n",
    "vector_1996_df.set_index(\"Country\", inplace=True)\n",
    "vector_2013_df = pd.read_csv(r\"Country_Vectors\\year2013-2016_fixedModel_CountryVectors.csv\")\n",
    "vector_2013_df.set_index(\"Country\", inplace=True)"
   ]
  },
  {
   "cell_type": "markdown",
   "metadata": {},
   "source": [
    "Transformation der Vektoren in zwei Dimensionen mittels UMAP."
   ]
  },
  {
   "cell_type": "code",
   "execution_count": 58,
   "metadata": {},
   "outputs": [],
   "source": [
    "embedding_1996 = umap.UMAP(random_state=0,metric=\"cosine\").fit_transform(vector_1996_df)\n",
    "vector_1996_df[\"X_UMAP\"] = list(embedding_1996[:,0])\n",
    "vector_1996_df[\"Y_UMAP\"] = list(embedding_1996[:,1])\n",
    "embedding_2013 = umap.UMAP(random_state=0,metric=\"cosine\").fit_transform(vector_2013_df)\n",
    "vector_2013_df[\"X_UMAP\"] = list(embedding_2013[:,0])\n",
    "vector_2013_df[\"Y_UMAP\"] = list(embedding_2013[:,1])"
   ]
  },
  {
   "cell_type": "code",
   "execution_count": 59,
   "metadata": {},
   "outputs": [],
   "source": [
    "groups_list = []\n",
    "\n",
    "for index, row in vector_1996_df.iterrows():\n",
    "    if index in west_cluster:\n",
    "        groups_list.append(\"Civic Union\")\n",
    "    else:\n",
    "        groups_list.append(\"\")\n",
    "            \n",
    "vector_1996_df[\"West_Cluster\"] = groups_list\n",
    "\n",
    "groups_list = []\n",
    "\n",
    "for index, row in vector_2013_df.iterrows():\n",
    "    if index in west_cluster:\n",
    "        groups_list.append(\"Civic Union\")\n",
    "    else:\n",
    "        groups_list.append(\"\")\n",
    "            \n",
    "vector_2013_df[\"West_Cluster\"] = groups_list"
   ]
  },
  {
   "cell_type": "code",
   "execution_count": 60,
   "metadata": {},
   "outputs": [
    {
     "data": {
      "text/plain": [
       "<matplotlib.legend.Legend at 0x247d54f6dd8>"
      ]
     },
     "execution_count": 60,
     "metadata": {},
     "output_type": "execute_result"
    },
    {
     "data": {
      "image/png": "[encoded data removed]",
      "text/plain": [
       "<Figure size 720x1008 with 2 Axes>"
      ]
     },
     "metadata": {},
     "output_type": "display_data"
    }
   ],
   "source": [
    "fig, ax = plt.subplots(2,1,sharex=False, sharey=False)\n",
    "\n",
    "\n",
    "\n",
    "barplot = sns.scatterplot(x = \"X_UMAP\", y = \"Y_UMAP\", hue=\"West_Cluster\", data=vector_1996_df, s=80, \n",
    "                          palette = {\"Civic Union\":sns.color_palette(\"Blues_d\")[3],\n",
    "                                       \"\": sns.color_palette()[7]}, ax=ax[0])\n",
    "barplot.figure.set_size_inches(10,14)\n",
    "barplot.yaxis.label.set_visible(False)\n",
    "barplot.xaxis.label.set_visible(False)\n",
    "barplot.set_title(\"Wortvektoren der Ländernamen - 1996-1999\", weight=\"bold\", size=14)\n",
    "barplot.get_legend().remove()\n",
    "\n",
    "\n",
    "\n",
    "barplot = sns.scatterplot(x = \"X_UMAP\", y = \"Y_UMAP\", hue=\"West_Cluster\", data=vector_2013_df, s=80, \n",
    "                          palette = {\"Civic Union\":sns.color_palette(\"Blues_d\")[3],\n",
    "                                       \"\": sns.color_palette()[7]},ax=ax[1])\n",
    "\n",
    "barplot.yaxis.label.set_visible(False)\n",
    "barplot.xaxis.label.set_visible(False)\n",
    "barplot.set_title(\"Wortvektoren der Ländernamen - 2013-2016\", weight=\"bold\", size=14)\n",
    "barplot.get_legend().remove()\n",
    "\n",
    "red_patch = mpatches.Patch(color=sns.color_palette(\"Blues\")[3], label='Civic Union')\n",
    "\n",
    "    \n",
    "    \n",
    "ax[0].legend(handles=[red_patch], loc=\"upper left\")"
   ]
  }
 ],
 "metadata": {
  "kernelspec": {
   "display_name": "Python [conda env:python_3.6] *",
   "language": "python",
   "name": "conda-env-python_3.6-py"
  },
  "language_info": {
   "codemirror_mode": {
    "name": "ipython",
    "version": 3
   },
   "file_extension": ".py",
   "mimetype": "text/x-python",
   "name": "python",
   "nbconvert_exporter": "python",
   "pygments_lexer": "ipython3",
   "version": "3.6.8"
  }
 },
 "nbformat": 4,
 "nbformat_minor": 2
}
