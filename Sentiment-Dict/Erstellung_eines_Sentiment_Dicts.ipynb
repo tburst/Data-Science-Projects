{
 "cells": [
  {
   "cell_type": "markdown",
   "metadata": {},
   "source": [
    "## 1. Einleitung"
   ]
  },
  {
   "cell_type": "markdown",
   "metadata": {},
   "source": [
    "Welche Wörter wir benutzen um etwas auszudrücken sagt nicht nur etwas über unsere [politische Orientierung](https://nbviewer.jupyter.org/github/tburst/Projects/blob/master/Politische%20Sprache/Klassifikation%20politischer%20Sprache/Klassikfikation_politischer_Sprache.ipynb) aus, sondern zeigt auch, mit welcher Wertung wir über das Angesprochene denken. Stehen wir dem Sachverhalt positiv gegenüber, verwenden wir Worte, die positive \"Sentiments\" ausdrücken (naheliegende Beispiele sind Adjektive wie \"gut\" oder \"perfekt\"), bei einer negativen Einstellung finden Worte wie \"schlecht\" oder \"schrecklich\" Verwendung.  \n",
    "\n",
    "In der Politik spielt diese klare Positionierung mittels Sprache eine besondere Rolle. Im Wettstreit mit anderen politischen Richtungen und entlang der Konfliktlinie zwischen Regierung und Opposition werden Entscheidungen anders bewertet, Themen unterschiedlich besprochen und besetzt und eher positive oder negative Ereignisse aufgegriffen und in die Diskussion eingebracht.\n",
    "\n",
    "Im Folgenden widme ich mich diesem Sachverhalt näher. Dafür greife ich auf ein deutsches Sentimentwörterbuch zurück, kombiniere es mit der Fähigkeit des Word2Vec-Modells, die Semantik eines Wortes abzubilden und trainiere mittels dieses Trainingsdatensatzes eine Support Vector Machine, um ein eigenes, speziell für den Politikbereich geeignetes Sentimentwörterbuch zu erstellen. Im einzelnen sieht das Vorgehen folgendermaßen aus:\n",
    "\n",
    "* Zunächst nutze ich ein bereits vorhandenes deutsches Sentimentwörterbuch, um ein Grundvokabluar an deutschen Worten zu erhalten, die eine positive oder negative Einstellung ausdrücken.\n",
    "* Danach kommt der Word2Vec-Algorithmus von Google zum Einsatz, um ein Word2Vec-Modell mittels  47.070 Bundestagsreden zu trainieren. Da ausschließlich politische Texte genutzt werden, bildet das Modell die Semantik der Worte ab, die sie speziell im politischen Kontext innehaben.  \n",
    "* Im dritten Schritt merge ich die bereits vorhandenen Wörter aus dem Sentimentwörterbuch mit ihren Wortvektoren aus dem Word2Vec-Modell. Dadurch erhalte ich einen Datensatz, der Wörter mit eindeutiger Sentimentwertung (positiv/negativ) und zugeordneten Wortvektoren enthält.\n",
    "* Mittels dieses Datensatzes wird eine Support Vector Machine lernen, das positive/negative Sentiment eines Wortes anhand des Wortvektors vorherzusagen. \n",
    "* Das Modell wird dann dafür genutzt, die Sentiments für das restliche Vokabular des Word2Vec-Modells zu bestimmen. Dadurch erhalten wir ein neues, auf den Politikbereich spezialisiertes Sentimentwörterbuch.\n",
    "* Zum Abschluss demonstriere ich einige potentielle Anwendungsmöglichkeiten dieser neu erstellten Sentimentressource und zeige unter anderem die klare Trennung zwischen Regierungs- und Oppositionssprache, die sich in den Sentiments der Reden widerspiegelt."
   ]
  },
  {
   "cell_type": "markdown",
   "metadata": {},
   "source": [
    "## 2. Vorbereitung"
   ]
  },
  {
   "cell_type": "markdown",
   "metadata": {},
   "source": [
    "### 2.1 Laden von Sentimentwörtern und des Word2Vec-Modells"
   ]
  },
  {
   "cell_type": "markdown",
   "metadata": {},
   "source": [
    "Als Basis für alles weitere benötigen wir zunächst eine Grundlage an Wörtern, für die ihr Sentiment, also die Wertung, die sie enthalten, feststeht. Dafür greife ich auf die drei Datensätze von [GermanPolarityClues](http://www.ulliwaltinger.de/sentiment/)..."
   ]
  },
  {
   "cell_type": "code",
   "execution_count": 1,
   "metadata": {
    "collapsed": false
   },
   "outputs": [],
   "source": [
    "import pandas as pd\n",
    "\n",
    "pd.set_option(\"display.max_columns\",6)\n",
    "\n",
    "negative_df = pd.read_csv(\"GermanPolarityClues-Negative-21042012.tsv\", sep=\"\\t\", \n",
    "                          names=[\"Wort\",\"Lemma\",\"PoS\",\"Polarity\",\"Probability\",\"Class\"])\n",
    "positive_df = pd.read_csv(\"GermanPolarityClues-Positive-21042012.tsv\", sep=\"\\t\", \n",
    "                          names=[\"Wort\",\"Lemma\",\"PoS\",\"Polarity\",\"Probability\",\"Class\"])\n",
    "neutral_df =  pd.read_csv(\"GermanPolarityClues-Neutral-21042012.tsv\", sep=\"\\t\", \n",
    "                          names=[\"Wort\",\"Lemma\",\"PoS\",\"Polarity\",\"Probability\",\"Class\"])"
   ]
  },
  {
   "cell_type": "markdown",
   "metadata": {},
   "source": [
    "... und eine Sentimentliste von [Josef Ruppenhofer, Petra Steiner und Michael Wiegand](https://github.com/josefkr/morphcomp) zurück."
   ]
  },
  {
   "cell_type": "code",
   "execution_count": 2,
   "metadata": {
    "collapsed": false
   },
   "outputs": [],
   "source": [
    "morph_polarity_df = pd.read_csv(r\"Morph-Polarity\\morphcomp-master\\train_test_lemma_polarity.txt\", sep=\"\\t\", \n",
    "                                names=[\"Wort\",\"Polarity\"])"
   ]
  },
  {
   "cell_type": "code",
   "execution_count": 3,
   "metadata": {
    "collapsed": false
   },
   "outputs": [],
   "source": [
    "morph_polarity_df[\"Wort\"] =  [row.split(\"_\")[0] for row in morph_polarity_df[\"Wort\"]]\n",
    "\n",
    "polarity_dict = {\"NEG\": \"negative\", \"POS\": \"positive\", \"NEU\": \"neutral\", \"SHI\": \"SHI\", \"INT\": \"INT\"}\n",
    "morph_polarity_df[\"Polarity\"] =  [polarity_dict[row] for row in morph_polarity_df[\"Polarity\"]]"
   ]
  },
  {
   "cell_type": "markdown",
   "metadata": {},
   "source": [
    "Beispielhaft ist hier ein Auszug aus dem negativen Sentiment Datensatz zu sehen. Für uns interessant sind die \"Wort\" und die \"Polarity\" Spalten."
   ]
  },
  {
   "cell_type": "code",
   "execution_count": 4,
   "metadata": {
    "collapsed": false
   },
   "outputs": [
    {
     "data": {
      "text/html": [
       "<div>\n",
       "<style>\n",
       "    .dataframe thead tr:only-child th {\n",
       "        text-align: right;\n",
       "    }\n",
       "\n",
       "    .dataframe thead th {\n",
       "        text-align: left;\n",
       "    }\n",
       "\n",
       "    .dataframe tbody tr th {\n",
       "        vertical-align: top;\n",
       "    }\n",
       "</style>\n",
       "<table border=\"1\" class=\"dataframe\">\n",
       "  <thead>\n",
       "    <tr style=\"text-align: right;\">\n",
       "      <th></th>\n",
       "      <th>Wort</th>\n",
       "      <th>Lemma</th>\n",
       "      <th>PoS</th>\n",
       "      <th>Polarity</th>\n",
       "      <th>Probability</th>\n",
       "      <th>Class</th>\n",
       "    </tr>\n",
       "  </thead>\n",
       "  <tbody>\n",
       "    <tr>\n",
       "      <th>0</th>\n",
       "      <td>Abandon</td>\n",
       "      <td>Abandon</td>\n",
       "      <td>NN</td>\n",
       "      <td>negative</td>\n",
       "      <td>-/-/-</td>\n",
       "      <td>D</td>\n",
       "    </tr>\n",
       "    <tr>\n",
       "      <th>1</th>\n",
       "      <td>Abart</td>\n",
       "      <td>Abart</td>\n",
       "      <td>NN</td>\n",
       "      <td>negative</td>\n",
       "      <td>-/-/-</td>\n",
       "      <td>D</td>\n",
       "    </tr>\n",
       "    <tr>\n",
       "      <th>2</th>\n",
       "      <td>Abbau</td>\n",
       "      <td>Abbau</td>\n",
       "      <td>NN</td>\n",
       "      <td>negative</td>\n",
       "      <td>-/-0.058/-</td>\n",
       "      <td>L</td>\n",
       "    </tr>\n",
       "    <tr>\n",
       "      <th>3</th>\n",
       "      <td>Abbaue</td>\n",
       "      <td>Abbau</td>\n",
       "      <td>NN</td>\n",
       "      <td>negative</td>\n",
       "      <td>-/-0.058/-</td>\n",
       "      <td>L</td>\n",
       "    </tr>\n",
       "    <tr>\n",
       "      <th>4</th>\n",
       "      <td>Abbauen</td>\n",
       "      <td>Abbau</td>\n",
       "      <td>NN</td>\n",
       "      <td>negative</td>\n",
       "      <td>-/-0.058/-</td>\n",
       "      <td>L</td>\n",
       "    </tr>\n",
       "  </tbody>\n",
       "</table>\n",
       "</div>"
      ],
      "text/plain": [
       "      Wort    Lemma PoS  Polarity Probability Class\n",
       "0  Abandon  Abandon  NN  negative       -/-/-     D\n",
       "1    Abart    Abart  NN  negative       -/-/-     D\n",
       "2    Abbau    Abbau  NN  negative  -/-0.058/-     L\n",
       "3   Abbaue    Abbau  NN  negative  -/-0.058/-     L\n",
       "4  Abbauen    Abbau  NN  negative  -/-0.058/-     L"
      ]
     },
     "execution_count": 4,
     "metadata": {},
     "output_type": "execute_result"
    }
   ],
   "source": [
    "negative_df.head()"
   ]
  },
  {
   "cell_type": "markdown",
   "metadata": {},
   "source": [
    "Außerdem benötigen wir ein Word2Vec-Modell, um die Worte mittels bedeutungstragenden Vektoren abzubilden. Es exisitieren bereits eine Reihe von guten Erklärungen, was ein Word2Vec-Modell genau ist (z.B. [hier](http://multithreaded.stitchfix.com/blog/2015/03/11/word-is-worth-a-thousand-vectors/) oder [hier](https://www.analyticsvidhya.com/blog/2017/06/word-embeddings-count-word2veec/)). Vereinfacht gesagt lernt das Modell die Bedeutung eines Wortes, indem es die umgebenden Worte betrachtet. Jedes Wort wird so als Vektor abgebildet und diese Vektoren werden mit jedem Satz, den das Modell im Trainingsprozess betrachtet, angepasst, sodass Worte, die in ähnlichem Kontext vorkommen, nach und nach ähnliche Vektoren aufweisen bzw. im Vektorraum nahe beieinander liegen.\n",
    "\n",
    "Um mit einem Word2Vec-Modell arbeiten zu können, gibt es zum einen die Möglichkeit, ein bereits vortrainiertes Modell zu nutzen. Diese werden in der Regel anhand einer großen Menge an News- und/oder Wikipedia-Artikel trainiert. In unserem Fall jedoch bietet ein selbst trainiertes Word2Vec-Modell den Vorteil, dass es die Bedeutung von Wörtern nur mittels des Bundestagsreden-Korpus abbildet, wodurch sich ein Modell mit Spezialisierung auf das politische Vokabular und spezifische politische Bedeutungsgehälter ergibt."
   ]
  },
  {
   "cell_type": "markdown",
   "metadata": {},
   "source": [
    "Mittels der \"gensim\" Library laden wir unser eigenes, bereits trainiertes Word2Vec-Modell."
   ]
  },
  {
   "cell_type": "code",
   "execution_count": 5,
   "metadata": {
    "collapsed": false
   },
   "outputs": [],
   "source": [
    "import warnings\n",
    "warnings.filterwarnings(action='ignore', category=UserWarning, module='gensim')\n",
    "\n",
    "import gensim\n",
    "\n",
    "word2vec_model = gensim.models.Word2Vec.load('word2vec_300dims_iter20_47467speeches_window10')"
   ]
  },
  {
   "cell_type": "markdown",
   "metadata": {},
   "source": [
    "Um die Möglichkeiten zu demonstrieren, die so ein Word2Vec-Modell bietet, zeige ich ein paar mögliche direkte Anfragen an das Modell. \n",
    "\n",
    "Hier sind beispielsweise die 15 Worte, die dem Modell nach semantisch am ähnlichsten zu dem Wort \"Islamismus\" sind"
   ]
  },
  {
   "cell_type": "code",
   "execution_count": 6,
   "metadata": {
    "collapsed": false
   },
   "outputs": [
    {
     "data": {
      "text/plain": [
       "[('extremismus', 0.7211811542510986),\n",
       " ('rechtsradikalismus', 0.6909369230270386),\n",
       " ('linksextremismus', 0.6883890628814697),\n",
       " ('fundamentalismus', 0.676803469657898),\n",
       " ('antisemitismus', 0.6545290946960449),\n",
       " ('rechtsextremismus', 0.6270365715026855),\n",
       " ('islamistischen', 0.6108469367027283),\n",
       " ('salafismus', 0.609311580657959),\n",
       " ('islam', 0.6016819477081299),\n",
       " ('rassismus', 0.5997992157936096),\n",
       " ('terrorismus', 0.5939330458641052),\n",
       " ('fanatismus', 0.5838288068771362),\n",
       " ('rechtsterrorismus', 0.5834563970565796),\n",
       " ('ausländerfeindlichkeit', 0.5796167850494385),\n",
       " ('intoleranz', 0.5788671970367432)]"
      ]
     },
     "execution_count": 6,
     "metadata": {},
     "output_type": "execute_result"
    }
   ],
   "source": [
    "word2vec_model.most_similar('islamismus', topn=15)"
   ]
  },
  {
   "cell_type": "markdown",
   "metadata": {},
   "source": [
    "Es ist beeindruckend, wie gut das Modell lernt, die Bedeutung von Wörtern mittels deren Kontext abzubilden und bei dem Finden von Ähnlichkeiten Wörter, die unterschiedlichen Bezug zu dem Suchwort haben, zusammenbringt. Hier findet es zum einen weitere radikale/extremistische politische Richtungen, jedoch auch den allgemeinen religiösen Bezug (\"islam\") und allgemeinere Begrifflichkeiten (\"terrorismus\",\"gewaltbereiten\")."
   ]
  },
  {
   "cell_type": "code",
   "execution_count": 7,
   "metadata": {
    "collapsed": false
   },
   "outputs": [
    {
     "data": {
      "text/plain": [
       "[('myanmar', 0.6290006637573242),\n",
       " ('kolumbien', 0.6145118474960327),\n",
       " ('venezuela', 0.6108405590057373),\n",
       " ('china', 0.5977751612663269),\n",
       " ('simbabwe', 0.5958115458488464),\n",
       " ('weißrussland', 0.5828683376312256),\n",
       " ('ägypten', 0.5790112018585205),\n",
       " ('usbekistan', 0.5741658210754395),\n",
       " ('belarus', 0.5722464323043823),\n",
       " ('lateinamerika', 0.5722249746322632),\n",
       " ('birma', 0.5653955936431885),\n",
       " ('honduras', 0.5618592500686646),\n",
       " ('tibet', 0.5604021549224854),\n",
       " ('russland', 0.5543767213821411),\n",
       " ('südafrika', 0.5376547574996948)]"
      ]
     },
     "execution_count": 7,
     "metadata": {},
     "output_type": "execute_result"
    }
   ],
   "source": [
    "word2vec_model.most_similar(positive=[\"kuba\"], topn=15)"
   ]
  },
  {
   "cell_type": "markdown",
   "metadata": {},
   "source": [
    "Das Modell gibt gefragt nach ähnlichen Wörtern zu Kuba nachvollziehbarerweise andere Länder zurück. Warum gerade Myanmar die größte semantische Nähe zu Kuba aufweist lässt natürlich Interpretationsspielraum. Festzuhalten ist aber, dass in den Bundestagsdiskussionen der 14.-18. Wahlperiode Kuba als Wort in ähnlichen Kontexten verwendet wurde, wie Myanmar, Kolumbien oder auch Venezuela.  "
   ]
  },
  {
   "cell_type": "markdown",
   "metadata": {},
   "source": [
    "### 2.2 Merging von Wortvektoren mit Sentimentwörtern"
   ]
  },
  {
   "cell_type": "markdown",
   "metadata": {},
   "source": [
    "Um das Word2Vec-Modell mit den vordefinierten Sentimentwörtern zusammenzubringen erstellen wir eine Funktion, die Zeile für Zeile unsere drei Sentiment-Datensätze durchgeht, überprüft ob das jeweilige Wort auch in dem Vokabular des Word2Vec-Modells vorkommt und falls ja, den zugehörigen Wordvektor abspeichert. Am Ende gibt die Funktion einen neuen Dataframe wieder, der alle Wörter mit zugehörigem Wordvektor enthält."
   ]
  },
  {
   "cell_type": "code",
   "execution_count": 8,
   "metadata": {
    "collapsed": true
   },
   "outputs": [],
   "source": [
    "def get_word2vec_for_sentimentwords(df,word2vec_model):\n",
    "    word_vector_dict = {}\n",
    "    for row in df.iterrows():\n",
    "        #iterrows gibt für jede Zeile einen Tuple von der Art (Zeilenindex,(Alle Daten der Zeile)) wieder\n",
    "        index = row[0]\n",
    "        word = row[1][0].lower()\n",
    "        if word in word2vec_model.wv.vocab:\n",
    "            single_word_vectors_dict = {}\n",
    "            word_vector = word2vec_model[word]\n",
    "            for vector_index,value in enumerate(word_vector):\n",
    "                single_word_vectors_dict[\"Vector_\" + str(vector_index)] = value\n",
    "            word_vector_dict[index] = single_word_vectors_dict\n",
    "    word_vector_df = pd.DataFrame.from_dict(word_vector_dict,orient=\"index\")\n",
    "    return word_vector_df\n",
    "\n",
    "    "
   ]
  },
  {
   "cell_type": "markdown",
   "metadata": {},
   "source": [
    "Die Funktion wenden wir dann auf alle vier Sentiment-Datensätze an."
   ]
  },
  {
   "cell_type": "code",
   "execution_count": 9,
   "metadata": {
    "collapsed": false
   },
   "outputs": [],
   "source": [
    "positive_word_vector_df = get_word2vec_for_sentimentwords(positive_df, word2vec_model)\n",
    "negative_word_vector_df = get_word2vec_for_sentimentwords(negative_df, word2vec_model)\n",
    "neutral_word_vector_df = get_word2vec_for_sentimentwords(neutral_df, word2vec_model)\n",
    "morph_polarity_vector_df = get_word2vec_for_sentimentwords(morph_polarity_df, word2vec_model)"
   ]
  },
  {
   "cell_type": "markdown",
   "metadata": {},
   "source": [
    "Danach werden die vier neuen Datensätze, die die Wortvektoren enthalten, mit den ursprünglichen drei, die Sentimentwertungen enthaltenden, Datensätzen zusammengefügt."
   ]
  },
  {
   "cell_type": "code",
   "execution_count": 10,
   "metadata": {
    "collapsed": false
   },
   "outputs": [],
   "source": [
    "merged_positive_df = positive_df.merge(positive_word_vector_df, how=\"inner\",right_index=True,left_index=True)\n",
    "merged_negative_df = negative_df.merge(negative_word_vector_df, how=\"inner\",right_index=True,left_index=True)\n",
    "merged_neutral_df = neutral_df.merge(neutral_word_vector_df, how=\"inner\",right_index=True,left_index=True)\n",
    "merged_morph_polarity_df = morph_polarity_df.merge(morph_polarity_vector_df, how=\"inner\",right_index=True,left_index=True)"
   ]
  },
  {
   "cell_type": "code",
   "execution_count": 11,
   "metadata": {
    "collapsed": false
   },
   "outputs": [
    {
     "data": {
      "text/html": [
       "<div>\n",
       "<style>\n",
       "    .dataframe thead tr:only-child th {\n",
       "        text-align: right;\n",
       "    }\n",
       "\n",
       "    .dataframe thead th {\n",
       "        text-align: left;\n",
       "    }\n",
       "\n",
       "    .dataframe tbody tr th {\n",
       "        vertical-align: top;\n",
       "    }\n",
       "</style>\n",
       "<table border=\"1\" class=\"dataframe\">\n",
       "  <thead>\n",
       "    <tr style=\"text-align: right;\">\n",
       "      <th></th>\n",
       "      <th>Wort</th>\n",
       "      <th>Lemma</th>\n",
       "      <th>PoS</th>\n",
       "      <th>...</th>\n",
       "      <th>Vector_291</th>\n",
       "      <th>Vector_86</th>\n",
       "      <th>Vector_95</th>\n",
       "    </tr>\n",
       "  </thead>\n",
       "  <tbody>\n",
       "    <tr>\n",
       "      <th>3</th>\n",
       "      <td>Abgleich</td>\n",
       "      <td>Abgleich</td>\n",
       "      <td>NN</td>\n",
       "      <td>...</td>\n",
       "      <td>-0.691909</td>\n",
       "      <td>-0.435301</td>\n",
       "      <td>-0.413289</td>\n",
       "    </tr>\n",
       "    <tr>\n",
       "      <th>5</th>\n",
       "      <td>Abhilfe</td>\n",
       "      <td>Abhilfe</td>\n",
       "      <td>NN</td>\n",
       "      <td>...</td>\n",
       "      <td>-2.185567</td>\n",
       "      <td>-0.089397</td>\n",
       "      <td>-2.717793</td>\n",
       "    </tr>\n",
       "    <tr>\n",
       "      <th>8</th>\n",
       "      <td>Abkommen</td>\n",
       "      <td>Abkomme</td>\n",
       "      <td>NN</td>\n",
       "      <td>...</td>\n",
       "      <td>-1.359522</td>\n",
       "      <td>0.231967</td>\n",
       "      <td>1.565425</td>\n",
       "    </tr>\n",
       "    <tr>\n",
       "      <th>9</th>\n",
       "      <td>Abkühlung</td>\n",
       "      <td>Abkühlung</td>\n",
       "      <td>NN</td>\n",
       "      <td>...</td>\n",
       "      <td>-0.025438</td>\n",
       "      <td>-0.190076</td>\n",
       "      <td>-0.429547</td>\n",
       "    </tr>\n",
       "    <tr>\n",
       "      <th>10</th>\n",
       "      <td>Ableger</td>\n",
       "      <td>Ableger</td>\n",
       "      <td>NN</td>\n",
       "      <td>...</td>\n",
       "      <td>0.230129</td>\n",
       "      <td>0.120202</td>\n",
       "      <td>-0.402528</td>\n",
       "    </tr>\n",
       "  </tbody>\n",
       "</table>\n",
       "<p>5 rows × 306 columns</p>\n",
       "</div>"
      ],
      "text/plain": [
       "         Wort      Lemma PoS    ...    Vector_291 Vector_86 Vector_95\n",
       "3    Abgleich   Abgleich  NN    ...     -0.691909 -0.435301 -0.413289\n",
       "5     Abhilfe    Abhilfe  NN    ...     -2.185567 -0.089397 -2.717793\n",
       "8    Abkommen    Abkomme  NN    ...     -1.359522  0.231967  1.565425\n",
       "9   Abkühlung  Abkühlung  NN    ...     -0.025438 -0.190076 -0.429547\n",
       "10    Ableger    Ableger  NN    ...      0.230129  0.120202 -0.402528\n",
       "\n",
       "[5 rows x 306 columns]"
      ]
     },
     "execution_count": 11,
     "metadata": {},
     "output_type": "execute_result"
    }
   ],
   "source": [
    "merged_positive_df.head()"
   ]
  },
  {
   "cell_type": "code",
   "execution_count": 12,
   "metadata": {
    "collapsed": false
   },
   "outputs": [
    {
     "data": {
      "text/plain": [
       "(5531, 306)"
      ]
     },
     "execution_count": 12,
     "metadata": {},
     "output_type": "execute_result"
    }
   ],
   "source": [
    "merged_positive_df.shape"
   ]
  },
  {
   "cell_type": "markdown",
   "metadata": {},
   "source": [
    "Durch die Wordvektoren sind 300 Kolumnen hinzugekommen."
   ]
  },
  {
   "cell_type": "markdown",
   "metadata": {},
   "source": [
    "Im nächsten Schritt erstellen wir aus den vier in positive, neutrale und negative aufgeteilte Dataframes einen einzelnen großen Datensatz. Dieser wird dann als Trainingsdatensatz für das Machinelearning-Modell dienen."
   ]
  },
  {
   "cell_type": "markdown",
   "metadata": {},
   "source": [
    "### 2.3 Erstellung des finalen Trainingsdatensatzes"
   ]
  },
  {
   "cell_type": "markdown",
   "metadata": {},
   "source": [
    "Da alle vier Datensätze die gleichen Kolumnen in gleicher Reihenfolge aufweisen können wir ihre Zeilen einfach untereinander zusammenfügen. "
   ]
  },
  {
   "cell_type": "code",
   "execution_count": 13,
   "metadata": {
    "collapsed": false
   },
   "outputs": [],
   "source": [
    "merged_positive_df.drop([\"Lemma\",\"PoS\",\"Probability\",\"Class\"],axis = 1, inplace=True)\n",
    "merged_neutral_df.drop([\"Lemma\",\"PoS\",\"Probability\",\"Class\"],axis = 1, inplace=True)\n",
    "merged_negative_df.drop([\"Lemma\",\"PoS\",\"Probability\",\"Class\"],axis = 1, inplace=True)\n",
    "\n",
    "\n",
    "final_merged_df = merged_positive_df.append(merged_negative_df)\n",
    "final_merged_df = final_merged_df.append(merged_neutral_df)\n",
    "final_merged_df = final_merged_df.append(merged_morph_polarity_df)"
   ]
  },
  {
   "cell_type": "code",
   "execution_count": 14,
   "metadata": {
    "collapsed": true
   },
   "outputs": [],
   "source": [
    "final_merged_df.drop_duplicates(subset=\"Wort\", keep='first', inplace=True)"
   ]
  },
  {
   "cell_type": "markdown",
   "metadata": {},
   "source": [
    "Bevor mit dem Trainieren des Machinelearning-Modells begonnen werden kann fehlt noch eine Kolumne, die das Vorhersageziel des Modells abbildet und anhand dessen es lernt, die unterschiedlichen Sentiments der Wörter zu unterschieden. Dafür gibt es mehrere Möglichkeiten:\n",
    "\n",
    "Zum einen wäre es denkbar, die Frage nach der Sentimentwertung der Wörter als Regressionsproblem aufzufassen. In unserem Fall könnten wir einem negativen Wort eine Wertung von -1, einem neutralen Wort 0 und einem positiven Wort eine 1 als Wertung zuordnen und ein Regressionsmodell trainieren, um mittels der Wordvektoren eine Wertung für noch unbekannte Worte zu erhalten. Dies hätte den Vorteil, dass durch das Modell Unterscheidungen zwischen den Wörtern innerhalb der einzelnen Kategorien getroffen werden könnten: Bspw. haben möglicherweise zwei positive Wörter nicht unbedingt die gleiche positive Bedeutung. Während das eine nur schwach positiv wirkt, ist das andere vielleicht ein sehr positives Wort mit starker Signalwirkung. Ein Regressionsmodell könnte dem ersten Wort eine schwächere Wertung (z.B. 0,7) und dem anderen eine stärkere Wertung zusprechen (1,5) und würde so der Komplexität von Sprache möglicherweise etwas grechter. Allerdings enthält unser Trainingsdatensatz keine Sentimentwertung sondern nur die allgemeine Zuordnung zu positiv, neutral oder negativ. Dementsprechend ist fraglich, wie gut ein Modell auf Basis der von uns künstlich zugeordneten 1,0,-1 Wertungen wirklich die Differenzierung in unterschiedliche Wertungen lernen würde und wie verlässlich die zugeordneten Wertungen tatsächlich wären.\n",
    "\n",
    "Eine andere Herangehensweise wäre ein Klassifikationsmodell mit mehreren Klassen zu bilden, also ein einzelnes Modell, das ein Wort entweder der positiven, der neutralen oder der negativen Klasse zuordnet. Das bietet den Vorteil, dass nur ein einzelnes Modell für das weitere Vorgehen benötigt wird. Da jedoch nur wenige Beispielwörter für die neutrale Klasse zur Verfügung stehen ist der Datensatz in dieser Hinsicht sehr unausbalanciert. Die Evaluation eines solchen Modells erreichte dementsprechend auch eine im Vergleich zur im nächsten Punkt genannten Alternative geringere Genauigkeit.\n",
    "\n",
    "Die dritte Option, für die ich mich im folgenden auch entschieden habe, ist das Problem in mehrere binäre Klassifikationsprobleme aufzuteilen und jeweils ein Modell für die Fragen \"ist ein Wort positiv oder nicht?\" und \"ist ein Wort negativ oder nicht?\" zu bilden. Bei dieser Methode haben wir einen ausgeglichenen Datensatz zur Verfügung und das Modell muss die weniger komplexe Frage abbilden, ob ein Wort zu einer Klasse zugehörig ist oder nicht, ohne eine Differenzierung in weitere Klassen vornehmen zu müssen.\n",
    "\n",
    "\n",
    "\n"
   ]
  },
  {
   "cell_type": "markdown",
   "metadata": {},
   "source": [
    "Dafür werden zunächst zwei Funktionen erstellt, die mittels der pandas \"apply\" Methode neue Kolumen für die positive und die negative Klasse hinzufügen."
   ]
  },
  {
   "cell_type": "code",
   "execution_count": 15,
   "metadata": {
    "collapsed": true
   },
   "outputs": [],
   "source": [
    "def positive_sentiment(df):\n",
    "    return df['Polarity'] == \"positive\"\n",
    "\n",
    "def negative_sentiment(df):\n",
    "    return df['Polarity'] == \"negative\"\n",
    "\n",
    "final_merged_df[\"Positive_Sentiment_Class\"] = final_merged_df.apply(positive_sentiment, axis=1)\n",
    "final_merged_df[\"Negative_Sentiment_Class\"] = final_merged_df.apply(negative_sentiment, axis=1)"
   ]
  },
  {
   "cell_type": "code",
   "execution_count": 16,
   "metadata": {
    "collapsed": false
   },
   "outputs": [
    {
     "data": {
      "text/html": [
       "<div>\n",
       "<style>\n",
       "    .dataframe thead tr:only-child th {\n",
       "        text-align: right;\n",
       "    }\n",
       "\n",
       "    .dataframe thead th {\n",
       "        text-align: left;\n",
       "    }\n",
       "\n",
       "    .dataframe tbody tr th {\n",
       "        vertical-align: top;\n",
       "    }\n",
       "</style>\n",
       "<table border=\"1\" class=\"dataframe\">\n",
       "  <thead>\n",
       "    <tr style=\"text-align: right;\">\n",
       "      <th></th>\n",
       "      <th>Wort</th>\n",
       "      <th>Polarity</th>\n",
       "      <th>Vector_15</th>\n",
       "      <th>...</th>\n",
       "      <th>Vector_95</th>\n",
       "      <th>Positive_Sentiment_Class</th>\n",
       "      <th>Negative_Sentiment_Class</th>\n",
       "    </tr>\n",
       "  </thead>\n",
       "  <tbody>\n",
       "    <tr>\n",
       "      <th>3</th>\n",
       "      <td>Abgleich</td>\n",
       "      <td>positive</td>\n",
       "      <td>-1.216724</td>\n",
       "      <td>...</td>\n",
       "      <td>-0.413289</td>\n",
       "      <td>True</td>\n",
       "      <td>False</td>\n",
       "    </tr>\n",
       "    <tr>\n",
       "      <th>5</th>\n",
       "      <td>Abhilfe</td>\n",
       "      <td>positive</td>\n",
       "      <td>2.112006</td>\n",
       "      <td>...</td>\n",
       "      <td>-2.717793</td>\n",
       "      <td>True</td>\n",
       "      <td>False</td>\n",
       "    </tr>\n",
       "    <tr>\n",
       "      <th>8</th>\n",
       "      <td>Abkommen</td>\n",
       "      <td>positive</td>\n",
       "      <td>-0.686645</td>\n",
       "      <td>...</td>\n",
       "      <td>1.565425</td>\n",
       "      <td>True</td>\n",
       "      <td>False</td>\n",
       "    </tr>\n",
       "    <tr>\n",
       "      <th>9</th>\n",
       "      <td>Abkühlung</td>\n",
       "      <td>positive</td>\n",
       "      <td>0.057390</td>\n",
       "      <td>...</td>\n",
       "      <td>-0.429547</td>\n",
       "      <td>True</td>\n",
       "      <td>False</td>\n",
       "    </tr>\n",
       "    <tr>\n",
       "      <th>10</th>\n",
       "      <td>Ableger</td>\n",
       "      <td>positive</td>\n",
       "      <td>-0.305684</td>\n",
       "      <td>...</td>\n",
       "      <td>-0.402528</td>\n",
       "      <td>True</td>\n",
       "      <td>False</td>\n",
       "    </tr>\n",
       "  </tbody>\n",
       "</table>\n",
       "<p>5 rows × 304 columns</p>\n",
       "</div>"
      ],
      "text/plain": [
       "         Wort  Polarity  Vector_15            ...             Vector_95  \\\n",
       "3    Abgleich  positive  -1.216724            ...             -0.413289   \n",
       "5     Abhilfe  positive   2.112006            ...             -2.717793   \n",
       "8    Abkommen  positive  -0.686645            ...              1.565425   \n",
       "9   Abkühlung  positive   0.057390            ...             -0.429547   \n",
       "10    Ableger  positive  -0.305684            ...             -0.402528   \n",
       "\n",
       "    Positive_Sentiment_Class  Negative_Sentiment_Class  \n",
       "3                       True                     False  \n",
       "5                       True                     False  \n",
       "8                       True                     False  \n",
       "9                       True                     False  \n",
       "10                      True                     False  \n",
       "\n",
       "[5 rows x 304 columns]"
      ]
     },
     "execution_count": 16,
     "metadata": {},
     "output_type": "execute_result"
    }
   ],
   "source": [
    "final_merged_df.head()"
   ]
  },
  {
   "cell_type": "markdown",
   "metadata": {},
   "source": [
    "Insgesamt steht uns also ein Datensatz mit 14143 Wörtern und 300 Features (den Vektorzahlen) zur Verfügung."
   ]
  },
  {
   "cell_type": "code",
   "execution_count": 17,
   "metadata": {
    "collapsed": false
   },
   "outputs": [
    {
     "data": {
      "text/plain": [
       "(14143, 304)"
      ]
     },
     "execution_count": 17,
     "metadata": {},
     "output_type": "execute_result"
    }
   ],
   "source": [
    "final_merged_df.shape"
   ]
  },
  {
   "cell_type": "markdown",
   "metadata": {},
   "source": [
    "## 3. Modelltraining"
   ]
  },
  {
   "cell_type": "markdown",
   "metadata": {},
   "source": [
    "Jetzt sind wir in der Lage unser Modell zu trainieren. Hierfür greife ich auf eine Support Vector Machine mit \"rbf\" Kernel zurück, die im Vergleich zu anderen Modellarten deutlich besser mit den Wordvektoren als Features zurechtkam und die besten Ergebnisse erzielte.\n",
    "\n",
    "Zunächst das Modell zur Bestimmung von positiven Wörtern."
   ]
  },
  {
   "cell_type": "markdown",
   "metadata": {},
   "source": [
    "### 3.1 Modell für positive Sentiments"
   ]
  },
  {
   "cell_type": "code",
   "execution_count": 18,
   "metadata": {
    "collapsed": false
   },
   "outputs": [
    {
     "data": {
      "text/plain": [
       "0.80556210228611835"
      ]
     },
     "execution_count": 18,
     "metadata": {},
     "output_type": "execute_result"
    }
   ],
   "source": [
    "from sklearn.svm import SVC\n",
    "from sklearn.model_selection import train_test_split\n",
    "\n",
    "\n",
    "start_column = final_merged_df.columns[2]\n",
    "end_column   = final_merged_df.columns[len(final_merged_df.columns) - 3]\n",
    "\n",
    "X = final_merged_df.loc[:,start_column :end_column]\n",
    "y = final_merged_df[\"Positive_Sentiment_Class\"]\n",
    "\n",
    "\n",
    "X_train, X_test, y_train, y_test = train_test_split(X,y,test_size=0.3,random_state=0)\n",
    "\n",
    "svc_cl_positiv = SVC(C=1.5,cache_size=2000,probability=True)\n",
    "svc_cl_positiv = svc_cl_positiv.fit(X_train,y_train)\n",
    "svc_cl_positiv.score(X_test,y_test)"
   ]
  },
  {
   "cell_type": "code",
   "execution_count": 19,
   "metadata": {
    "collapsed": false
   },
   "outputs": [
    {
     "name": "stdout",
     "output_type": "stream",
     "text": [
      "             precision    recall  f1-score   support\n",
      "\n",
      "      False       0.80      0.88      0.84      2397\n",
      "       True       0.82      0.70      0.76      1846\n",
      "\n",
      "avg / total       0.81      0.81      0.80      4243\n",
      "\n"
     ]
    }
   ],
   "source": [
    "from sklearn.metrics import classification_report\n",
    "\n",
    "predicted = svc_cl_positiv.predict(X_test)\n",
    "predicted_prob = [prob[1] for prob in svc_cl_positiv.predict_proba(X_test)]\n",
    "print(classification_report(y_test, predicted))"
   ]
  },
  {
   "cell_type": "markdown",
   "metadata": {},
   "source": [
    "Es erreicht bei den zurückbehaltenen Testdaten eine Genauigkeit von  80,5%. Das heisst mit 80,5% Genauigkeit kann das Modell anhand des Vektors eines Wortes vorhersagen, ob es sich um ein positiv besetztes Wort handelt oder nicht. Ein erstaunlich gutes Ergebnis, das aufzeigt, wie gut Wortvektoren die Bedeutung (und damit auch das transportierte Sentiment) eines Wortes abbilden."
   ]
  },
  {
   "cell_type": "markdown",
   "metadata": {},
   "source": [
    "Es liegt in der Natur der Sache, dass uns vor allem daran gelegen ist, die Anzahl an false positives möglichst klein zu halten. In unserer finalen Liste an positiven und negativen Wörtern sollten auch tatsächlich fast ausschließlich positiv bzw. negativ besetzte Wörter auftauchen. Dementsprechend experimentieren wir nachfolgend mit unterschiedlichen Entscheidungs-Thresholds, nach denen eine Zuordnung zu der gesuchten Klasse stattfindet, um unseren precision Wert möglichst zu maximieren."
   ]
  },
  {
   "cell_type": "code",
   "execution_count": 20,
   "metadata": {
    "collapsed": false
   },
   "outputs": [
    {
     "data": {
      "text/plain": [
       "array([[2117,  280],\n",
       "       [ 545, 1301]], dtype=int64)"
      ]
     },
     "execution_count": 20,
     "metadata": {},
     "output_type": "execute_result"
    }
   ],
   "source": [
    "from sklearn.metrics import confusion_matrix\n",
    "\n",
    "tn, fp, fn, tp = confusion_matrix(y_test, predicted).ravel()\n",
    "confusion_matrix(y_test, predicted)"
   ]
  },
  {
   "cell_type": "markdown",
   "metadata": {},
   "source": [
    "Mit einem default Threshold von 0.5 haben wir insgesamt 280 Wörter fälschlich als positives Sentiment klassifiziert, das macht bezogen auf alle positive sentiment Zuordnungen durch das Modell immerhin einen Anteil von 17,7% aus."
   ]
  },
  {
   "cell_type": "code",
   "execution_count": 21,
   "metadata": {
    "collapsed": false
   },
   "outputs": [
    {
     "data": {
      "text/plain": [
       "<matplotlib.collections.PolyCollection at 0x24e8b0a2588>"
      ]
     },
     "execution_count": 21,
     "metadata": {},
     "output_type": "execute_result"
    },
    {
     "data": {
      "image/png": "[encoded data removed]",
      "text/plain": [
       "<matplotlib.figure.Figure at 0x24e89b3c7f0>"
      ]
     },
     "metadata": {},
     "output_type": "display_data"
    }
   ],
   "source": [
    "from sklearn.metrics import precision_recall_curve\n",
    "import matplotlib.pyplot as plt\n",
    "import matplotlib\n",
    "\n",
    "%matplotlib inline\n",
    "\n",
    "matplotlib.style.use('seaborn-paper')\n",
    "\n",
    "precision, recall, thresholds = precision_recall_curve(y_test, predicted_prob)\n",
    "\n",
    "plt.step(recall, precision, color='b', alpha=0.2,\n",
    "         where='post')\n",
    "\n",
    "plt.xlabel('Recall')\n",
    "plt.ylabel('Precision')\n",
    "plt.ylim([0.0, 1.05])\n",
    "plt.xlim([0.0, 1.0])\n",
    "\n",
    "plt.fill_between(recall, precision, step='post', alpha=0.2,\n",
    "                 color='b')\n",
    "\n"
   ]
  },
  {
   "cell_type": "code",
   "execution_count": 22,
   "metadata": {
    "collapsed": false
   },
   "outputs": [
    {
     "data": {
      "text/html": [
       "<div>\n",
       "<style>\n",
       "    .dataframe thead tr:only-child th {\n",
       "        text-align: right;\n",
       "    }\n",
       "\n",
       "    .dataframe thead th {\n",
       "        text-align: left;\n",
       "    }\n",
       "\n",
       "    .dataframe tbody tr th {\n",
       "        vertical-align: top;\n",
       "    }\n",
       "</style>\n",
       "<table border=\"1\" class=\"dataframe\">\n",
       "  <thead>\n",
       "    <tr style=\"text-align: right;\">\n",
       "      <th></th>\n",
       "      <th>Precision</th>\n",
       "      <th>Recall</th>\n",
       "      <th>Threshold</th>\n",
       "    </tr>\n",
       "  </thead>\n",
       "  <tbody>\n",
       "    <tr>\n",
       "      <th>3636</th>\n",
       "      <td>0.950820</td>\n",
       "      <td>0.282774</td>\n",
       "      <td>0.870032</td>\n",
       "    </tr>\n",
       "    <tr>\n",
       "      <th>3637</th>\n",
       "      <td>0.950730</td>\n",
       "      <td>0.282232</td>\n",
       "      <td>0.870267</td>\n",
       "    </tr>\n",
       "    <tr>\n",
       "      <th>3638</th>\n",
       "      <td>0.950640</td>\n",
       "      <td>0.281690</td>\n",
       "      <td>0.870374</td>\n",
       "    </tr>\n",
       "    <tr>\n",
       "      <th>3639</th>\n",
       "      <td>0.952381</td>\n",
       "      <td>0.281690</td>\n",
       "      <td>0.870456</td>\n",
       "    </tr>\n",
       "    <tr>\n",
       "      <th>3640</th>\n",
       "      <td>0.952294</td>\n",
       "      <td>0.281148</td>\n",
       "      <td>0.870549</td>\n",
       "    </tr>\n",
       "  </tbody>\n",
       "</table>\n",
       "</div>"
      ],
      "text/plain": [
       "      Precision    Recall  Threshold\n",
       "3636   0.950820  0.282774   0.870032\n",
       "3637   0.950730  0.282232   0.870267\n",
       "3638   0.950640  0.281690   0.870374\n",
       "3639   0.952381  0.281690   0.870456\n",
       "3640   0.952294  0.281148   0.870549"
      ]
     },
     "execution_count": 22,
     "metadata": {},
     "output_type": "execute_result"
    }
   ],
   "source": [
    "positive_precision_df = pd.DataFrame()\n",
    "\n",
    "positive_precision_df[\"Precision\"] = precision[:-1]\n",
    "positive_precision_df[\"Recall\"] = recall[:-1]\n",
    "positive_precision_df[\"Threshold\"] = thresholds\n",
    "\n",
    "positive_precision_df[positive_precision_df[\"Precision\"] >= 0.95].head()"
   ]
  },
  {
   "cell_type": "markdown",
   "metadata": {},
   "source": [
    "Um einen Precision Wert von wenigstens 95% zu erreichen muss ein Entscheidungstreshold von knapp 0.87 gesetzt werden. Damit würden letztlich nur noch 5% der Wörter in der finalen Liste nicht zur positiven Sentimentklasse gehören, obwohl sie dort eingeordnet wurden. Gleichzeitig erhält dieser Threshold einen Recall-Wert von immerhin noch 28%, sodass noch eine ausreichende Menge an postiven Wörtern ihren Weg in die finale Liste finden."
   ]
  },
  {
   "cell_type": "markdown",
   "metadata": {},
   "source": [
    "### 3.2 Modell für negative Sentiments"
   ]
  },
  {
   "cell_type": "markdown",
   "metadata": {},
   "source": [
    "Das gleiche machen wir noch für die negative Sentiment Klasse."
   ]
  },
  {
   "cell_type": "code",
   "execution_count": 23,
   "metadata": {
    "collapsed": false
   },
   "outputs": [
    {
     "data": {
      "text/plain": [
       "0.81216120669337732"
      ]
     },
     "execution_count": 23,
     "metadata": {},
     "output_type": "execute_result"
    }
   ],
   "source": [
    "X = final_merged_df.loc[:,start_column :end_column]\n",
    "y = final_merged_df[\"Negative_Sentiment_Class\"]\n",
    "\n",
    "\n",
    "X_train, X_test, y_train, y_test = train_test_split(X,y,test_size=0.3,random_state=0)\n",
    "\n",
    "svc_cl_negativ = SVC(C=1.5,cache_size=2000,probability=True)\n",
    "svc_cl_negativ = svc_cl_negativ.fit(X_train,y_train)\n",
    "svc_cl_negativ.score(X_test,y_test)"
   ]
  },
  {
   "cell_type": "code",
   "execution_count": 24,
   "metadata": {
    "collapsed": false
   },
   "outputs": [
    {
     "name": "stdout",
     "output_type": "stream",
     "text": [
      "             precision    recall  f1-score   support\n",
      "\n",
      "      False       0.81      0.83      0.82      2164\n",
      "       True       0.82      0.79      0.81      2079\n",
      "\n",
      "avg / total       0.81      0.81      0.81      4243\n",
      "\n"
     ]
    }
   ],
   "source": [
    "predicted = svc_cl_negativ.predict(X_test)\n",
    "predicted_prob = [prob[1] for prob in svc_cl_negativ.predict_proba(X_test)]\n",
    "print(classification_report(y_test, predicted))"
   ]
  },
  {
   "cell_type": "code",
   "execution_count": 25,
   "metadata": {
    "collapsed": false
   },
   "outputs": [
    {
     "data": {
      "text/plain": [
       "array([[1800,  364],\n",
       "       [ 433, 1646]], dtype=int64)"
      ]
     },
     "execution_count": 25,
     "metadata": {},
     "output_type": "execute_result"
    }
   ],
   "source": [
    "from sklearn.metrics import confusion_matrix\n",
    "\n",
    "tn, fp, fn, tp = confusion_matrix(y_test, predicted).ravel()\n",
    "confusion_matrix(y_test, predicted)"
   ]
  },
  {
   "cell_type": "code",
   "execution_count": 26,
   "metadata": {
    "collapsed": false
   },
   "outputs": [
    {
     "data": {
      "text/plain": [
       "<matplotlib.collections.PolyCollection at 0x24e8b12ab70>"
      ]
     },
     "execution_count": 26,
     "metadata": {},
     "output_type": "execute_result"
    },
    {
     "data": {
      "image/png": "[encoded data removed]",
      "text/plain": [
       "<matplotlib.figure.Figure at 0x24e8b12abe0>"
      ]
     },
     "metadata": {},
     "output_type": "display_data"
    }
   ],
   "source": [
    "from sklearn.metrics import precision_recall_curve\n",
    "import matplotlib.pyplot as plt\n",
    "import matplotlib\n",
    "\n",
    "\n",
    "precision, recall, thresholds = precision_recall_curve(y_test, predicted_prob)\n",
    "\n",
    "plt.step(recall, precision, color='b', alpha=0.2,\n",
    "         where='post')\n",
    "\n",
    "plt.xlabel('Recall')\n",
    "plt.ylabel('Precision')\n",
    "plt.ylim([0.0, 1.05])\n",
    "plt.xlim([0.0, 1.0])\n",
    "\n",
    "plt.fill_between(recall, precision, step='post', alpha=0.2,\n",
    "                 color='b')\n",
    "\n"
   ]
  },
  {
   "cell_type": "code",
   "execution_count": 27,
   "metadata": {
    "collapsed": false
   },
   "outputs": [
    {
     "name": "stderr",
     "output_type": "stream",
     "text": [
      "C:\\Users\\burst\\Anaconda3\\lib\\site-packages\\ipykernel\\__main__.py:7: UserWarning: Boolean Series key will be reindexed to match DataFrame index.\n"
     ]
    },
    {
     "data": {
      "text/html": [
       "<div>\n",
       "<style>\n",
       "    .dataframe thead tr:only-child th {\n",
       "        text-align: right;\n",
       "    }\n",
       "\n",
       "    .dataframe thead th {\n",
       "        text-align: left;\n",
       "    }\n",
       "\n",
       "    .dataframe tbody tr th {\n",
       "        vertical-align: top;\n",
       "    }\n",
       "</style>\n",
       "<table border=\"1\" class=\"dataframe\">\n",
       "  <thead>\n",
       "    <tr style=\"text-align: right;\">\n",
       "      <th></th>\n",
       "      <th>Precision</th>\n",
       "      <th>Recall</th>\n",
       "      <th>Threshold</th>\n",
       "    </tr>\n",
       "  </thead>\n",
       "  <tbody>\n",
       "    <tr>\n",
       "      <th>3636</th>\n",
       "      <td>0.968992</td>\n",
       "      <td>0.180375</td>\n",
       "      <td>0.957203</td>\n",
       "    </tr>\n",
       "    <tr>\n",
       "      <th>3637</th>\n",
       "      <td>0.968912</td>\n",
       "      <td>0.179894</td>\n",
       "      <td>0.957224</td>\n",
       "    </tr>\n",
       "    <tr>\n",
       "      <th>3638</th>\n",
       "      <td>0.968831</td>\n",
       "      <td>0.179413</td>\n",
       "      <td>0.957378</td>\n",
       "    </tr>\n",
       "    <tr>\n",
       "      <th>3639</th>\n",
       "      <td>0.968750</td>\n",
       "      <td>0.178932</td>\n",
       "      <td>0.957424</td>\n",
       "    </tr>\n",
       "    <tr>\n",
       "      <th>3640</th>\n",
       "      <td>0.968668</td>\n",
       "      <td>0.178451</td>\n",
       "      <td>0.957435</td>\n",
       "    </tr>\n",
       "  </tbody>\n",
       "</table>\n",
       "</div>"
      ],
      "text/plain": [
       "      Precision    Recall  Threshold\n",
       "3636   0.968992  0.180375   0.957203\n",
       "3637   0.968912  0.179894   0.957224\n",
       "3638   0.968831  0.179413   0.957378\n",
       "3639   0.968750  0.178932   0.957424\n",
       "3640   0.968668  0.178451   0.957435"
      ]
     },
     "execution_count": 27,
     "metadata": {},
     "output_type": "execute_result"
    }
   ],
   "source": [
    "negative_precision_df = pd.DataFrame()\n",
    "\n",
    "negative_precision_df[\"Precision\"] = precision[:-1]\n",
    "negative_precision_df[\"Recall\"] = recall[:-1]\n",
    "negative_precision_df[\"Threshold\"] = thresholds\n",
    "\n",
    "negative_precision_df[positive_precision_df[\"Precision\"] >= 0.95].head()"
   ]
  },
  {
   "cell_type": "markdown",
   "metadata": {},
   "source": [
    "Das Modell für die negativen Sentiments erreicht (wenig überraschend)  auch eine Genauigkeit von ca. 81%. Um hier auf einen aktzeptablen Precision-Wert von wenigstens 95% zu kommen muss der Threshold Wert etwas höher angesetzt werden, als bei dem Modell für positive Sentiments. "
   ]
  },
  {
   "cell_type": "markdown",
   "metadata": {},
   "source": [
    "### 3.3 Finale Sentimentsmodelle"
   ]
  },
  {
   "cell_type": "markdown",
   "metadata": {},
   "source": [
    "Nach der Leistungsbestimmung der Modelle können nun die beiden finalen Modelle anhand des gesamten Trainingsdatensatzes trainiert werden. Wichtig ist auch hier, dass wir dem Modell probabilistische Aussagen über die Klassenzugehörigkeit ermöglichen (durch die Option \"probability=True\"). Dies verlängert zwar spürbar die Trainingszeit, ermöglicht uns jedoch später, nur \"sehr sicher\" (über einem bestimmten Grenzwert liegend) als positiv/negativ klassifizierte Worte als Sentimentwörter zu verwenden."
   ]
  },
  {
   "cell_type": "code",
   "execution_count": 28,
   "metadata": {
    "collapsed": false
   },
   "outputs": [],
   "source": [
    "y = final_merged_df[\"Positive_Sentiment_Class\"]\n",
    "\n",
    "\n",
    "svc_cl_positiv = SVC(C=1.5,cache_size=2000,probability=True)\n",
    "svc_cl_positiv = svc_cl_positiv.fit(X,y)\n",
    "\n",
    "y = final_merged_df[\"Negative_Sentiment_Class\"]\n",
    "\n",
    "svc_cl_negativ = SVC(C=1.5,cache_size=2000,probability=True)\n",
    "svc_cl_negativ = svc_cl_negativ.fit(X,y)\n"
   ]
  },
  {
   "cell_type": "markdown",
   "metadata": {},
   "source": [
    "## 4. Vorhersage von Sentiments für neue Wörter"
   ]
  },
  {
   "cell_type": "markdown",
   "metadata": {},
   "source": [
    "Nun erstellen wir unser eigenes, politikspezifisches Sentimentwörterbuch. Dafür greifen wir zunächst auf alle dem Word2Vec-Modell bekannten Wörter zurück. Für jedes dieser Wörter, das sich nicht bereits im zur Modellbildung genutzten Trainingsdatensatz befindet, laden wir die Wortvektoren in ein Dictionary. Dabei ist wichtig, dass die einzelnen Vektorwerte die gleiche Reihenfolge wie in unserem Trainingsdatensatz haben. Dafür sorgt ein innerer for-loop, der  die Kolumnen des Trainingsdatensatzes durchgeht und in dieser Reihenfolge die Vektor-Spalten der neuen Wörter abruft."
   ]
  },
  {
   "cell_type": "code",
   "execution_count": 29,
   "metadata": {
    "collapsed": false
   },
   "outputs": [],
   "source": [
    "new_word_dict = {}\n",
    "\n",
    "for word in word2vec_model.wv.vocab:\n",
    "    if word not in list(final_merged_df[\"Wort\"]):\n",
    "        word_vector = word2vec_model[word]\n",
    "        word_vector_list = []\n",
    "        for column_name in list(final_merged_df.columns.values)[2:len(final_merged_df.columns.values)  -2]:\n",
    "            vector_index = int(column_name.split(\"_\")[1])\n",
    "            word_vector_list.append(word_vector[vector_index])\n",
    "        new_word_dict[word] = word_vector_list\n",
    "            "
   ]
  },
  {
   "cell_type": "code",
   "execution_count": 30,
   "metadata": {
    "collapsed": false,
    "scrolled": true
   },
   "outputs": [
    {
     "data": {
      "text/html": [
       "<div>\n",
       "<style>\n",
       "    .dataframe thead tr:only-child th {\n",
       "        text-align: right;\n",
       "    }\n",
       "\n",
       "    .dataframe thead th {\n",
       "        text-align: left;\n",
       "    }\n",
       "\n",
       "    .dataframe tbody tr th {\n",
       "        vertical-align: top;\n",
       "    }\n",
       "</style>\n",
       "<table border=\"1\" class=\"dataframe\">\n",
       "  <thead>\n",
       "    <tr style=\"text-align: right;\">\n",
       "      <th></th>\n",
       "      <th>0</th>\n",
       "      <th>1</th>\n",
       "      <th>2</th>\n",
       "      <th>...</th>\n",
       "      <th>297</th>\n",
       "      <th>298</th>\n",
       "      <th>299</th>\n",
       "    </tr>\n",
       "  </thead>\n",
       "  <tbody>\n",
       "    <tr>\n",
       "      <th>eufahrerlizenz</th>\n",
       "      <td>-0.023459</td>\n",
       "      <td>-0.084562</td>\n",
       "      <td>-0.051224</td>\n",
       "      <td>...</td>\n",
       "      <td>0.048336</td>\n",
       "      <td>0.032273</td>\n",
       "      <td>0.091414</td>\n",
       "    </tr>\n",
       "    <tr>\n",
       "      <th>rührt</th>\n",
       "      <td>0.047250</td>\n",
       "      <td>0.343474</td>\n",
       "      <td>-0.436494</td>\n",
       "      <td>...</td>\n",
       "      <td>-0.907986</td>\n",
       "      <td>-0.233260</td>\n",
       "      <td>-0.145022</td>\n",
       "    </tr>\n",
       "    <tr>\n",
       "      <th>saisonbereinigte</th>\n",
       "      <td>0.085334</td>\n",
       "      <td>0.199478</td>\n",
       "      <td>0.064751</td>\n",
       "      <td>...</td>\n",
       "      <td>0.570844</td>\n",
       "      <td>-0.368289</td>\n",
       "      <td>-0.125134</td>\n",
       "    </tr>\n",
       "    <tr>\n",
       "      <th>oberirdisch</th>\n",
       "      <td>-0.075474</td>\n",
       "      <td>-0.456510</td>\n",
       "      <td>-0.290709</td>\n",
       "      <td>...</td>\n",
       "      <td>0.292327</td>\n",
       "      <td>-0.035162</td>\n",
       "      <td>0.232906</td>\n",
       "    </tr>\n",
       "    <tr>\n",
       "      <th>herausgegebenen</th>\n",
       "      <td>0.266345</td>\n",
       "      <td>0.878549</td>\n",
       "      <td>-0.464630</td>\n",
       "      <td>...</td>\n",
       "      <td>0.515510</td>\n",
       "      <td>-0.293642</td>\n",
       "      <td>-0.426419</td>\n",
       "    </tr>\n",
       "  </tbody>\n",
       "</table>\n",
       "<p>5 rows × 300 columns</p>\n",
       "</div>"
      ],
      "text/plain": [
       "                       0         1         2      ...          297       298  \\\n",
       "eufahrerlizenz   -0.023459 -0.084562 -0.051224    ...     0.048336  0.032273   \n",
       "rührt             0.047250  0.343474 -0.436494    ...    -0.907986 -0.233260   \n",
       "saisonbereinigte  0.085334  0.199478  0.064751    ...     0.570844 -0.368289   \n",
       "oberirdisch      -0.075474 -0.456510 -0.290709    ...     0.292327 -0.035162   \n",
       "herausgegebenen   0.266345  0.878549 -0.464630    ...     0.515510 -0.293642   \n",
       "\n",
       "                       299  \n",
       "eufahrerlizenz    0.091414  \n",
       "rührt            -0.145022  \n",
       "saisonbereinigte -0.125134  \n",
       "oberirdisch       0.232906  \n",
       "herausgegebenen  -0.426419  \n",
       "\n",
       "[5 rows x 300 columns]"
      ]
     },
     "execution_count": 30,
     "metadata": {},
     "output_type": "execute_result"
    }
   ],
   "source": [
    "new_words_df = pd.DataFrame.from_dict(new_word_dict,orient=\"index\")\n",
    "new_words_df.head()"
   ]
  },
  {
   "cell_type": "code",
   "execution_count": 31,
   "metadata": {
    "collapsed": false
   },
   "outputs": [
    {
     "data": {
      "text/plain": [
       "(103860, 300)"
      ]
     },
     "execution_count": 31,
     "metadata": {},
     "output_type": "execute_result"
    }
   ],
   "source": [
    "new_words_df.shape"
   ]
  },
  {
   "cell_type": "markdown",
   "metadata": {},
   "source": [
    "Insgesamt enthält der Datensatz 103.860 neue Wörter, für die uns Wortvektoren zur Verfügung stehen. Auf diese können wir nun unsere trainierten Modelle anwenden. Wir lassen für alle Wörter von beiden Modellen probabilistische Vorhersagen zu ihrer Klasse treffen und fügen diese Wahrscheinlichkeit dann dem Datensatz hinzu."
   ]
  },
  {
   "cell_type": "code",
   "execution_count": 32,
   "metadata": {
    "collapsed": false
   },
   "outputs": [],
   "source": [
    "prob_predictions_positiv = svc_cl_positiv.predict_proba(new_words_df)\n",
    "prob_predictions_negativ = svc_cl_negativ.predict_proba(new_words_df)\n",
    "\n",
    "new_words_df[\"positive_prob\"] = [prob[1] for prob in prob_predictions_positiv]\n",
    "new_words_df[\"negative_prob\"] = [prob[1] for prob in prob_predictions_negativ]"
   ]
  },
  {
   "cell_type": "markdown",
   "metadata": {},
   "source": [
    "Hier die 10 Wörter, bei denen sich das Modell am sichersten ist, dass es sich um positiv besetzte Wörter handelt."
   ]
  },
  {
   "cell_type": "code",
   "execution_count": 33,
   "metadata": {
    "collapsed": false
   },
   "outputs": [
    {
     "data": {
      "text/html": [
       "<div>\n",
       "<style>\n",
       "    .dataframe thead tr:only-child th {\n",
       "        text-align: right;\n",
       "    }\n",
       "\n",
       "    .dataframe thead th {\n",
       "        text-align: left;\n",
       "    }\n",
       "\n",
       "    .dataframe tbody tr th {\n",
       "        vertical-align: top;\n",
       "    }\n",
       "</style>\n",
       "<table border=\"1\" class=\"dataframe\">\n",
       "  <thead>\n",
       "    <tr style=\"text-align: right;\">\n",
       "      <th></th>\n",
       "      <th>positive_prob</th>\n",
       "    </tr>\n",
       "  </thead>\n",
       "  <tbody>\n",
       "    <tr>\n",
       "      <th>spitzenleistungen</th>\n",
       "      <td>1.000000</td>\n",
       "    </tr>\n",
       "    <tr>\n",
       "      <th>herausragenden</th>\n",
       "      <td>1.000000</td>\n",
       "    </tr>\n",
       "    <tr>\n",
       "      <th>verlässliches</th>\n",
       "      <td>1.000000</td>\n",
       "    </tr>\n",
       "    <tr>\n",
       "      <th>innovationskraft</th>\n",
       "      <td>1.000000</td>\n",
       "    </tr>\n",
       "    <tr>\n",
       "      <th>synergien</th>\n",
       "      <td>1.000000</td>\n",
       "    </tr>\n",
       "    <tr>\n",
       "      <th>tatkraft</th>\n",
       "      <td>1.000000</td>\n",
       "    </tr>\n",
       "    <tr>\n",
       "      <th>völkerverständigung</th>\n",
       "      <td>1.000000</td>\n",
       "    </tr>\n",
       "    <tr>\n",
       "      <th>adäquaten</th>\n",
       "      <td>1.000000</td>\n",
       "    </tr>\n",
       "    <tr>\n",
       "      <th>deutlichere</th>\n",
       "      <td>1.000000</td>\n",
       "    </tr>\n",
       "    <tr>\n",
       "      <th>unabdingbare</th>\n",
       "      <td>0.999999</td>\n",
       "    </tr>\n",
       "  </tbody>\n",
       "</table>\n",
       "</div>"
      ],
      "text/plain": [
       "                     positive_prob\n",
       "spitzenleistungen         1.000000\n",
       "herausragenden            1.000000\n",
       "verlässliches             1.000000\n",
       "innovationskraft          1.000000\n",
       "synergien                 1.000000\n",
       "tatkraft                  1.000000\n",
       "völkerverständigung       1.000000\n",
       "adäquaten                 1.000000\n",
       "deutlichere               1.000000\n",
       "unabdingbare              0.999999"
      ]
     },
     "execution_count": 33,
     "metadata": {},
     "output_type": "execute_result"
    }
   ],
   "source": [
    "positive_sorted = new_words_df.sort_values(\"positive_prob\",ascending=False)\n",
    "positive_sorted[[\"positive_prob\"]].head(10)"
   ]
  },
  {
   "cell_type": "markdown",
   "metadata": {},
   "source": [
    "Und hier die 10 Wörter, die das Modell mit großer Wahrscheinlichkeit einem negativen Sentiment zuordnet."
   ]
  },
  {
   "cell_type": "code",
   "execution_count": 34,
   "metadata": {
    "collapsed": false
   },
   "outputs": [
    {
     "data": {
      "text/html": [
       "<div>\n",
       "<style>\n",
       "    .dataframe thead tr:only-child th {\n",
       "        text-align: right;\n",
       "    }\n",
       "\n",
       "    .dataframe thead th {\n",
       "        text-align: left;\n",
       "    }\n",
       "\n",
       "    .dataframe tbody tr th {\n",
       "        vertical-align: top;\n",
       "    }\n",
       "</style>\n",
       "<table border=\"1\" class=\"dataframe\">\n",
       "  <thead>\n",
       "    <tr style=\"text-align: right;\">\n",
       "      <th></th>\n",
       "      <th>negative_prob</th>\n",
       "    </tr>\n",
       "  </thead>\n",
       "  <tbody>\n",
       "    <tr>\n",
       "      <th>staatsbankrott</th>\n",
       "      <td>1.0</td>\n",
       "    </tr>\n",
       "    <tr>\n",
       "      <th>braunen</th>\n",
       "      <td>1.0</td>\n",
       "    </tr>\n",
       "    <tr>\n",
       "      <th>schikanen</th>\n",
       "      <td>1.0</td>\n",
       "    </tr>\n",
       "    <tr>\n",
       "      <th>repressalien</th>\n",
       "      <td>1.0</td>\n",
       "    </tr>\n",
       "    <tr>\n",
       "      <th>rohingya</th>\n",
       "      <td>1.0</td>\n",
       "    </tr>\n",
       "    <tr>\n",
       "      <th>erpressung</th>\n",
       "      <td>1.0</td>\n",
       "    </tr>\n",
       "    <tr>\n",
       "      <th>anschuldigungen</th>\n",
       "      <td>1.0</td>\n",
       "    </tr>\n",
       "    <tr>\n",
       "      <th>unbeteiligte</th>\n",
       "      <td>1.0</td>\n",
       "    </tr>\n",
       "    <tr>\n",
       "      <th>vetternwirtschaft</th>\n",
       "      <td>1.0</td>\n",
       "    </tr>\n",
       "    <tr>\n",
       "      <th>misswirtschaft</th>\n",
       "      <td>1.0</td>\n",
       "    </tr>\n",
       "  </tbody>\n",
       "</table>\n",
       "</div>"
      ],
      "text/plain": [
       "                   negative_prob\n",
       "staatsbankrott               1.0\n",
       "braunen                      1.0\n",
       "schikanen                    1.0\n",
       "repressalien                 1.0\n",
       "rohingya                     1.0\n",
       "erpressung                   1.0\n",
       "anschuldigungen              1.0\n",
       "unbeteiligte                 1.0\n",
       "vetternwirtschaft            1.0\n",
       "misswirtschaft               1.0"
      ]
     },
     "execution_count": 34,
     "metadata": {},
     "output_type": "execute_result"
    }
   ],
   "source": [
    "negative_sorted = new_words_df.sort_values(\"negative_prob\",ascending=False)\n",
    "negative_sorted[[\"negative_prob\"]].head(10)"
   ]
  },
  {
   "cell_type": "markdown",
   "metadata": {},
   "source": [
    "Beide Beispielauszüge aus dem Datensatz zeigen Wörter, bei denen relativ eindeutig erscheint, dass sie positive/negative Sentiments transportieren. Insofern scheint diese rein automatisierte Methode, ein Sentimentwörterbuch zu erstellen, zu funktionieren. Einzig \"rohingya\" ist an sich ein Wort, dass man eigentlich als neutrales Wort für eine Ethnie versteht. Da es sich hier jedoch um ein politikspezfisches Wörterbuch handelt, spiegelt sich wieder, dass über die Rohingya hauptsächlich im negativen Kontext gesprochen wird, vor allem aufgrund des Konfliktes in Myanmar und der dortigen Verfolgung der Rohingya als Minderheit. Insofern macht das Auftauchen der Rohingya so weit oben in der Liste negativer Sentimentwörter Sinn, da im Zusammenhang mit ihnen einzig negative Themen und Wörter in den Bundestagsdiskussion Verwendung finden und somit ein semantisch negativ besetztes Thema symbolisieren."
   ]
  },
  {
   "cell_type": "markdown",
   "metadata": {},
   "source": [
    "Zum weiteren Arbeiten mit den Sentimentwörtern brauchen wir Wortlisten, die Sentimentwörter enthalten, bei denen wir uns im großen Maße darauf verlassen können, dass es sich tatsächlich um richtig zugeordnete Sentimentwörter handelt. Zu diesem Zweck behalten wir zum weiteren Arbeiten nur positive und negative Wörter, bei denen sich das Modell mindestens zu 93% bzw. 87% sicher war mit der Einordnung (je nach optimalem Entscheidungstreshold), und das jeweils andere Modell das Wort mit höchstens 20% seiner Sentimentkategorie zuordnet."
   ]
  },
  {
   "cell_type": "code",
   "execution_count": 35,
   "metadata": {
    "collapsed": false
   },
   "outputs": [],
   "source": [
    "high_prob_negative = new_words_df[(new_words_df[\"negative_prob\"] >= 0.93) & (new_words_df[\"positive_prob\"] <= 0.20) ]\n",
    "high_prob_positive = new_words_df[(new_words_df[\"positive_prob\"] >= 0.87) & (new_words_df[\"negative_prob\"] <= 0.20) ]"
   ]
  },
  {
   "cell_type": "code",
   "execution_count": 36,
   "metadata": {
    "collapsed": false
   },
   "outputs": [
    {
     "name": "stdout",
     "output_type": "stream",
     "text": [
      "Die finale Liste mit negativen Sentimentwörtern enthält 3974 Wörter.\n",
      "Die finale Liste mit positiven Sentimentwörtern enthält 7611 Wörter.\n"
     ]
    }
   ],
   "source": [
    "print(\"Die finale Liste mit negativen Sentimentwörtern enthält {} Wörter.\\nDie finale Liste mit positiven Sentimentwörtern enthält {} Wörter.\".format(high_prob_negative.shape[0],high_prob_positive.shape[0]))\n"
   ]
  },
  {
   "cell_type": "markdown",
   "metadata": {},
   "source": [
    "Beide Listen werden als CSV-Dateien abgespeichert, um für zukünftige Arbeiten leicht darauf zugreifen zu können."
   ]
  },
  {
   "cell_type": "code",
   "execution_count": 37,
   "metadata": {
    "collapsed": false
   },
   "outputs": [],
   "source": [
    "high_prob_negative[[\"negative_prob\",\"positive_prob\"]].to_csv(\"93Prob_negative_sentiment_incl14_inclMorph.csv\",sep=\";\",encoding=\"utf-8\")\n",
    "high_prob_positive[[\"negative_prob\",\"positive_prob\"]].to_csv(\"87Prob_positive_sentiment_incl14_inclMorph.csv\",sep=\";\",encoding=\"utf-8\")"
   ]
  },
  {
   "cell_type": "code",
   "execution_count": 38,
   "metadata": {
    "collapsed": false
   },
   "outputs": [],
   "source": [
    "high_prob_negative = pd.DataFrame.from_csv(\"93Prob_negative_sentiment_incl14_inclMorph.csv\",sep=\";\")\n",
    "high_prob_positive = pd.DataFrame.from_csv(\"87Prob_positive_sentiment_incl14_inclMorph.csv\",sep=\";\")"
   ]
  },
  {
   "cell_type": "markdown",
   "metadata": {},
   "source": [
    "Nachdem wir nun eine politikspezifische Sentiment-Ressource zur Verfügung haben, können wir diese zur Sentimentanalyse nutzen. Im folgenden schaue ich mir die \"Stimmung\", die in den letzten 5 Wahlperioden im Bundestag vorgeherrscht hat, näher an und werfe auch einen Blick auf Unterschiede in den Sentiments zwischen den Parteien."
   ]
  },
  {
   "cell_type": "markdown",
   "metadata": {},
   "source": [
    "## 5. Anwendungsbeispiel"
   ]
  },
  {
   "cell_type": "markdown",
   "metadata": {},
   "source": [
    "### 5.1 Sentiments in Bundestagsreden"
   ]
  },
  {
   "cell_type": "markdown",
   "metadata": {},
   "source": [
    "Wir laden unsere Sentimentwörter als simple Listen."
   ]
  },
  {
   "cell_type": "code",
   "execution_count": 39,
   "metadata": {
    "collapsed": true
   },
   "outputs": [],
   "source": [
    "negative_political_terms = list(high_prob_negative.index)\n",
    "positive_political_terms = list(high_prob_positive.index)"
   ]
  },
  {
   "cell_type": "markdown",
   "metadata": {},
   "source": [
    "Dann wird eine einfache Funktion erstellt, die einen beliebigen Text (in unserem Fall eine Bundestagsrede), eine Liste mit positiven und eine mit negativen Wörtern als Input nimmt. Die Funktion gleicht den Text mit den Listen ab und gibt am Ende die Sentimentwörter wieder, die in dem konkreten Text vorkamen."
   ]
  },
  {
   "cell_type": "code",
   "execution_count": 40,
   "metadata": {
    "collapsed": true
   },
   "outputs": [],
   "source": [
    "def get_sentiment_counts_from_document(document,positive_list,negative_list):\n",
    "    positive_found_words = [word for word in document if word in positive_list]\n",
    "    negative_found_words = [word for word in document if word in negative_list ]\n",
    "    return {\"positive_words\": positive_found_words,\"negative_words\": negative_found_words}"
   ]
  },
  {
   "cell_type": "markdown",
   "metadata": {},
   "source": [
    "Danach laden wir den gesamten Korpus an Bundestagsreden und formatieren die Reden (Kleinschreibung aller Wörter, Entfernung von Satzzeichen) in der gleichen Art und Weise, in der auch unser Word2Vec-Modell trainiert wurde."
   ]
  },
  {
   "cell_type": "code",
   "execution_count": 41,
   "metadata": {
    "collapsed": false
   },
   "outputs": [],
   "source": [
    "import re\n",
    "from sklearn.datasets import load_files\n",
    "\n",
    "corpus = load_files(\"scikit_labels_incl14\",encoding = \"utf-8\")\n",
    "\n",
    "corpus_dict = {}\n",
    "\n",
    "for index,text in enumerate(corpus[\"data\"]):\n",
    "    final_document = []\n",
    "    for word in text.lower().split():\n",
    "        new_word = re.sub(\"[,.'!?;–:—\\\"„“”]\",\"\",word)\n",
    "        if new_word:\n",
    "            final_document.append(new_word)\n",
    "            if final_document:\n",
    "                corpus_dict[index] = final_document"
   ]
  },
  {
   "cell_type": "markdown",
   "metadata": {},
   "source": [
    "Diesen Korpus gehen wir nun Text für Text durch, wenden unsere vorher erstellte Funktion zum finden von Sentimentwörtern auf jede Rede an und speichern alle relevanten Daten, wie die Anzahl der Sentimentwörter oder die Parteizugehörigkeit des Redners, in einer Dictionary-Variable."
   ]
  },
  {
   "cell_type": "code",
   "execution_count": 42,
   "metadata": {
    "collapsed": false
   },
   "outputs": [
    {
     "name": "stdout",
     "output_type": "stream",
     "text": [
      "Index: 0  Positive_Word_Count: 64  Negative_Word_Count: 2\n",
      "Index: 2000  Positive_Word_Count: 40  Negative_Word_Count: 1\n",
      "Index: 4000  Positive_Word_Count: 49  Negative_Word_Count: 2\n",
      "Index: 6000  Positive_Word_Count: 14  Negative_Word_Count: 5\n",
      "Index: 8000  Positive_Word_Count: 19  Negative_Word_Count: 4\n",
      "Index: 10000  Positive_Word_Count: 47  Negative_Word_Count: 5\n",
      "Index: 12000  Positive_Word_Count: 35  Negative_Word_Count: 3\n",
      "Index: 14000  Positive_Word_Count: 21  Negative_Word_Count: 5\n",
      "Index: 16000  Positive_Word_Count: 33  Negative_Word_Count: 3\n",
      "Index: 18000  Positive_Word_Count: 37  Negative_Word_Count: 2\n",
      "Index: 20000  Positive_Word_Count: 27  Negative_Word_Count: 4\n",
      "Index: 22000  Positive_Word_Count: 21  Negative_Word_Count: 18\n",
      "Index: 24000  Positive_Word_Count: 29  Negative_Word_Count: 3\n",
      "Index: 26000  Positive_Word_Count: 16  Negative_Word_Count: 12\n",
      "Index: 28000  Positive_Word_Count: 26  Negative_Word_Count: 4\n",
      "Index: 30000  Positive_Word_Count: 46  Negative_Word_Count: 6\n",
      "Index: 32000  Positive_Word_Count: 18  Negative_Word_Count: 8\n",
      "Index: 34000  Positive_Word_Count: 52  Negative_Word_Count: 3\n",
      "Index: 36000  Positive_Word_Count: 61  Negative_Word_Count: 6\n",
      "Index: 38000  Positive_Word_Count: 16  Negative_Word_Count: 3\n",
      "Index: 40000  Positive_Word_Count: 47  Negative_Word_Count: 1\n",
      "Index: 42000  Positive_Word_Count: 6  Negative_Word_Count: 8\n",
      "Index: 44000  Positive_Word_Count: 9  Negative_Word_Count: 3\n",
      "Index: 46000  Positive_Word_Count: 39  Negative_Word_Count: 3\n"
     ]
    }
   ],
   "source": [
    "sentiment_dict = {}\n",
    "\n",
    "for index,document in corpus_dict.items():\n",
    "    sentiment_counts = get_sentiment_counts_from_document(document,positive_political_terms,negative_political_terms)\n",
    "    positive_word_count = len(sentiment_counts[\"positive_words\"])\n",
    "    negative_word_count = len(sentiment_counts[\"negative_words\"])\n",
    "    last_item_filename = corpus.filenames[index].split(\"\\\\\")[-1]\n",
    "    speaker = last_item_filename.split(\"_\")[1].strip()\n",
    "    date = last_item_filename.split(\"_\")[3].replace(\".txt\",\"\").strip()\n",
    "    sentiment_dict[index] = {\"Positive_Word_Count\": positive_word_count,\n",
    "                             \"Negative_Word_Count\": negative_word_count,\n",
    "                             \"Party\": corpus.target_names[corpus.target[index]],\n",
    "                             \"Date\": date, \n",
    "                             \"Speaker\": speaker,\n",
    "                             \"Raw_Positive_Words\":sentiment_counts[\"positive_words\"],\n",
    "                             \"Raw_Negative_Words\":sentiment_counts[\"negative_words\"],\n",
    "                             \"Document_Length\":len(document),\n",
    "                             \"Length_Sentiment_Words\": positive_word_count + negative_word_count\n",
    "                            }\n",
    "    if index % 2000 == 0:\n",
    "        print(\"Index: {}  Positive_Word_Count: {}  Negative_Word_Count: {}\".format(index,positive_word_count,negative_word_count))"
   ]
  },
  {
   "cell_type": "markdown",
   "metadata": {},
   "source": [
    "Aus diesem Dictionary lässt sich leicht unser finaler Datensatz mittels pandas erstellen."
   ]
  },
  {
   "cell_type": "code",
   "execution_count": 43,
   "metadata": {
    "collapsed": false
   },
   "outputs": [
    {
     "data": {
      "text/html": [
       "<div>\n",
       "<style>\n",
       "    .dataframe thead tr:only-child th {\n",
       "        text-align: right;\n",
       "    }\n",
       "\n",
       "    .dataframe thead th {\n",
       "        text-align: left;\n",
       "    }\n",
       "\n",
       "    .dataframe tbody tr th {\n",
       "        vertical-align: top;\n",
       "    }\n",
       "</style>\n",
       "<table border=\"1\" class=\"dataframe\">\n",
       "  <thead>\n",
       "    <tr style=\"text-align: right;\">\n",
       "      <th></th>\n",
       "      <th>Raw_Negative_Words</th>\n",
       "      <th>Raw_Positive_Words</th>\n",
       "      <th>Party</th>\n",
       "      <th>...</th>\n",
       "      <th>Positive_Word_Count</th>\n",
       "      <th>Negative_Word_Count</th>\n",
       "      <th>Date</th>\n",
       "    </tr>\n",
       "  </thead>\n",
       "  <tbody>\n",
       "    <tr>\n",
       "      <th>0</th>\n",
       "      <td>[teilweise, vertreibungen]</td>\n",
       "      <td>[kraft, gauck, zusammenhalt, solidarität, hera...</td>\n",
       "      <td>CDU</td>\n",
       "      <td>...</td>\n",
       "      <td>64</td>\n",
       "      <td>2</td>\n",
       "      <td>13.06.2013</td>\n",
       "    </tr>\n",
       "    <tr>\n",
       "      <th>1</th>\n",
       "      <td>[darstellungen, aufständischen, anhaltende, ge...</td>\n",
       "      <td>[positive, engagements, ausbildung, verantwort...</td>\n",
       "      <td>SPD</td>\n",
       "      <td>...</td>\n",
       "      <td>50</td>\n",
       "      <td>5</td>\n",
       "      <td>09.07.2010</td>\n",
       "    </tr>\n",
       "    <tr>\n",
       "      <th>2</th>\n",
       "      <td>[militarisierung, militarisierung, kritiken, a...</td>\n",
       "      <td>[sinn, einsatz, hilfe, weitergehenden, wissen,...</td>\n",
       "      <td>DIE LINKE</td>\n",
       "      <td>...</td>\n",
       "      <td>14</td>\n",
       "      <td>4</td>\n",
       "      <td>18.06.2003</td>\n",
       "    </tr>\n",
       "    <tr>\n",
       "      <th>3</th>\n",
       "      <td>[]</td>\n",
       "      <td>[wahrheit, wahrheit, wahrheit, wahrheit, wisse...</td>\n",
       "      <td>SPD</td>\n",
       "      <td>...</td>\n",
       "      <td>24</td>\n",
       "      <td>0</td>\n",
       "      <td>27.09.2012</td>\n",
       "    </tr>\n",
       "    <tr>\n",
       "      <th>4</th>\n",
       "      <td>[brisanz, klimakatastrophe]</td>\n",
       "      <td>[gefühl, zusammenhalt, zusammenhalt, ergebnis,...</td>\n",
       "      <td>GRÜNE</td>\n",
       "      <td>...</td>\n",
       "      <td>19</td>\n",
       "      <td>2</td>\n",
       "      <td>27.01.2016</td>\n",
       "    </tr>\n",
       "  </tbody>\n",
       "</table>\n",
       "<p>5 rows × 9 columns</p>\n",
       "</div>"
      ],
      "text/plain": [
       "                                  Raw_Negative_Words  \\\n",
       "0                         [teilweise, vertreibungen]   \n",
       "1  [darstellungen, aufständischen, anhaltende, ge...   \n",
       "2  [militarisierung, militarisierung, kritiken, a...   \n",
       "3                                                 []   \n",
       "4                        [brisanz, klimakatastrophe]   \n",
       "\n",
       "                                  Raw_Positive_Words      Party     ...      \\\n",
       "0  [kraft, gauck, zusammenhalt, solidarität, hera...        CDU     ...       \n",
       "1  [positive, engagements, ausbildung, verantwort...        SPD     ...       \n",
       "2  [sinn, einsatz, hilfe, weitergehenden, wissen,...  DIE LINKE     ...       \n",
       "3  [wahrheit, wahrheit, wahrheit, wahrheit, wisse...        SPD     ...       \n",
       "4  [gefühl, zusammenhalt, zusammenhalt, ergebnis,...      GRÜNE     ...       \n",
       "\n",
       "  Positive_Word_Count  Negative_Word_Count        Date  \n",
       "0                  64                    2  13.06.2013  \n",
       "1                  50                    5  09.07.2010  \n",
       "2                  14                    4  18.06.2003  \n",
       "3                  24                    0  27.09.2012  \n",
       "4                  19                    2  27.01.2016  \n",
       "\n",
       "[5 rows x 9 columns]"
      ]
     },
     "execution_count": 43,
     "metadata": {},
     "output_type": "execute_result"
    }
   ],
   "source": [
    "sentiment_df = pd.DataFrame.from_dict(sentiment_dict,orient=\"index\")\n",
    "sentiment_df.head()"
   ]
  },
  {
   "cell_type": "markdown",
   "metadata": {},
   "source": [
    "Zum weiteren Arbeiten mit dem Datensatz sind noch einige Modikfationen notwendig. Das Datum wird von einem string in ein für pandas verständliches Datetime Object umgewandelt. Außerdem erstellen wir eine weitere Kolumne für die Anzahl negativer Wörter, die nicht negativ sein kann (falls in einem Text die Anzahl Null beträgt wird stattdessen eine Eins als Wert eingesetzt). Dies dient der besseren Berechenbarkeit des Verhältnisses von positiven zu negativen Wörtern, da sonst besonders positive Texte, in denen kein einziges negatives Wort vorkommt, von der Berechnung ausgeschlossen werden müssten (dividieren durch Null). Für die Einzelbetrachtung von positiven und negativen Wörtern wird natürlich wieder der ursprüngliche Wert genutzt."
   ]
  },
  {
   "cell_type": "code",
   "execution_count": 44,
   "metadata": {
    "collapsed": false
   },
   "outputs": [],
   "source": [
    "from datetime import datetime\n",
    "\n",
    "sentiment_df[\"Date\"] = [datetime.strptime(value,\"%d.%m.%Y\") for value in sentiment_df[\"Date\"]]\n",
    "sentiment_df[\"Negative_Word_Count_NonZero\"] = sentiment_df[\"Negative_Word_Count\"]\n",
    "sentiment_df.loc[sentiment_df[\"Negative_Word_Count_NonZero\"] == 0,\"Negative_Word_Count_NonZero\"] = 1\n",
    "sentiment_df[\"Relation_Positive_per_Negative\"] = sentiment_df[\"Positive_Word_Count\"] / sentiment_df[\"Negative_Word_Count_NonZero\"]"
   ]
  },
  {
   "cell_type": "markdown",
   "metadata": {},
   "source": [
    "Nun legen wir noch das Datum der Rede als Zeilenindex des Datensatzes fest. Das hat den Vorteil, dass die in Pandas integrierte Plot-Methode automatisch mit einer sinnvollen Darstellung des Zeitverlaufes der Daten arbeitet."
   ]
  },
  {
   "cell_type": "code",
   "execution_count": 45,
   "metadata": {
    "collapsed": true
   },
   "outputs": [],
   "source": [
    "sentiment_df.reset_index(inplace=True)\n",
    "sentiment_df.set_index(\"Date\",inplace=True)"
   ]
  },
  {
   "cell_type": "code",
   "execution_count": 46,
   "metadata": {
    "collapsed": false
   },
   "outputs": [
    {
     "data": {
      "text/html": [
       "<div>\n",
       "<style>\n",
       "    .dataframe thead tr:only-child th {\n",
       "        text-align: right;\n",
       "    }\n",
       "\n",
       "    .dataframe thead th {\n",
       "        text-align: left;\n",
       "    }\n",
       "\n",
       "    .dataframe tbody tr th {\n",
       "        vertical-align: top;\n",
       "    }\n",
       "</style>\n",
       "<table border=\"1\" class=\"dataframe\">\n",
       "  <thead>\n",
       "    <tr style=\"text-align: right;\">\n",
       "      <th></th>\n",
       "      <th>index</th>\n",
       "      <th>Raw_Negative_Words</th>\n",
       "      <th>Raw_Positive_Words</th>\n",
       "      <th>...</th>\n",
       "      <th>Negative_Word_Count</th>\n",
       "      <th>Negative_Word_Count_NonZero</th>\n",
       "      <th>Relation_Positive_per_Negative</th>\n",
       "    </tr>\n",
       "    <tr>\n",
       "      <th>Date</th>\n",
       "      <th></th>\n",
       "      <th></th>\n",
       "      <th></th>\n",
       "      <th></th>\n",
       "      <th></th>\n",
       "      <th></th>\n",
       "      <th></th>\n",
       "    </tr>\n",
       "  </thead>\n",
       "  <tbody>\n",
       "    <tr>\n",
       "      <th>2013-06-13</th>\n",
       "      <td>0</td>\n",
       "      <td>[teilweise, vertreibungen]</td>\n",
       "      <td>[kraft, gauck, zusammenhalt, solidarität, hera...</td>\n",
       "      <td>...</td>\n",
       "      <td>2</td>\n",
       "      <td>2</td>\n",
       "      <td>32.0</td>\n",
       "    </tr>\n",
       "    <tr>\n",
       "      <th>2010-07-09</th>\n",
       "      <td>1</td>\n",
       "      <td>[darstellungen, aufständischen, anhaltende, ge...</td>\n",
       "      <td>[positive, engagements, ausbildung, verantwort...</td>\n",
       "      <td>...</td>\n",
       "      <td>5</td>\n",
       "      <td>5</td>\n",
       "      <td>10.0</td>\n",
       "    </tr>\n",
       "    <tr>\n",
       "      <th>2003-06-18</th>\n",
       "      <td>2</td>\n",
       "      <td>[militarisierung, militarisierung, kritiken, a...</td>\n",
       "      <td>[sinn, einsatz, hilfe, weitergehenden, wissen,...</td>\n",
       "      <td>...</td>\n",
       "      <td>4</td>\n",
       "      <td>4</td>\n",
       "      <td>3.5</td>\n",
       "    </tr>\n",
       "    <tr>\n",
       "      <th>2012-09-27</th>\n",
       "      <td>3</td>\n",
       "      <td>[]</td>\n",
       "      <td>[wahrheit, wahrheit, wahrheit, wahrheit, wisse...</td>\n",
       "      <td>...</td>\n",
       "      <td>0</td>\n",
       "      <td>1</td>\n",
       "      <td>24.0</td>\n",
       "    </tr>\n",
       "    <tr>\n",
       "      <th>2016-01-27</th>\n",
       "      <td>4</td>\n",
       "      <td>[brisanz, klimakatastrophe]</td>\n",
       "      <td>[gefühl, zusammenhalt, zusammenhalt, ergebnis,...</td>\n",
       "      <td>...</td>\n",
       "      <td>2</td>\n",
       "      <td>2</td>\n",
       "      <td>9.5</td>\n",
       "    </tr>\n",
       "  </tbody>\n",
       "</table>\n",
       "<p>5 rows × 11 columns</p>\n",
       "</div>"
      ],
      "text/plain": [
       "            index                                 Raw_Negative_Words  \\\n",
       "Date                                                                   \n",
       "2013-06-13      0                         [teilweise, vertreibungen]   \n",
       "2010-07-09      1  [darstellungen, aufständischen, anhaltende, ge...   \n",
       "2003-06-18      2  [militarisierung, militarisierung, kritiken, a...   \n",
       "2012-09-27      3                                                 []   \n",
       "2016-01-27      4                        [brisanz, klimakatastrophe]   \n",
       "\n",
       "                                           Raw_Positive_Words  \\\n",
       "Date                                                            \n",
       "2013-06-13  [kraft, gauck, zusammenhalt, solidarität, hera...   \n",
       "2010-07-09  [positive, engagements, ausbildung, verantwort...   \n",
       "2003-06-18  [sinn, einsatz, hilfe, weitergehenden, wissen,...   \n",
       "2012-09-27  [wahrheit, wahrheit, wahrheit, wahrheit, wisse...   \n",
       "2016-01-27  [gefühl, zusammenhalt, zusammenhalt, ergebnis,...   \n",
       "\n",
       "                         ...               Negative_Word_Count  \\\n",
       "Date                     ...                                     \n",
       "2013-06-13               ...                                 2   \n",
       "2010-07-09               ...                                 5   \n",
       "2003-06-18               ...                                 4   \n",
       "2012-09-27               ...                                 0   \n",
       "2016-01-27               ...                                 2   \n",
       "\n",
       "           Negative_Word_Count_NonZero  Relation_Positive_per_Negative  \n",
       "Date                                                                    \n",
       "2013-06-13                           2                            32.0  \n",
       "2010-07-09                           5                            10.0  \n",
       "2003-06-18                           4                             3.5  \n",
       "2012-09-27                           1                            24.0  \n",
       "2016-01-27                           2                             9.5  \n",
       "\n",
       "[5 rows x 11 columns]"
      ]
     },
     "execution_count": 46,
     "metadata": {},
     "output_type": "execute_result"
    }
   ],
   "source": [
    "sentiment_df.head()"
   ]
  },
  {
   "cell_type": "code",
   "execution_count": 47,
   "metadata": {
    "collapsed": true
   },
   "outputs": [],
   "source": [
    "import numpy as np\n",
    "\n",
    "sentiment_df = sentiment_df.replace([np.inf, -np.inf], np.nan)\n",
    "sentiment_df = sentiment_df.dropna()"
   ]
  },
  {
   "cell_type": "markdown",
   "metadata": {},
   "source": [
    "Als letzten Schritt ordnen wir die Reden Wahlperioden zu und berechnen Anteile von positiven und negativen Wörtern im Verhältniss zu allen Wörtern einer Rede."
   ]
  },
  {
   "cell_type": "code",
   "execution_count": 48,
   "metadata": {
    "collapsed": false
   },
   "outputs": [],
   "source": [
    "from datetime import datetime\n",
    "\n",
    "periode_dict = {18: (datetime.strptime(\"13.02.2014\",\"%d.%m.%Y\"), datetime.strptime(\"05.09.2017\",\"%d.%m.%Y\") ),\n",
    "                17: (datetime.strptime(\"10.11.2009\",\"%d.%m.%Y\"), datetime.strptime(\"03.09.2013\",\"%d.%m.%Y\") ),\n",
    "                16: (datetime.strptime(\"08.11.2005\",\"%d.%m.%Y\"), datetime.strptime(\"08.09.2009\",\"%d.%m.%Y\") ),\n",
    "                15: (datetime.strptime(\"29.10.2002\",\"%d.%m.%Y\"), datetime.strptime(\"28.09.2005\",\"%d.%m.%Y\") ),\n",
    "                14: (datetime.strptime(\"10.11.1998\",\"%d.%m.%Y\"), datetime.strptime(\"13.09.2002\",\"%d.%m.%Y\") )\n",
    "                }\n",
    "\n",
    "periode = []\n",
    "\n",
    "for speech_date in sentiment_df.index:\n",
    "    for key,value in periode_dict.items():\n",
    "        if speech_date >= value[0] and speech_date <= value[1]:\n",
    "            periode.append(key)\n",
    "            break\n",
    "                      \n",
    "sentiment_df[\"Wahlperiode\"] = periode\n",
    "\n"
   ]
  },
  {
   "cell_type": "code",
   "execution_count": 49,
   "metadata": {
    "collapsed": false
   },
   "outputs": [
    {
     "data": {
      "text/html": [
       "<div>\n",
       "<style>\n",
       "    .dataframe thead tr:only-child th {\n",
       "        text-align: right;\n",
       "    }\n",
       "\n",
       "    .dataframe thead th {\n",
       "        text-align: left;\n",
       "    }\n",
       "\n",
       "    .dataframe tbody tr th {\n",
       "        vertical-align: top;\n",
       "    }\n",
       "</style>\n",
       "<table border=\"1\" class=\"dataframe\">\n",
       "  <thead>\n",
       "    <tr style=\"text-align: right;\">\n",
       "      <th></th>\n",
       "      <th>index</th>\n",
       "      <th>Raw_Negative_Words</th>\n",
       "      <th>Raw_Positive_Words</th>\n",
       "      <th>...</th>\n",
       "      <th>Wahlperiode</th>\n",
       "      <th>Proportion_Positive_Words</th>\n",
       "      <th>Proportion_Negative_Words</th>\n",
       "    </tr>\n",
       "    <tr>\n",
       "      <th>Date</th>\n",
       "      <th></th>\n",
       "      <th></th>\n",
       "      <th></th>\n",
       "      <th></th>\n",
       "      <th></th>\n",
       "      <th></th>\n",
       "      <th></th>\n",
       "    </tr>\n",
       "  </thead>\n",
       "  <tbody>\n",
       "    <tr>\n",
       "      <th>2013-06-13</th>\n",
       "      <td>0</td>\n",
       "      <td>[teilweise, vertreibungen]</td>\n",
       "      <td>[kraft, gauck, zusammenhalt, solidarität, hera...</td>\n",
       "      <td>...</td>\n",
       "      <td>17</td>\n",
       "      <td>0.070175</td>\n",
       "      <td>0.002193</td>\n",
       "    </tr>\n",
       "    <tr>\n",
       "      <th>2010-07-09</th>\n",
       "      <td>1</td>\n",
       "      <td>[darstellungen, aufständischen, anhaltende, ge...</td>\n",
       "      <td>[positive, engagements, ausbildung, verantwort...</td>\n",
       "      <td>...</td>\n",
       "      <td>17</td>\n",
       "      <td>0.043630</td>\n",
       "      <td>0.004363</td>\n",
       "    </tr>\n",
       "    <tr>\n",
       "      <th>2003-06-18</th>\n",
       "      <td>2</td>\n",
       "      <td>[militarisierung, militarisierung, kritiken, a...</td>\n",
       "      <td>[sinn, einsatz, hilfe, weitergehenden, wissen,...</td>\n",
       "      <td>...</td>\n",
       "      <td>15</td>\n",
       "      <td>0.028112</td>\n",
       "      <td>0.008032</td>\n",
       "    </tr>\n",
       "    <tr>\n",
       "      <th>2012-09-27</th>\n",
       "      <td>3</td>\n",
       "      <td>[]</td>\n",
       "      <td>[wahrheit, wahrheit, wahrheit, wahrheit, wisse...</td>\n",
       "      <td>...</td>\n",
       "      <td>17</td>\n",
       "      <td>0.025696</td>\n",
       "      <td>0.000000</td>\n",
       "    </tr>\n",
       "    <tr>\n",
       "      <th>2016-01-27</th>\n",
       "      <td>4</td>\n",
       "      <td>[brisanz, klimakatastrophe]</td>\n",
       "      <td>[gefühl, zusammenhalt, zusammenhalt, ergebnis,...</td>\n",
       "      <td>...</td>\n",
       "      <td>18</td>\n",
       "      <td>0.025435</td>\n",
       "      <td>0.002677</td>\n",
       "    </tr>\n",
       "  </tbody>\n",
       "</table>\n",
       "<p>5 rows × 14 columns</p>\n",
       "</div>"
      ],
      "text/plain": [
       "            index                                 Raw_Negative_Words  \\\n",
       "Date                                                                   \n",
       "2013-06-13      0                         [teilweise, vertreibungen]   \n",
       "2010-07-09      1  [darstellungen, aufständischen, anhaltende, ge...   \n",
       "2003-06-18      2  [militarisierung, militarisierung, kritiken, a...   \n",
       "2012-09-27      3                                                 []   \n",
       "2016-01-27      4                        [brisanz, klimakatastrophe]   \n",
       "\n",
       "                                           Raw_Positive_Words  \\\n",
       "Date                                                            \n",
       "2013-06-13  [kraft, gauck, zusammenhalt, solidarität, hera...   \n",
       "2010-07-09  [positive, engagements, ausbildung, verantwort...   \n",
       "2003-06-18  [sinn, einsatz, hilfe, weitergehenden, wissen,...   \n",
       "2012-09-27  [wahrheit, wahrheit, wahrheit, wahrheit, wisse...   \n",
       "2016-01-27  [gefühl, zusammenhalt, zusammenhalt, ergebnis,...   \n",
       "\n",
       "                      ...             Wahlperiode Proportion_Positive_Words  \\\n",
       "Date                  ...                                                     \n",
       "2013-06-13            ...                      17                  0.070175   \n",
       "2010-07-09            ...                      17                  0.043630   \n",
       "2003-06-18            ...                      15                  0.028112   \n",
       "2012-09-27            ...                      17                  0.025696   \n",
       "2016-01-27            ...                      18                  0.025435   \n",
       "\n",
       "            Proportion_Negative_Words  \n",
       "Date                                   \n",
       "2013-06-13                   0.002193  \n",
       "2010-07-09                   0.004363  \n",
       "2003-06-18                   0.008032  \n",
       "2012-09-27                   0.000000  \n",
       "2016-01-27                   0.002677  \n",
       "\n",
       "[5 rows x 14 columns]"
      ]
     },
     "execution_count": 49,
     "metadata": {},
     "output_type": "execute_result"
    }
   ],
   "source": [
    "sentiment_df[\"Proportion_Positive_Words\"] = sentiment_df[\"Positive_Word_Count\"] / sentiment_df[\"Document_Length\"]\n",
    "sentiment_df[\"Proportion_Negative_Words\"] = sentiment_df[\"Negative_Word_Count\"] / sentiment_df[\"Document_Length\"]\n",
    "\n",
    "\n",
    "sentiment_df.head()"
   ]
  },
  {
   "cell_type": "markdown",
   "metadata": {},
   "source": [
    "Auch diesen Datensatz, der die Bundestagsreden mit Sentimentwerten kombiniert, speichern wir für zukünftige Arbeiten als CSV-Datei ab."
   ]
  },
  {
   "cell_type": "code",
   "execution_count": 50,
   "metadata": {
    "collapsed": true
   },
   "outputs": [],
   "source": [
    "sentiment_df.to_csv(\"Sentiment_df_classification_FPProb_incl14_Morph.csv\",sep=\";\",encoding=\"utf-8\")"
   ]
  },
  {
   "cell_type": "code",
   "execution_count": 51,
   "metadata": {
    "collapsed": false
   },
   "outputs": [],
   "source": [
    "sentiment_df = pd.DataFrame.from_csv(\"Sentiment_df_classification_FPProb_incl14_Morph.csv\",sep=\";\")"
   ]
  },
  {
   "cell_type": "markdown",
   "metadata": {},
   "source": [
    "### 5.2 Visualisierungen"
   ]
  },
  {
   "cell_type": "markdown",
   "metadata": {},
   "source": [
    "Jetzt können wir endlich zur Visualisierung unserer Daten kommen und uns ein Bild von der \"Stimmung\" im Bundestag machen. Als erstes das Verhältnis von positiven zu negativen Wörtern im Zeitverlauf."
   ]
  },
  {
   "cell_type": "code",
   "execution_count": 52,
   "metadata": {
    "collapsed": true
   },
   "outputs": [],
   "source": [
    "period_end_list = [\"13.09.2002\",\"28.09.2005\",\"08.09.2009\",\"03.09.2013\"]\n",
    "period_end_list = pd.to_datetime(period_end_list, format='%d.%m.%Y')"
   ]
  },
  {
   "cell_type": "code",
   "execution_count": 53,
   "metadata": {
    "collapsed": false
   },
   "outputs": [
    {
     "data": {
      "image/png": "[encoded data removed]",
      "text/plain": [
       "<matplotlib.figure.Figure at 0x24f197cf240>"
      ]
     },
     "metadata": {},
     "output_type": "display_data"
    }
   ],
   "source": [
    "import matplotlib\n",
    "import matplotlib.pyplot as plt\n",
    "\n",
    "\n",
    "%matplotlib inline\n",
    "\n",
    "matplotlib.style.use('seaborn-paper')\n",
    "\n",
    "\n",
    "timeline_plot = sentiment_df.resample(\"12M\").mean()[\"Relation_Positive_per_Negative\"].plot(color=\"#5C82CC\",linewidth=3)\n",
    "timeline_plot.set_xlabel(\"Jahr\")\n",
    "timeline_plot.set_ylabel(\"Positive Wörter pro negativem Wort\",size=10)\n",
    "timeline_plot.set_ylim(9,16)\n",
    "timeline_plot.figure.set_size_inches(13,8)\n",
    "timeline_plot.tick_params(labelsize=9)\n",
    "xmin, xmax = timeline_plot.get_xlim()\n",
    "ymin, ymax = timeline_plot.get_ylim()\n",
    "timeline_plot.xaxis.label.set_visible(False)\n",
    "\n",
    "plt.figtext(.125,0.92,'Wie positiv sind Bundestagsreden?', fontsize=17, ha='left', weight=\"bold\")\n",
    "plt.figtext(.125,.89,\"Jährliche Durschnittswerte der Anzahl positiver Wörter pro negativem Wort in Bundestagsreden.\", fontsize=13, ha='left')\n",
    "\n",
    "\n",
    "ymin, ymax = timeline_plot.get_ylim()\n",
    "timeline_plot.vlines(x=period_end_list ,ymin=ymin,ymax = ymax,linestyles=\"dashed\",color=\"gray\")\n",
    "\n",
    "\n",
    "plt.text(358, 9.07, \"14. Wahlperiode\", size=9, color=\"gray\")\n",
    "plt.text(399, 9.07, \"15. Wahlperiode\", size=9, color=\"gray\")\n",
    "plt.text(441, 9.07, \"16. Wahlperiode\", size=9, color=\"gray\")\n",
    "plt.text(488, 9.07, \"17. Wahlperiode\", size=9, color=\"gray\")\n",
    "plt.text(536, 9.07, \"18. Wahlperiode\", size=9, color=\"gray\")\n",
    "\n",
    "plt.savefig('PositivePerNegative_Jährlich.png',bbox_inches=\"tight\")"
   ]
  },
  {
   "cell_type": "markdown",
   "metadata": {},
   "source": [
    "Die vertikalen grauen Linien markieren das Ende einer Wahlperiode. Bei der Betrachtung des Verlaufs sticht besonders die schlechtere Stimmung in der 14. und 17. Wahlperiode heraus. Im Vergleich zu den anderen drei Zeiträumen scheint hier das durchschnittliche Verhältnis von positiven Wörtern pro negativem Wort wesentlich niedriger gewesen zu sein. Gleichzeitig zeigt der Trend von der 14. bis inklusive der 16. Wahlperiode nach oben, die Stimmung fängt also auf niedrigem Stand an und erholt sich im weiteren Verlauf etwas. Der negative Trendverlauf, der Ende der 16. Wahlperiode beginnt und sich über die gesamte 17. Wahlperiode fortsetzt, spiegelt vermutlich vor allem die Eurokrise wider, die 2009 ihren Anfang nahm."
   ]
  },
  {
   "cell_type": "code",
   "execution_count": 54,
   "metadata": {
    "collapsed": false
   },
   "outputs": [
    {
     "data": {
      "image/png": "[encoded data removed]",
      "text/plain": [
       "<matplotlib.figure.Figure at 0x2501aac18d0>"
      ]
     },
     "metadata": {},
     "output_type": "display_data"
    }
   ],
   "source": [
    "timeline_plot = sentiment_df.resample(\"12M\").mean()[\"Proportion_Positive_Words\"].plot(color=\"#5C82CC\",linewidth=3)\n",
    "timeline_plot.set_xlabel(\"Jahr\")\n",
    "timeline_plot.set_ylabel(\"Anteil an allen Wörtern\",size=10)\n",
    "timeline_plot.set_ylim(0.03,0.04)\n",
    "timeline_plot.figure.set_size_inches(13,8)\n",
    "timeline_plot.tick_params(labelsize=9)\n",
    "xmin, xmax = timeline_plot.get_xlim()\n",
    "ymin, ymax = timeline_plot.get_ylim()\n",
    "timeline_plot.xaxis.label.set_visible(False)\n",
    "\n",
    "plt.figtext(.125,0.92,'Wie positiv sind Bundestagsreden?', fontsize=17, ha='left', weight=\"bold\")\n",
    "plt.figtext(.125,.89,\"Jährliche Durschnittswerte des Anteils positiver Wörter an allen in Bundestagsreden verwendeten Wörtern.\", fontsize=13, ha='left')\n",
    "\n",
    "\n",
    "ymin, ymax = timeline_plot.get_ylim()\n",
    "timeline_plot.vlines(x=period_end_list ,ymin=ymin,ymax = ymax,linestyles=\"dashed\",color=\"gray\")\n",
    "\n",
    "\n",
    "plt.text(358, 0.0301, \"14. Wahlperiode\", size=9, color=\"gray\")\n",
    "plt.text(399, 0.0301, \"15. Wahlperiode\", size=9, color=\"gray\")\n",
    "plt.text(441, 0.0301, \"16. Wahlperiode\", size=9, color=\"gray\")\n",
    "plt.text(488, 0.0301, \"17. Wahlperiode\", size=9, color=\"gray\")\n",
    "plt.text(536, 0.0301, \"18. Wahlperiode\", size=9, color=\"gray\")\n",
    "\n",
    "plt.savefig('ProportionPositive_Jährlich.png',bbox_inches=\"tight\")"
   ]
  },
  {
   "cell_type": "markdown",
   "metadata": {},
   "source": [
    "Die Darstellung des Anteils positiver Wörtern an der Gesamtzahl aller Wörter in den Reden macht den zuvor besprochenen Trend in der 17. Wahlperiode deutlicher. Bereits Mitte der 16. Wahlperiode nimmt die Menge positiver Wörter in Bundestagsreden ab und erreicht Ende der 17./ Anfang der 18. Wahlperiode den tiefsten Wert im gesamten dargestellten Zeitraum. "
   ]
  },
  {
   "cell_type": "code",
   "execution_count": 55,
   "metadata": {
    "collapsed": false
   },
   "outputs": [
    {
     "data": {
      "image/png": "[encoded data removed]",
      "text/plain": [
       "<matplotlib.figure.Figure at 0x24e8c0cb7f0>"
      ]
     },
     "metadata": {},
     "output_type": "display_data"
    }
   ],
   "source": [
    "timeline_plot = sentiment_df.resample(\"12M\").mean()[\"Proportion_Negative_Words\"].plot(color=\"#5C82CC\",linewidth=3)\n",
    "timeline_plot.set_xlabel(\"Jahr\")\n",
    "timeline_plot.set_ylabel(\"Anteil an allen Wörtern\",size=10)\n",
    "timeline_plot.set_ylim(0.004,0.007)\n",
    "timeline_plot.figure.set_size_inches(13,8)\n",
    "timeline_plot.tick_params(labelsize=9)\n",
    "xmin, xmax = timeline_plot.get_xlim()\n",
    "ymin, ymax = timeline_plot.get_ylim()\n",
    "timeline_plot.xaxis.label.set_visible(False)\n",
    "\n",
    "plt.figtext(.125,0.92,'Wie negativ sind Bundestagsreden?', fontsize=17, ha='left', weight=\"bold\")\n",
    "plt.figtext(.125,.89,\"Jährliche Durschnittswerte des Anteils negativer Wörter an allen in Bundestagsreden verwendeten Wörtern.\", fontsize=13, ha='left')\n",
    "\n",
    "\n",
    "ymin, ymax = timeline_plot.get_ylim()\n",
    "timeline_plot.vlines(x=period_end_list ,ymin=ymin,ymax = ymax,linestyles=\"dashed\",color=\"gray\")\n",
    "\n",
    "\n",
    "plt.text(358, 0.00403, \"14. Wahlperiode\", size=9, color=\"gray\")\n",
    "plt.text(399, 0.00403, \"15. Wahlperiode\", size=9, color=\"gray\")\n",
    "plt.text(441, 0.00403, \"16. Wahlperiode\", size=9, color=\"gray\")\n",
    "plt.text(488, 0.00403, \"17. Wahlperiode\", size=9, color=\"gray\")\n",
    "plt.text(536, 0.00403, \"18. Wahlperiode\", size=9, color=\"gray\")\n",
    "\n",
    "plt.savefig('ProportionNegative_Jährlich.png',bbox_inches=\"tight\")"
   ]
  },
  {
   "cell_type": "markdown",
   "metadata": {},
   "source": [
    "Der Anteil negativer Wörter weist einen leicht U-förmigen Verlauf auf. Die 14. Wahlperiode beginnt relativ negativ, über die 15. und 16. Wahlperiode nimmt der Anteil dann jedoch ab und erreicht Mitte der 16. Wahlperiode seinen tiefsten Punkt. Um 2009 setzt dann ein gegenläufiger Trend ein (Eurokrise), der in der 18. Wahlperiode dann nochmal einen deutlichen Sprung nach oben vollzieht."
   ]
  },
  {
   "cell_type": "markdown",
   "metadata": {},
   "source": [
    "Als nächstes betrachten wir die Sentimentverteilung detailierter und differenzieren zwischen Parteien und Wahlperioden."
   ]
  },
  {
   "cell_type": "code",
   "execution_count": 62,
   "metadata": {
    "collapsed": false
   },
   "outputs": [
    {
     "data": {
      "image/png": "[encoded data removed]",
      "text/plain": [
       "<matplotlib.figure.Figure at 0x2501a259c88>"
      ]
     },
     "metadata": {},
     "output_type": "display_data"
    }
   ],
   "source": [
    "import seaborn as sns\n",
    "\n",
    "muted_color = sns.color_palette(\"muted\")\n",
    "set1 = sns.color_palette(\"deep\", n_colors=8)\n",
    "\n",
    "sns.set_style(\"white\")\n",
    "\n",
    "#sns.set(font_scale=1.1)\n",
    "fig, ax = plt.subplots(figsize=(13,8))\n",
    "\n",
    "boxpl = sns.boxplot(x=\"Wahlperiode\", y=\"Relation_Positive_per_Negative\", hue=\"Party\", data=sentiment_df,ax=ax,palette={\"SPD\":set1[2] ,\"CDU\":\"grey\",\"DIE LINKE\": set1[3],\"GRÜNE\":set1[1],\"FDP\":set1[4],\"CSU\":set1[5]},hue_order=[\"DIE LINKE\",\"GRÜNE\",\"SPD\",\"FDP\",\"CDU\",\"CSU\"])\n",
    "boxpl.set_ylim(0,50)\n",
    "boxpl.set_ylabel(\"Positive Wörter pro negativem Wort\", size=10)\n",
    "boxpl.set_xlabel(\"Wahlperiode\", size=10)\n",
    "#boxpl.set_title(\"Wieviele positive Wörter kommen pro negativem Wort in einer Bundestagsrede vor?\\nSentiment-Verteilung pro Wahlperiode und differenziert nach Parteien\",size=19)\n",
    "\n",
    "plt.figtext(.125,0.92,'Wie positiv sind die einzelnen Parteien?', fontsize=17, ha='left', weight=\"bold\")\n",
    "plt.figtext(.125,.89,\"Verhältnis von positiven zu negativen Wörtern bei den einzelnen Parteien differenziert nach Wahlperiode.\", fontsize=13, ha='left')\n",
    "\n",
    "plt.legend(bbox_to_anchor=(1, 1),fontsize=10)\n",
    "\n",
    "\n",
    "fig = boxpl.get_figure()\n",
    "fig.savefig(\"sentiment_boxplots_positive_per_negative_german_Period.png\",bbox_inches=\"tight\") "
   ]
  },
  {
   "cell_type": "markdown",
   "metadata": {},
   "source": [
    "Bei dieser Darstellung sticht sofort die Trennlinie zwischen Regierungs-/Oppositionssprache ins Auge: Anhand der Stimmungsverteilung der einzelnen Parteien lässt sich leicht ablesen, wer an der Regierung beteiligt war und wer nicht. Während in der 14. und 15. Wahlperiode  vor allem die SPD mit großen Anteilen im höheren positiven Bereich auffällt, sind dies auch die einzigen Wahlperioden, in der die Grünen eine positivere Verteilung als die CDU und die CSU aufweisen. In der 16. und 18. Wahlperiode sind es dann SPD, CDU und CSU, deren Mediane mit Abstand den höchsten Wert aufweisen. Spannend dabei ist auch, dass die FDP die \"positivste\" Oppositionspartei zu sein scheint: In ihren drei Oppositions-Wahlperioden sind Median und Anteil an höheren Werten größer, als bei den Reden, die Grüne und Linkspartei aus der Rolle der Opposition heraus halten."
   ]
  },
  {
   "cell_type": "code",
   "execution_count": 64,
   "metadata": {
    "collapsed": false
   },
   "outputs": [
    {
     "data": {
      "image/png": "[encoded data removed]",
      "text/plain": [
       "<matplotlib.figure.Figure at 0x2501bec91d0>"
      ]
     },
     "metadata": {},
     "output_type": "display_data"
    }
   ],
   "source": [
    "sns.set_style(\"white\")\n",
    "\n",
    "muted_color = sns.color_palette(\"muted\")\n",
    "set1 = sns.color_palette(\"deep\", n_colors=8)\n",
    "\n",
    "#sns.set(font_scale=1.1)\n",
    "fig, ax = plt.subplots(figsize=(13,8))\n",
    "\n",
    "boxpl = sns.boxplot(x=\"Party\", y=\"Relation_Positive_per_Negative\", hue=\"Wahlperiode\", data=sentiment_df,ax=ax,palette=set1)\n",
    "boxpl.set_ylim(0,50)\n",
    "boxpl.set_ylabel(\"Positive Wörter pro negativem Wort\",size=10)\n",
    "boxpl.set_xlabel(\"Partei\",size=10)\n",
    "#boxpl.set_title(\"Wieviele positive Wörter kommen pro negativem Wort in einer Bundestagsrede vor?\\nSentiment-Verteilung pro Wahlperiode und differenziert nach Parteien\",size=19)\n",
    "\n",
    "plt.figtext(.125,0.92,'Wie positiv sind die einzelnen Parteien?', fontsize=17, ha='left', weight=\"bold\")\n",
    "plt.figtext(.125,.89,\"Verhältnis von positiven zu negativen Wörtern bei den einzelnen Parteien differenziert nach Wahlperiode.\", fontsize=13, ha='left')\n",
    "\n",
    "plt.legend(bbox_to_anchor=(1, 1),fontsize=10)\n",
    "\n",
    "\n",
    "fig = boxpl.get_figure()\n",
    "fig.savefig(\"sentiment_boxplots_positive_per_negative_german_Partei.png\",bbox_inches=\"tight\") "
   ]
  },
  {
   "cell_type": "markdown",
   "metadata": {},
   "source": [
    "Gruppiert nach Partei und diese differenziert nach Wahlperiode sieht man den Effekt, den die Regierungs- oder Oppositionsrolle auf die Stimmung der gehaltenen Reden haben, besonders klar. Bei der SPD fällt die 17. Wahlperiode, bei CDU und CSU die 14. und 15. Wahlperiode aus dem Rahmen. Die Grünen sind logischerweise in ihren Oppositionsjahren (Periode 16.- 18.) negativer, als in den beiden Wahlperioden zuvor, zeigen darüber hinaus aber auch in ihren Oppositionsjahren einen leichten negativen Trend. Spannenderweise lässt sich auch ein Trend zu etwas weniger positivem Sentiment in den Regierungsjahren der CSU beobachten. SPD und CDU erscheinen dagegen relativ konstant in der Sentimentverteilung während ihrer Regierungsbeteiligung."
   ]
  }
 ],
 "metadata": {
  "anaconda-cloud": {},
  "kernelspec": {
   "display_name": "Python [conda root]",
   "language": "python",
   "name": "conda-root-py"
  },
  "language_info": {
   "codemirror_mode": {
    "name": "ipython",
    "version": 3
   },
   "file_extension": ".py",
   "mimetype": "text/x-python",
   "name": "python",
   "nbconvert_exporter": "python",
   "pygments_lexer": "ipython3",
   "version": "3.5.2"
  },
  "nikola": {
   "category": "Politik",
   "date": "2017-10-29 21:09:01 UTC+10:00",
   "description": "Mit Hilfe eines Word2Vec-Modells wird ein eigenes Sentimentwörterbuch erstellt, das dann genutzt wird, um die vorherrschende Stimmung im Bundestag der letzten vier Wahlperioden zu analysieren.",
   "slug": "sentimentanalyse-deutscher-bundestag",
   "tags": "Python, Text-Analytics, Classification, Machine Learning, Politik, scikit-learn, pandas, Sentimentanalysis, seaborn, Word2Vec, gensim",
   "title": "Sentimentanalyse des Deutschen Bundestages"
  }
 },
 "nbformat": 4,
 "nbformat_minor": 1
}
